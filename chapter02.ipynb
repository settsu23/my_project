{
 "cells": [
  {
   "cell_type": "code",
   "execution_count": 1,
   "id": "c84898d0-c52c-4e08-bc1c-49414674e865",
   "metadata": {},
   "outputs": [
    {
     "data": {
      "text/plain": [
       "3"
      ]
     },
     "execution_count": 1,
     "metadata": {},
     "output_type": "execute_result"
    }
   ],
   "source": [
    "1 + 2"
   ]
  },
  {
   "cell_type": "code",
   "execution_count": 2,
   "id": "32cbca97-ee39-46cc-b108-cdc8164c4dee",
   "metadata": {},
   "outputs": [
    {
     "data": {
      "text/plain": [
       "0.6"
      ]
     },
     "execution_count": 2,
     "metadata": {},
     "output_type": "execute_result"
    }
   ],
   "source": [
    "(1 + 2 * 3 - 4) / 5"
   ]
  },
  {
   "cell_type": "markdown",
   "id": "d1044028-e3b5-42c1-9d5a-355cb48a3264",
   "metadata": {},
   "source": [
    "# 四則演算\n",
    "shift + Enter で実行"
   ]
  },
  {
   "cell_type": "code",
   "execution_count": null,
   "id": "0f5d8b03-3c2c-4263-94ff-dafb2eb211d0",
   "metadata": {},
   "outputs": [],
   "source": []
  }
 ],
 "metadata": {
  "kernelspec": {
   "display_name": "Python 3 (ipykernel)",
   "language": "python",
   "name": "python3"
  },
  "language_info": {
   "codemirror_mode": {
    "name": "ipython",
    "version": 3
   },
   "file_extension": ".py",
   "mimetype": "text/x-python",
   "name": "python",
   "nbconvert_exporter": "python",
   "pygments_lexer": "ipython3",
   "version": "3.11.7"
  }
 },
 "nbformat": 4,
 "nbformat_minor": 5
}
