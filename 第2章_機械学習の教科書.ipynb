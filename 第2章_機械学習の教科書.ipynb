{
 "cells": [
  {
   "cell_type": "markdown",
   "id": "d1044028-e3b5-42c1-9d5a-355cb48a3264",
   "metadata": {},
   "source": [
    "# 2.1 四則演算"
   ]
  },
  {
   "cell_type": "markdown",
   "id": "8d0fe54b-bc0d-49ed-8a3d-24589c33dcf6",
   "metadata": {},
   "source": [
    "2.1.1 四則演算の利用"
   ]
  },
  {
   "cell_type": "code",
   "execution_count": 1,
   "id": "c84898d0-c52c-4e08-bc1c-49414674e865",
   "metadata": {},
   "outputs": [
    {
     "data": {
      "text/plain": [
       "3"
      ]
     },
     "execution_count": 1,
     "metadata": {},
     "output_type": "execute_result"
    }
   ],
   "source": [
    "1 + 2"
   ]
  },
  {
   "cell_type": "code",
   "execution_count": 2,
   "id": "32cbca97-ee39-46cc-b108-cdc8164c4dee",
   "metadata": {},
   "outputs": [
    {
     "data": {
      "text/plain": [
       "0.6"
      ]
     },
     "execution_count": 2,
     "metadata": {},
     "output_type": "execute_result"
    }
   ],
   "source": [
    "(1 + 2 * 3 - 4) / 5"
   ]
  },
  {
   "cell_type": "markdown",
   "id": "c33c1784-3c87-4bbe-aa70-790e06a40c6e",
   "metadata": {},
   "source": [
    "2.1.2 累乗"
   ]
  },
  {
   "cell_type": "markdown",
   "id": "a85020b1-f571-4b44-86bf-688c71335a79",
   "metadata": {},
   "source": [
    "累乗は**を使って表す"
   ]
  },
  {
   "cell_type": "code",
   "execution_count": 3,
   "id": "0795b7ef-cdd6-4d8a-95da-f154ba9730f4",
   "metadata": {},
   "outputs": [
    {
     "data": {
      "text/plain": [
       "256"
      ]
     },
     "execution_count": 3,
     "metadata": {},
     "output_type": "execute_result"
    }
   ],
   "source": [
    "2**8"
   ]
  },
  {
   "cell_type": "markdown",
   "id": "667b9bcc-3894-40d8-af66-1ef2c3615d4b",
   "metadata": {},
   "source": [
    "# 2.2 変数"
   ]
  },
  {
   "cell_type": "markdown",
   "id": "0cfe9735-548d-4281-9fd0-2fc70c5af6af",
   "metadata": {},
   "source": [
    "2.2.1 変数を利用した計算"
   ]
  },
  {
   "cell_type": "code",
   "execution_count": 4,
   "id": "c1d25112-6852-4e9c-867d-53d6422349a8",
   "metadata": {},
   "outputs": [
    {
     "data": {
      "text/plain": [
       "1.3333333333333333"
      ]
     },
     "execution_count": 4,
     "metadata": {},
     "output_type": "execute_result"
    }
   ],
   "source": [
    "x = 1\n",
    "y = 1/3\n",
    "x + y"
   ]
  },
  {
   "cell_type": "markdown",
   "id": "8c3c0dbd-ca19-4103-acf9-3af1798236da",
   "metadata": {},
   "source": [
    "2.2.2 変数名の表記"
   ]
  },
  {
   "cell_type": "markdown",
   "id": "b6a935a3-055b-41c1-8f78-a4f2efff2183",
   "metadata": {},
   "source": [
    "変数名にはアルファベットや数字、アンダースコア_を使うことが出来る。\n",
    "ただし、変数名のはじめの文字には数字は使えない。"
   ]
  },
  {
   "cell_type": "code",
   "execution_count": 5,
   "id": "07c75728-0c0d-466a-b52d-ce022445fd27",
   "metadata": {},
   "outputs": [
    {
     "data": {
      "text/plain": [
       "0.8"
      ]
     },
     "execution_count": 5,
     "metadata": {},
     "output_type": "execute_result"
    }
   ],
   "source": [
    "Data_1 = 1/5\n",
    "Data_2 = 3/5\n",
    "Data_1 + Data_2"
   ]
  },
  {
   "cell_type": "markdown",
   "id": "b1be8ca5-0c29-4165-a0a0-27e5dbee6d09",
   "metadata": {},
   "source": [
    "# 2.3 型"
   ]
  },
  {
   "cell_type": "markdown",
   "id": "fd20b148-7d1f-4405-bb06-ffa0d6e6b089",
   "metadata": {},
   "source": [
    "2.3.1 型の種類"
   ]
  },
  {
   "cell_type": "markdown",
   "id": "7447a145-9e52-4596-b679-3f3d2325fcfe",
   "metadata": {},
   "source": [
    "型＝データの種類のこと"
   ]
  },
  {
   "cell_type": "markdown",
   "id": "aa2ac7c5-6209-4d0e-8bbf-32b981f641ee",
   "metadata": {},
   "source": [
    "2.3.2 型の調査"
   ]
  },
  {
   "cell_type": "markdown",
   "id": "dbc14e0b-0b4d-4f57-91e1-160ee4f49d4a",
   "metadata": {},
   "source": [
    "整数はint型が使われる"
   ]
  },
  {
   "cell_type": "code",
   "execution_count": 6,
   "id": "48bb0ae4-9688-4b21-a276-fce7df0c3e6f",
   "metadata": {},
   "outputs": [
    {
     "data": {
      "text/plain": [
       "int"
      ]
     },
     "execution_count": 6,
     "metadata": {},
     "output_type": "execute_result"
    }
   ],
   "source": [
    "type(100)"
   ]
  },
  {
   "cell_type": "markdown",
   "id": "353c998a-4d51-45e3-bb97-05ace07a3164",
   "metadata": {},
   "source": [
    "小数点を持つ実数はfloat型が使われる"
   ]
  },
  {
   "cell_type": "code",
   "execution_count": 7,
   "id": "36a14511-92f3-4f78-bf6c-d0a01a52061c",
   "metadata": {},
   "outputs": [
    {
     "data": {
      "text/plain": [
       "float"
      ]
     },
     "execution_count": 7,
     "metadata": {},
     "output_type": "execute_result"
    }
   ],
   "source": [
    "type(100.1)"
   ]
  },
  {
   "cell_type": "code",
   "execution_count": 8,
   "id": "04538d74-2c65-4016-b8a6-1ff3a08d2950",
   "metadata": {},
   "outputs": [
    {
     "data": {
      "text/plain": [
       "int"
      ]
     },
     "execution_count": 8,
     "metadata": {},
     "output_type": "execute_result"
    }
   ],
   "source": [
    "x = 100\n",
    "type(x)"
   ]
  },
  {
   "cell_type": "code",
   "execution_count": 9,
   "id": "1c26c279-b9a3-460f-8d10-a469fe8d552c",
   "metadata": {},
   "outputs": [
    {
     "data": {
      "text/plain": [
       "float"
      ]
     },
     "execution_count": 9,
     "metadata": {},
     "output_type": "execute_result"
    }
   ],
   "source": [
    "x = 100.1\n",
    "type(x)"
   ]
  },
  {
   "cell_type": "markdown",
   "id": "58cefc4c-23c8-4eae-94f9-7089c0387f62",
   "metadata": {},
   "source": [
    "2.3.3 文字列"
   ]
  },
  {
   "cell_type": "markdown",
   "id": "2c7339d4-ccdd-42fc-bf80-2d08c362e4ee",
   "metadata": {},
   "source": [
    "文字列を扱うにはstr型が使われる"
   ]
  },
  {
   "cell_type": "code",
   "execution_count": 10,
   "id": "fa4d24d9-bd7b-49ae-9247-501926386ec1",
   "metadata": {},
   "outputs": [
    {
     "data": {
      "text/plain": [
       "str"
      ]
     },
     "execution_count": 10,
     "metadata": {},
     "output_type": "execute_result"
    }
   ],
   "source": [
    "x = 'learning'\n",
    "type(x)"
   ]
  },
  {
   "cell_type": "markdown",
   "id": "933a20d4-de62-46b1-9aa4-7a0351d96846",
   "metadata": {},
   "source": [
    "上記のように、'(シングルクォーテーション)や ''(ダブルクォーテーション)で囲むことで文字列として認識される。"
   ]
  },
  {
   "cell_type": "markdown",
   "id": "59a7ea1e-f9bf-4b0d-8876-95bcef0e6217",
   "metadata": {},
   "source": [
    "# 2.4 print 文"
   ]
  },
  {
   "cell_type": "markdown",
   "id": "c7776d83-272b-422f-b022-1d9ec0e5a700",
   "metadata": {},
   "source": [
    "2.4.1 print 文の利用"
   ]
  },
  {
   "cell_type": "code",
   "execution_count": 11,
   "id": "583c715d-da91-4f06-af18-fa423322004e",
   "metadata": {},
   "outputs": [
    {
     "data": {
      "text/plain": [
       "0.6666666666666666"
      ]
     },
     "execution_count": 11,
     "metadata": {},
     "output_type": "execute_result"
    }
   ],
   "source": [
    "x = 1/3\n",
    "x\n",
    "y = 2/3\n",
    "y"
   ]
  },
  {
   "cell_type": "markdown",
   "id": "302e7418-0869-4895-8026-af7495988a5e",
   "metadata": {},
   "source": [
    "最後の行に限らず変数を表示したい場合には、printを使う。"
   ]
  },
  {
   "cell_type": "code",
   "execution_count": 12,
   "id": "954c635a-a812-47a2-a4f6-7caf8cc436a5",
   "metadata": {
    "scrolled": true
   },
   "outputs": [
    {
     "name": "stdout",
     "output_type": "stream",
     "text": [
      "0.3333333333333333\n",
      "0.6666666666666666\n"
     ]
    }
   ],
   "source": [
    "x = 1/3\n",
    "print(x)\n",
    "y = 2/3\n",
    "print(y)"
   ]
  },
  {
   "cell_type": "markdown",
   "id": "6fd8935c-5d0e-425f-9778-11b8581c866c",
   "metadata": {},
   "source": [
    "2.4.2 文字列と組み合わせた数値の表示1"
   ]
  },
  {
   "cell_type": "markdown",
   "id": "12446623-94f8-429c-933a-3d4bbadd64a6",
   "metadata": {},
   "source": [
    "文字列と組み合わせて表示したい場合には、例えば以下のコマンドで表示する。"
   ]
  },
  {
   "cell_type": "code",
   "execution_count": 13,
   "id": "3afd5b4a-ee64-4837-a483-39c4e66b769e",
   "metadata": {},
   "outputs": [
    {
     "name": "stdout",
     "output_type": "stream",
     "text": [
      "x= 0.3333333333333333\n"
     ]
    }
   ],
   "source": [
    "print('x= ' + str(x))"
   ]
  },
  {
   "cell_type": "markdown",
   "id": "8fab66d8",
   "metadata": {},
   "source": [
    "文字を表示したいときはstrを使う"
   ]
  },
  {
   "cell_type": "markdown",
   "id": "82ba0106-bf62-4816-bb50-73a295f27dc4",
   "metadata": {},
   "source": [
    "上記のstr(x)は、float型のxをstr型に変換する。そして、'x=' + str(x)によって、2つのstr型が連結される。''+''はint型やfloat型だと足し算の意味になるが、str型では連結として働く。"
   ]
  },
  {
   "cell_type": "markdown",
   "id": "7641b3e7-d1ff-4990-8acf-86682ed0a54d",
   "metadata": {},
   "source": [
    "2.4.3 文字列と組み合わせた数値の表示2"
   ]
  },
  {
   "cell_type": "markdown",
   "id": "c665f101-735f-49dd-8eb7-f0857488c04d",
   "metadata": {},
   "source": [
    "文字列と組み合わせる別の方法として、formatも便利である。"
   ]
  },
  {
   "cell_type": "code",
   "execution_count": 14,
   "id": "d905d15a-2f27-4acf-a990-17898c217f92",
   "metadata": {},
   "outputs": [
    {
     "name": "stdout",
     "output_type": "stream",
     "text": [
      "weight = 0.3333333333333333 kg\n"
     ]
    }
   ],
   "source": [
    "print('weight = {0} kg'.format(x))"
   ]
  },
  {
   "cell_type": "markdown",
   "id": "3f2c0809",
   "metadata": {},
   "source": [
    "変数を文字で挟みたいときはformatを使う"
   ]
  },
  {
   "cell_type": "markdown",
   "id": "3d85951f-5d11-40eb-97d1-c9570bf0cbf4",
   "metadata": {},
   "source": [
    "print()の中は、'文字列'.format(x)となっているが、これは「文字列の中の{0}の部分をxの中身で置き換える」という意味である。'文字列'とformat(x)の間に''.''があることに注意せよ。"
   ]
  },
  {
   "cell_type": "markdown",
   "id": "4d3048f4-b930-42a8-8fec-0edbcdbaf7fd",
   "metadata": {},
   "source": [
    "複数の変数を表示したい場合には、文字列中に{0}、{1}、{2}で指定する。"
   ]
  },
  {
   "cell_type": "code",
   "execution_count": 15,
   "id": "047a1dd0-0eaa-4ccc-9dca-1a3cdec36f0c",
   "metadata": {},
   "outputs": [
    {
     "name": "stdout",
     "output_type": "stream",
     "text": [
      "weight: 0.3333333333333333 kg, 0.14285714285714285 kg, 0.25 kg\n"
     ]
    }
   ],
   "source": [
    "x = 1/3\n",
    "y = 1/7\n",
    "z = 1/4\n",
    "print('weight: {0} kg, {1} kg, {2} kg'.format(x,y,z))"
   ]
  },
  {
   "cell_type": "markdown",
   "id": "2152fc2f-db78-4b64-a6e3-2158d5bba8ca",
   "metadata": {},
   "source": [
    "{数値 :.nf}とすれば、小数点以下n桁までの表示になる。例えば、float型の小数点以下2桁まで表示したい場合には、{通し番号 :.2f}とする。"
   ]
  },
  {
   "cell_type": "code",
   "execution_count": 16,
   "id": "312b7e12-8297-43c1-b4d5-3deb0c46b580",
   "metadata": {},
   "outputs": [
    {
     "name": "stdout",
     "output_type": "stream",
     "text": [
      "weight: x=0.33 kg, y=0.14 kg, z=0.25 kg\n"
     ]
    }
   ],
   "source": [
    "print('weight: x={0:.2f} kg, y={1:.2f} kg, z={2:.2f} kg'.format(x,y,z))"
   ]
  },
  {
   "cell_type": "markdown",
   "id": "e64cc9d3-bf28-4af6-8036-7aabd851beb2",
   "metadata": {},
   "source": [
    "# 2.5 list(リスト、配列変数）"
   ]
  },
  {
   "cell_type": "markdown",
   "id": "ad026fdf-5231-4a9b-bcaf-f34f2766c822",
   "metadata": {},
   "source": [
    "2.5.1 listの利用"
   ]
  },
  {
   "cell_type": "markdown",
   "id": "58b37f2d-7582-4a17-aa84-7159a73a3bcf",
   "metadata": {},
   "source": [
    "数のデータを1つのまとまりとして扱いたい、つまり、配列変数を使い場合には\n",
    "list(リスト)型を使います。listは、 []を使ってます。"
   ]
  },
  {
   "cell_type": "code",
   "execution_count": 17,
   "id": "3f67dede-155a-408d-8a18-3c1479a59d85",
   "metadata": {},
   "outputs": [
    {
     "name": "stdout",
     "output_type": "stream",
     "text": [
      "[1, 1, 2, 3, 5]\n"
     ]
    }
   ],
   "source": [
    "x = [1, 1, 2, 3, 5] #listの定義\n",
    "print(x) #表示"
   ]
  },
  {
   "cell_type": "markdown",
   "id": "c91b32c5-0ec6-43c2-bcfa-16b878fa48e9",
   "metadata": {},
   "source": [
    "各成分は ×[要素番号]で参照する(見る)ことができる。Pythonでは、配列の要素番号(インデックス)は0から始まる。"
   ]
  },
  {
   "cell_type": "code",
   "execution_count": 18,
   "id": "112858c5-7543-4951-9b57-bd24a571cb1e",
   "metadata": {},
   "outputs": [
    {
     "data": {
      "text/plain": [
       "1"
      ]
     },
     "execution_count": 18,
     "metadata": {},
     "output_type": "execute_result"
    }
   ],
   "source": [
    "x[0]"
   ]
  },
  {
   "cell_type": "code",
   "execution_count": 19,
   "id": "ffe2a800-c06f-48ee-a849-b653baee7ebb",
   "metadata": {},
   "outputs": [
    {
     "data": {
      "text/plain": [
       "5"
      ]
     },
     "execution_count": 19,
     "metadata": {},
     "output_type": "execute_result"
    }
   ],
   "source": [
    "x[4]"
   ]
  },
  {
   "cell_type": "markdown",
   "id": "ae2f6fa7-a253-4e25-9f97-19282f395191",
   "metadata": {},
   "source": [
    "以下のように入力すると、×はlist型、×[]はint型であることがわかる。"
   ]
  },
  {
   "cell_type": "code",
   "execution_count": 20,
   "id": "c956c9cc-7f38-4f14-b9cc-55d767890480",
   "metadata": {},
   "outputs": [
    {
     "name": "stdout",
     "output_type": "stream",
     "text": [
      "<class 'list'>\n",
      "<class 'int'>\n"
     ]
    }
   ],
   "source": [
    "print(type(x))\n",
    "print(type(x[0]))"
   ]
  },
  {
   "cell_type": "markdown",
   "id": "190fc0c9-694a-4943-949c-60e30b783a6f",
   "metadata": {},
   "source": [
    "つまり、×は、int型から構成されるlist型だと理解できる。list型は、str型でも作ることが出来る。また、以下のように異なる型を混在させることもできる。"
   ]
  },
  {
   "cell_type": "code",
   "execution_count": 21,
   "id": "069ccdac-d307-41be-8ae7-37122997be39",
   "metadata": {},
   "outputs": [
    {
     "name": "stdout",
     "output_type": "stream",
     "text": [
      "<class 'str'>\n",
      "<class 'int'>\n"
     ]
    }
   ],
   "source": [
    "s=['SUN', 1, 'MON', 2]\n",
    "print(type(s[0]))\n",
    "print(type(s[3]))"
   ]
  },
  {
   "cell_type": "markdown",
   "id": "c3a18ec8-445b-4b47-889f-334a448a9443",
   "metadata": {},
   "source": [
    "2.5.2 2次元の配列"
   ]
  },
  {
   "cell_type": "markdown",
   "id": "236ed533-20c7-416e-ae86-be437d3c2729",
   "metadata": {},
   "source": [
    "その他、list型の更にlist型を作ることで、2次元の配列を作ることもできる。"
   ]
  },
  {
   "cell_type": "code",
   "execution_count": 22,
   "id": "66c24e26-e23e-43a9-87a0-66aa884132bb",
   "metadata": {},
   "outputs": [
    {
     "name": "stdout",
     "output_type": "stream",
     "text": [
      "[[1, 2, 3], [4, 5, 6]]\n"
     ]
    }
   ],
   "source": [
    "a=[[1, 2, 3], [4, 5, 6]]\n",
    "print(a)"
   ]
  },
  {
   "cell_type": "markdown",
   "id": "d0f13740-51aa-4e87-8896-e7a84a928cec",
   "metadata": {},
   "source": [
    "以下のコードのように、要素の参照は、変数名[i][j]のようにする。"
   ]
  },
  {
   "cell_type": "code",
   "execution_count": 23,
   "id": "a5ce78e9-1cff-4fc1-8139-8da6992e005a",
   "metadata": {},
   "outputs": [
    {
     "name": "stdout",
     "output_type": "stream",
     "text": [
      "6\n"
     ]
    }
   ],
   "source": [
    "a=[[1, 2, 3], [4, 5, 6]]\n",
    "print(a[1][2])"
   ]
  },
  {
   "cell_type": "markdown",
   "id": "fe6b41f9-e3bf-40c5-83dc-3b5cb2ae2717",
   "metadata": {},
   "source": [
    "3次元配列、4次元配列も入れ子の深さを増やして作ることができる。listの要素の書き換えは、×[要素番号]=書き換える数値で行える。"
   ]
  },
  {
   "cell_type": "code",
   "execution_count": 24,
   "id": "da676960-8182-4921-ac2c-fb5f495f13ea",
   "metadata": {},
   "outputs": [
    {
     "name": "stdout",
     "output_type": "stream",
     "text": [
      "[1, 1, 2, 100, 5]\n"
     ]
    }
   ],
   "source": [
    "x=[1, 1, 2, 3, 5]\n",
    "x[3]=100\n",
    "print(x)"
   ]
  },
  {
   "cell_type": "markdown",
   "id": "42830ca8-c1d8-4462-906b-987d0e183cb9",
   "metadata": {},
   "source": [
    "2.5.3 listの長さ"
   ]
  },
  {
   "cell_type": "markdown",
   "id": "8be70b5a-7461-4c0b-b72b-c8f766190406",
   "metadata": {},
   "source": [
    "listの長さは、lenで調べることができる。"
   ]
  },
  {
   "cell_type": "code",
   "execution_count": 25,
   "id": "1c9994c2-020b-4700-a787-5348e5278f7c",
   "metadata": {},
   "outputs": [
    {
     "data": {
      "text/plain": [
       "5"
      ]
     },
     "execution_count": 25,
     "metadata": {},
     "output_type": "execute_result"
    }
   ],
   "source": [
    "x=[1, 1, 2, 3, 5]\n",
    "len(x)"
   ]
  },
  {
   "cell_type": "markdown",
   "id": "ce9e8c7f-4ac4-4f6a-a842-c383ab006c96",
   "metadata": {},
   "source": [
    "2.5.4 連続した整数のデータの作成"
   ]
  },
  {
   "cell_type": "markdown",
   "id": "4da4b74b-6361-4531-8e5b-06ddacb48238",
   "metadata": {},
   "source": [
    "5から9までなど、連続した整数のデータを作るには、range(はじめの数,終わりの数+1)を使う。"
   ]
  },
  {
   "cell_type": "code",
   "execution_count": 26,
   "id": "f57c0bbc-5933-4023-8e07-797c01df20d9",
   "metadata": {},
   "outputs": [
    {
     "name": "stdout",
     "output_type": "stream",
     "text": [
      "2 3 4 5 6 8\n"
     ]
    }
   ],
   "source": [
    "y = range(2,10)\n",
    "print(y[0], y[1], y[2], y[3], y[4], y[6])"
   ]
  },
  {
   "cell_type": "markdown",
   "id": "1234df97-b0eb-41fd-8cd0-b120d1cfff2e",
   "metadata": {},
   "source": [
    "yはlist型に似ているが、実は少し違う。range型と呼ばれるメモリ―を節約した形のデータ型なのである。yそのものを表示させると、次のようになり、[5,6,7,8,9] と表示されない。"
   ]
  },
  {
   "cell_type": "code",
   "execution_count": 27,
   "id": "ccba8b27-842b-4efd-9371-c53c25f6d032",
   "metadata": {},
   "outputs": [
    {
     "name": "stdout",
     "output_type": "stream",
     "text": [
      "range(2, 10)\n"
     ]
    }
   ],
   "source": [
    "print(y)"
   ]
  },
  {
   "cell_type": "markdown",
   "id": "2fa49854-087f-4b94-ba6c-c8d005838515",
   "metadata": {},
   "source": [
    "range型は、list型と同様な方法で要素を参照することができるが、要素を書き換えることはできません。例えば、range型に対してy[2]=2とするとエラーが出る。\n",
    "range型はlistを使って要素が書き換えられるlist型に変換することができる。"
   ]
  },
  {
   "cell_type": "code",
   "execution_count": 28,
   "id": "f4a4f9a3-16c7-434b-a40d-48d4e4b9caa1",
   "metadata": {},
   "outputs": [
    {
     "name": "stdout",
     "output_type": "stream",
     "text": [
      "[5, 6, 7, 8, 9]\n"
     ]
    }
   ],
   "source": [
    "z=list(range(5,10))\n",
    "print(z)"
   ]
  },
  {
   "cell_type": "markdown",
   "id": "b0fb147b-ba5f-4955-b427-de2ab91dcfb4",
   "metadata": {},
   "source": [
    "はじめの数を省略して、range(終わりの数+1)とすると、0から始まる数列になる。"
   ]
  },
  {
   "cell_type": "code",
   "execution_count": 29,
   "id": "b5dd99b6-9291-4e6e-9461-0f8d0b2d6ae8",
   "metadata": {},
   "outputs": [
    {
     "data": {
      "text/plain": [
       "[0, 1, 2, 3, 4, 5, 6, 7, 8, 9]"
      ]
     },
     "execution_count": 29,
     "metadata": {},
     "output_type": "execute_result"
    }
   ],
   "source": [
    "list(range(10))"
   ]
  },
  {
   "cell_type": "markdown",
   "id": "7e14c11b-b19d-481c-af2f-fe155e87e705",
   "metadata": {},
   "source": [
    "# 2.6 tuple (タプル)"
   ]
  },
  {
   "cell_type": "markdown",
   "id": "b10c5e50-de16-4faf-a261-106f97f83904",
   "metadata": {},
   "source": [
    "2.6.1 tupleの利用"
   ]
  },
  {
   "cell_type": "markdown",
   "id": "5809cd07-40da-494d-bad8-62a9cd92f783",
   "metadata": {},
   "source": [
    "配列を表す型に、list型に加えてtuple型という配列変数なるものがあります。tupleはlistとは異なり要素を書き換えることはできないです。tuple型は、(1,2,3)などと、()を使って配列を表します。"
   ]
  },
  {
   "cell_type": "code",
   "execution_count": 30,
   "id": "90a84174-be8c-4d3c-bc76-980bd44011e9",
   "metadata": {},
   "outputs": [
    {
     "name": "stdout",
     "output_type": "stream",
     "text": [
      "(1, 2, 3)\n"
     ]
    }
   ],
   "source": [
    "a=(1, 2, 3)\n",
    "print(a)"
   ]
  },
  {
   "cell_type": "markdown",
   "id": "8e94c5b7-5eb7-4d60-b05d-34939f0e2bf0",
   "metadata": {},
   "source": [
    "2.6.2 要素の参照"
   ]
  },
  {
   "cell_type": "markdown",
   "id": "0cf61efd-37a5-4e8c-b46e-57d1c5dc5e4a",
   "metadata": {},
   "source": [
    "要素の参照は、list型と同様です。"
   ]
  },
  {
   "cell_type": "code",
   "execution_count": 31,
   "id": "efba424b-c549-428b-9f2f-579432ccf8f0",
   "metadata": {},
   "outputs": [
    {
     "data": {
      "text/plain": [
       "2"
      ]
     },
     "execution_count": 31,
     "metadata": {},
     "output_type": "execute_result"
    }
   ],
   "source": [
    "a[1]"
   ]
  },
  {
   "cell_type": "markdown",
   "id": "95565424-0922-4dde-99c7-a6b2869ac64b",
   "metadata": {},
   "source": [
    "参照には()ではなく、list型と同様に[]を使うことに注意してください。tupleは書き換えができないので、a[1]=2などとするとエラーが出ます。それでは、listとtupleはどう使い分けされているのでしょうか?\n",
    "とりあえず、自分で定義するときには、書き換えが可能なlist型を使っていれば間違いがないのですが、後ほど説明する「関数」の出力が複数ある場合は、自動的にtuple としてまとめられます。また、既存の関数の入力がtupleで指定されている場合もあります。\n",
    "list型とtuple型を間違えてエラーが出ることが多々ありますので、違いを気にするようにしましょう。これもtype()で知ることができます。"
   ]
  },
  {
   "cell_type": "code",
   "execution_count": 32,
   "id": "81090db3-5b13-45e0-a181-e5f9e4bb394e",
   "metadata": {},
   "outputs": [
    {
     "data": {
      "text/plain": [
       "tuple"
      ]
     },
     "execution_count": 32,
     "metadata": {},
     "output_type": "execute_result"
    }
   ],
   "source": [
    "type(a)"
   ]
  },
  {
   "cell_type": "markdown",
   "id": "99496936-5c9b-4c17-af42-fc6bbe45c27a",
   "metadata": {},
   "source": [
    "2.6.3 長さが1のtuple"
   ]
  },
  {
   "cell_type": "markdown",
   "id": "e208d00d-5378-475b-a911-df14c1d73be2",
   "metadata": {},
   "source": [
    "ところで、(1,2)はタプルですが、(1)はtupleでしょうか。これはtupleではありません。()は、演算の順番を表す普通の括弧としてみなされます。長さが1のtupleは(1,)と\",\"を付けて区別します。"
   ]
  },
  {
   "cell_type": "code",
   "execution_count": 33,
   "id": "f39de09a-c1dd-4dd0-8376-ffc9d4df7fbd",
   "metadata": {},
   "outputs": [
    {
     "data": {
      "text/plain": [
       "int"
      ]
     },
     "execution_count": 33,
     "metadata": {},
     "output_type": "execute_result"
    }
   ],
   "source": [
    "a = (1)\n",
    "type(a)"
   ]
  },
  {
   "cell_type": "code",
   "execution_count": 34,
   "id": "f4f88c87-1a18-4d02-b539-531ef93b53d0",
   "metadata": {},
   "outputs": [
    {
     "data": {
      "text/plain": [
       "tuple"
      ]
     },
     "execution_count": 34,
     "metadata": {},
     "output_type": "execute_result"
    }
   ],
   "source": [
    "a = (1,)\n",
    "type(a)"
   ]
  },
  {
   "cell_type": "markdown",
   "id": "fe541790-2ac6-422e-a4b4-83d4f6e4633b",
   "metadata": {},
   "source": [
    "# 2.7 if文"
   ]
  },
  {
   "cell_type": "markdown",
   "id": "bcfbb793-dea6-42fc-862b-e2c07a0c4957",
   "metadata": {},
   "source": [
    "2.7.1 if文の利用"
   ]
  },
  {
   "cell_type": "markdown",
   "id": "871cbc6e-006b-4e0e-a51c-2903c9199e0e",
   "metadata": {},
   "source": [
    "プログラムの処理の流れを様々な条件で分岐させるためにif文を使います。例えば、\n",
    "以下のようにすれば、はじめの行で×=11と代入しているので、iのx>10が真値\n",
    "値(True)となり、4マス右にずれている (インデントされているが(A1と行\n",
    "A2)、すべて実行されます。"
   ]
  },
  {
   "cell_type": "code",
   "execution_count": 35,
   "id": "f5a4935c-f9d1-4bcb-a0ed-585470f079ce",
   "metadata": {},
   "outputs": [
    {
     "name": "stdout",
     "output_type": "stream",
     "text": [
      "x is 10 or more\n"
     ]
    }
   ],
   "source": [
    "x = 10\n",
    "if x >= 10:\n",
    "    print('x is 10 or more')\n",
    "else:\n",
    "    print('x is less than 10')"
   ]
  },
  {
   "cell_type": "markdown",
   "id": "60205c9c-b821-4a87-b443-c4f6db48e491",
   "metadata": {},
   "source": [
    "インデントがif文以下のまとまりを示すということです。このようにPythonではイ\n",
    "ンデントに重要な意味がありますので注意が必要です。ちなみに\"#...(A\n",
    "1)\"はコメント文です。#を使うとその後は、実行では無れます。視最さ\n",
    "初の行を×-9と書き換えれば、ifのx>10が偽值(Falsなるので、e)と\n",
    "lse:の後のprint('x is sma ler  th'an11)がます。実ところで行され\n",
    "、ifの後に続く\"×>10\"は、TrueかFalseの値をとるのデータool型\n",
    "です。そのまま打ち込めば、以下のように値できます。とがで 33"
   ]
  },
  {
   "cell_type": "code",
   "execution_count": 36,
   "id": "ed845053-9402-4022-9f6b-19ebfc12dfe8",
   "metadata": {},
   "outputs": [
    {
     "data": {
      "text/plain": [
       "False"
      ]
     },
     "execution_count": 36,
     "metadata": {},
     "output_type": "execute_result"
    }
   ],
   "source": [
    "x > 10"
   ]
  },
  {
   "cell_type": "markdown",
   "id": "4ab5121a-7b07-42c3-84dc-2c9dcd06d3c2",
   "metadata": {},
   "source": [
    "また以下のようにすれば、×>10という演算の結果の型がbool型だということがわかります。"
   ]
  },
  {
   "cell_type": "code",
   "execution_count": 37,
   "id": "5f182116-6d1e-43fa-815a-6f4316cd6344",
   "metadata": {},
   "outputs": [
    {
     "data": {
      "text/plain": [
       "bool"
      ]
     },
     "execution_count": 37,
     "metadata": {},
     "output_type": "execute_result"
    }
   ],
   "source": [
    "type(x > 10)"
   ]
  },
  {
   "cell_type": "markdown",
   "id": "3c469b3b-1e6a-438f-9ad2-82550c010726",
   "metadata": {},
   "source": [
    "if の右に書かれたbool型がTrueであれば、次の行から始まるインデントされた\n",
    "ブロックが実行され、False であればelse:以降でインデントされたブロックが実\n",
    "されるということになります。else:は省略することもできます。"
   ]
  },
  {
   "cell_type": "markdown",
   "id": "60489771-2c72-473a-a078-cad29d3fc86e",
   "metadata": {},
   "source": [
    "2.7.2 比較演算子"
   ]
  },
  {
   "cell_type": "markdown",
   "id": "1b1dd625-f316-413a-9b14-421629cbcff2",
   "metadata": {},
   "source": [
    "\">\"を比較演算子と呼びますが、if文で使う比較演算子をまとめると、表2.2の\n",
    "ようになります。これらの演算の結果はすべてbool型となります\n",
    "表2.2:比較演算子\n",
    "比較演算子 内容\n",
    "a ==b aとbが等しい\n",
    " >b\n",
    "aがbより大きい\n",
    "aがb 以上 a >=b\n",
    "aがbより小さい a<b\n",
    " aがb 以下\n",
    "a <=b\n",
    "aとbは条件なる a!=b\n",
    "牛文を重ねたい場合にはo、and(かつ)や。r(まえば、「10 <= x と x <= 20ます。例\n",
    "<<=20 が同時に満たされたとき」、とには、それう条件を使いたい場合\n",
    "らをandでつなげます。。"
   ]
  },
  {
   "cell_type": "code",
   "execution_count": 38,
   "id": "b4d9475b",
   "metadata": {},
   "outputs": [
    {
     "name": "stdout",
     "output_type": "stream",
     "text": [
      "x is between 10 and 20.\n"
     ]
    }
   ],
   "source": [
    "x = 15\n",
    "if 10 <= x and x <= 20:\n",
    "    print('x is between 10 and 20.')"
   ]
  },
  {
   "cell_type": "code",
   "execution_count": 39,
   "id": "e20d00b6-1652-4c42-a444-775479a626be",
   "metadata": {},
   "outputs": [
    {
     "name": "stdout",
     "output_type": "stream",
     "text": [
      "x is between 10 and 20.\n"
     ]
    }
   ],
   "source": [
    "x = 15\n",
    "if 10 <= x <= 20:\n",
    "    print('x is between 10 and 20.')\n",
    "elif x < 10:\n",
    "    print('x is less than 10.')\n",
    "elif 20 < x:\n",
    "    print('x is more than 20.')"
   ]
  },
  {
   "cell_type": "markdown",
   "id": "55bae5b5-d42a-415f-abe7-dae4888974f5",
   "metadata": {},
   "source": [
    "# 2.8 for文"
   ]
  },
  {
   "cell_type": "markdown",
   "id": "9e9986c3-c1a6-4834-a09d-63568b6e5290",
   "metadata": {},
   "source": [
    "2.8.1 for文の利用"
   ]
  },
  {
   "cell_type": "markdown",
   "id": "9065152b-ad8d-4a2f-9692-234ebfda9c25",
   "metadata": {},
   "source": [
    "演算を繰り返すには、for文を使います。"
   ]
  },
  {
   "cell_type": "code",
   "execution_count": 40,
   "id": "a54de115-bf0b-42fa-8f3e-59ad40ff1108",
   "metadata": {},
   "outputs": [
    {
     "name": "stdout",
     "output_type": "stream",
     "text": [
      "1\n",
      "2\n",
      "3\n"
     ]
    }
   ],
   "source": [
    "for i in [1, 2, 3]:\n",
    "    print(i)"
   ]
  },
  {
   "cell_type": "markdown",
   "id": "6037cf79-9296-415f-b3de-a134b0dc1468",
   "metadata": {},
   "source": [
    "for文は、for\"変数\"in\"list型:という形となっています。listの要素の数だけfor文以下のインデントされている行が実行されます。繰り返すたびにlistの要素が順番に\"変数\"に入ります。list型の代わりに、tuple型range型を使うこともできます。\n",
    "実践的な例として、list型の変数(num)の要素をすべて2倍にしたい場合は、for文を使って以下のように記述できます。"
   ]
  },
  {
   "cell_type": "code",
   "execution_count": 41,
   "id": "f13424e5-7a98-4ca9-83b3-d8cce90da1a3",
   "metadata": {},
   "outputs": [
    {
     "name": "stdout",
     "output_type": "stream",
     "text": [
      "[4, 8, 12, 16, 20]\n"
     ]
    }
   ],
   "source": [
    "num = [2, 4, 6, 8, 10]\n",
    "for i in range(len(num)):\n",
    "    num[i] = num[i] * 2\n",
    "print(num)"
   ]
  },
  {
   "cell_type": "code",
   "execution_count": 42,
   "id": "3debf5f3",
   "metadata": {},
   "outputs": [
    {
     "name": "stdout",
     "output_type": "stream",
     "text": [
      "[2, 6, 10, 14, 18]\n"
     ]
    }
   ],
   "source": [
    "num = [1, 3, 5, 7, 9]\n",
    "for i in range(len(num)):\n",
    "    num[i] = num[i] * 2\n",
    "print(num)"
   ]
  },
  {
   "cell_type": "markdown",
   "id": "059e00cb-706c-45cc-89bf-6d31b3a048da",
   "metadata": {},
   "source": [
    "for i in range(len(num))とすることで、1を0からnumの要素数分-1まで変化させ、num[i]の中身を順に書き換えています。"
   ]
  },
  {
   "cell_type": "markdown",
   "id": "0e440a45-e655-4384-8242-00ca64c4faf0",
   "metadata": {},
   "source": [
    "2.8.2 enumerateの利用"
   ]
  },
  {
   "cell_type": "markdown",
   "id": "56c07a65-09dd-4400-92f0-840293dcfd66",
   "metadata": {},
   "source": [
    "前述と同じ機能を、Pythonではenumerate を使って、以下のようにエレガントに\n",
    "記述できます。"
   ]
  },
  {
   "cell_type": "code",
   "execution_count": 43,
   "id": "2180410f-88fd-4c22-9ab2-e626120b40f5",
   "metadata": {},
   "outputs": [
    {
     "name": "stdout",
     "output_type": "stream",
     "text": [
      "[4, 8, 12, 16, 20]\n"
     ]
    }
   ],
   "source": [
    "num = [2, 4, 6, 8, 10]\n",
    "for i, n in enumerate(num):\n",
    "    num[i] = n * 2\n",
    "print(num)"
   ]
  },
  {
   "cell_type": "markdown",
   "id": "84bb9ed6-9380-4d3d-92e8-0700e0e24ef0",
   "metadata": {},
   "source": [
    "上記のようにすると、numのindexと num[index]の値が、iとnに入るのです。\n",
    "しかし本書では、多言語を学んできた方にもわかりやすいように、enumerateを使わない記法で統します。"
   ]
  },
  {
   "cell_type": "markdown",
   "id": "175edd0b-6d19-4a06-aa66-3f08aafb04eb",
   "metadata": {},
   "source": [
    "# 2.9 ベクトル"
   ]
  },
  {
   "cell_type": "markdown",
   "id": "2e5b7ee9-ff62-46e5-9dec-39028553df0b",
   "metadata": {},
   "source": [
    "ベクトルの数学的な意味は第4章で説明しますので、ここでは、2\n",
    "honのベクトルの扱い方を解説します。まず、list型はベクトルとして使うことができるのでしょうか。例別えば、[1,2]+[3,4]と入力したら、[4,6]のようなえが返ってくるのでしょうか？.\n",
    "もnp\n",
    "くるのでしょうか?実験してみましょう。"
   ]
  },
  {
   "cell_type": "code",
   "execution_count": 44,
   "id": "2e90064b-fc97-4fb1-a343-178d070f4120",
   "metadata": {},
   "outputs": [
    {
     "data": {
      "text/plain": [
       "[1, 2, 3, 4]"
      ]
     },
     "execution_count": 44,
     "metadata": {},
     "output_type": "execute_result"
    }
   ],
   "source": [
    "[1, 2] + [3, 4]"
   ]
  },
  {
   "cell_type": "code",
   "execution_count": 45,
   "id": "f1dbbaf0",
   "metadata": {},
   "outputs": [
    {
     "data": {
      "text/plain": [
       "[1, 3, 3, 5]"
      ]
     },
     "execution_count": 45,
     "metadata": {},
     "output_type": "execute_result"
    }
   ],
   "source": [
    "[1, 3] + [3, 5]"
   ]
  },
  {
   "cell_type": "markdown",
   "id": "254a5249-f094-449a-bf25-2e20d34490fa",
   "metadata": {},
   "source": [
    "答えは予測とは異なりました。list型は\"+演算子\"を連結として解釈するのです。str型のときと同じです。"
   ]
  },
  {
   "cell_type": "markdown",
   "id": "8fa51092-532e-48f5-bf84-10deea3724e7",
   "metadata": {},
   "source": [
    "2.9.1 numpyの利用"
   ]
  },
  {
   "cell_type": "markdown",
   "id": "bbbea7a9-9ef9-4f36-bd65-62397347567e",
   "metadata": {},
   "source": [
    "pythonで、ベクトルや行列を表すには、numpy(ナンパイ)というライブラリを読み込んで機能を拡張します。\n",
    "pytohnでは、様々なライブラリが開発されており、importで簡単に読み込むことができます。行列演算をするためのライブラリnumpyは以下のようにimportします。"
   ]
  },
  {
   "cell_type": "code",
   "execution_count": 46,
   "id": "49aa7c41-3af9-4a80-a68f-4a00bcd5cb44",
   "metadata": {},
   "outputs": [],
   "source": [
    "import numpy as np"
   ]
  },
  {
   "cell_type": "code",
   "execution_count": 47,
   "id": "72e9913f",
   "metadata": {},
   "outputs": [],
   "source": [
    "import numpy as np"
   ]
  },
  {
   "cell_type": "markdown",
   "id": "92c7924d-ac3b-44a5-815f-7511a96ceaf9",
   "metadata": {},
   "source": [
    "シンプルですね。as npの部分は、numpyをnpと省略して使うという意味です。\n",
    "ここはユーザーが好きなように決められますので、例えばnpではなく、npyとしても問題ありません。\n",
    "しかし、numpyの場合、慣習的にrp とする場合が通例となっていますので本書でもnpとします。以降、numpyの機能は、np.\"function\"という形で呼び出すことができます。"
   ]
  },
  {
   "cell_type": "markdown",
   "id": "db04263e-ba2b-43cb-9a1a-669f29f44ca1",
   "metadata": {},
   "source": [
    "2.9.2 ベクトルの定義"
   ]
  },
  {
   "cell_type": "markdown",
   "id": "a401693d-e5be-42c7-be2e-a1f34a161421",
   "metadata": {},
   "source": [
    "べクトル(1次元配列)は、np.array(1ist型)で定義します。"
   ]
  },
  {
   "cell_type": "code",
   "execution_count": 48,
   "id": "64d7225d-5e6f-4a34-93f5-84030079d61b",
   "metadata": {},
   "outputs": [
    {
     "data": {
      "text/plain": [
       "array([1, 2, 3])"
      ]
     },
     "execution_count": 48,
     "metadata": {},
     "output_type": "execute_result"
    }
   ],
   "source": [
    "x=np.array([1, 2, 3])\n",
    "x"
   ]
  },
  {
   "cell_type": "code",
   "execution_count": 49,
   "id": "d3fa4701",
   "metadata": {},
   "outputs": [
    {
     "name": "stdout",
     "output_type": "stream",
     "text": [
      "[2 4 6]\n"
     ]
    }
   ],
   "source": [
    "x = np.array([2, 4, 6])\n",
    "print(x)"
   ]
  },
  {
   "cell_type": "markdown",
   "id": "18e388ad-f917-424d-9785-850b478c611c",
   "metadata": {},
   "source": [
    "ちなみに、×をprint(×)で表示させると、以下のように要素の間の\",\"が省略され、すっきりとした表示となります。"
   ]
  },
  {
   "cell_type": "code",
   "execution_count": 50,
   "id": "3cb11a30-2f5c-465a-af3b-9eed6803987e",
   "metadata": {},
   "outputs": [
    {
     "name": "stdout",
     "output_type": "stream",
     "text": [
      "[2 4 6]\n"
     ]
    }
   ],
   "source": [
    "print(x)"
   ]
  },
  {
   "cell_type": "markdown",
   "id": "6454f403-2857-46e6-8044-40bff37d751c",
   "metadata": {},
   "source": [
    "一方、np.array型ではなくlistをprintすると要素間の\",\"は残ります。\n",
    "さて、×がベクトルであることを確認するために、yも定義して、先ほど定義したxと足してみると、以下のように表示され、×とyがベクトルとして扱われていることが確認できました。"
   ]
  },
  {
   "cell_type": "code",
   "execution_count": 51,
   "id": "f976235f-e70b-4d6e-96f2-dcccbb2a4e62",
   "metadata": {},
   "outputs": [
    {
     "name": "stdout",
     "output_type": "stream",
     "text": [
      "[ 6  9 12]\n"
     ]
    }
   ],
   "source": [
    "y=np.array([4, 5, 6])\n",
    "print(x + y)"
   ]
  },
  {
   "cell_type": "code",
   "execution_count": 52,
   "id": "f70fb143",
   "metadata": {},
   "outputs": [
    {
     "name": "stdout",
     "output_type": "stream",
     "text": [
      "Once deleted, variables cannot be recovered. Proceed (y/[n])? \n",
      "Nothing done.\n"
     ]
    }
   ],
   "source": [
    "%reset"
   ]
  },
  {
   "cell_type": "code",
   "execution_count": 53,
   "id": "e1590b44",
   "metadata": {},
   "outputs": [
    {
     "name": "stdout",
     "output_type": "stream",
     "text": [
      "[5 7 9]\n"
     ]
    }
   ],
   "source": [
    "x = np.array([1, 2, 3])\n",
    "y = np.array([4, 5, 6])\n",
    "print(x + y)"
   ]
  },
  {
   "cell_type": "markdown",
   "id": "98bfe603-acb5-4e20-847f-5a9a26f6605d",
   "metadata": {},
   "source": [
    "type(×)をすると、以下のようになることから、xはnumpy.ndarray型であることがわかります。本書ではこれ以降省略してndarray型と呼ぶことにします。"
   ]
  },
  {
   "cell_type": "code",
   "execution_count": 54,
   "id": "13d79f81-ca1f-44a9-9222-407b3ee5b1d8",
   "metadata": {},
   "outputs": [
    {
     "data": {
      "text/plain": [
       "numpy.ndarray"
      ]
     },
     "execution_count": 54,
     "metadata": {},
     "output_type": "execute_result"
    }
   ],
   "source": [
    "type(x)"
   ]
  },
  {
   "cell_type": "markdown",
   "id": "1038d6fd-1366-4fec-861c-9496c1073c59",
   "metadata": {},
   "source": [
    "2.9.3 要素の参照"
   ]
  },
  {
   "cell_type": "markdown",
   "id": "66bae95c-1098-463c-9301-87ad5df47a11",
   "metadata": {},
   "source": [
    "1つの要素を参照するには、list型と同様に[]を使います。"
   ]
  },
  {
   "cell_type": "code",
   "execution_count": 55,
   "id": "d34d33ab-6026-4b04-928f-e650e938bf98",
   "metadata": {},
   "outputs": [
    {
     "data": {
      "text/plain": [
       "1"
      ]
     },
     "execution_count": 55,
     "metadata": {},
     "output_type": "execute_result"
    }
   ],
   "source": [
    "x[0]"
   ]
  },
  {
   "cell_type": "markdown",
   "id": "d6f92efb-8493-4e83-a0e9-51c771825e7c",
   "metadata": {},
   "source": [
    "2.9.4 要素の書き換え"
   ]
  },
  {
   "cell_type": "markdown",
   "id": "2b2a106a-8e21-45c7-a587-10b4652d6c69",
   "metadata": {},
   "source": [
    "要素を書き換えるには、×[書き換えたい要素番号]=数値とします。"
   ]
  },
  {
   "cell_type": "code",
   "execution_count": 56,
   "id": "ad262643-f5c3-4c36-9115-d67d7b12025c",
   "metadata": {},
   "outputs": [
    {
     "name": "stdout",
     "output_type": "stream",
     "text": [
      "[100   2   3]\n"
     ]
    }
   ],
   "source": [
    "x[0] = 100\n",
    "print(x)"
   ]
  },
  {
   "cell_type": "code",
   "execution_count": 57,
   "id": "3afa052e",
   "metadata": {},
   "outputs": [
    {
     "name": "stdout",
     "output_type": "stream",
     "text": [
      "[10 20 30]\n"
     ]
    }
   ],
   "source": [
    "x = np.array([1, 2, 3])\n",
    "x[0] = 10\n",
    "x[1] = 20\n",
    "x[2] = 30\n",
    "print(x)"
   ]
  },
  {
   "cell_type": "markdown",
   "id": "2ad879a7-77b6-4662-9c5f-4545d04cf19f",
   "metadata": {},
   "source": [
    "2.9.5 連続した整数のベクトルの作成"
   ]
  },
  {
   "cell_type": "markdown",
   "id": "3a826d52-df35-4a6b-bbd0-b744b5fe62b8",
   "metadata": {},
   "source": [
    "要素の値が1ずつ増えていくベクトル配列は、np.arange(n)で作れます。list型の配列を出力するrange(n)と同様に、0からn-1まの配列が生成できます。\n",
    "arange(n1,n2)とすれば、n1からn2-1までの配列になります。"
   ]
  },
  {
   "cell_type": "code",
   "execution_count": 58,
   "id": "d7df82e5-4c6b-4261-b6dd-aeb6e534a6bd",
   "metadata": {},
   "outputs": [
    {
     "name": "stdout",
     "output_type": "stream",
     "text": [
      "[0 1 2 3 4 5 6 7 8 9]\n"
     ]
    }
   ],
   "source": [
    "print(np.arange(10))"
   ]
  },
  {
   "cell_type": "code",
   "execution_count": 59,
   "id": "b08b0431",
   "metadata": {},
   "outputs": [
    {
     "name": "stdout",
     "output_type": "stream",
     "text": [
      "[ 0  1  2  3  4  5  6  7  8  9 10 11 12 13 14 15 16 17 18 19]\n"
     ]
    }
   ],
   "source": [
    "print(np.arange(20))"
   ]
  },
  {
   "cell_type": "code",
   "execution_count": 60,
   "id": "8bc6559b-8c24-45bc-a393-1a6fb35088fd",
   "metadata": {},
   "outputs": [
    {
     "name": "stdout",
     "output_type": "stream",
     "text": [
      "[5 6 7 8 9]\n"
     ]
    }
   ],
   "source": [
    "print(np.arange(5, 10))"
   ]
  },
  {
   "cell_type": "code",
   "execution_count": 61,
   "id": "4f4f44c6",
   "metadata": {},
   "outputs": [
    {
     "name": "stdout",
     "output_type": "stream",
     "text": [
      "[10 11 12 13 14 15 16 17 18 19]\n"
     ]
    }
   ],
   "source": [
    "print(np.arange(10,20))"
   ]
  },
  {
   "cell_type": "markdown",
   "id": "fade8643-d9ef-44fe-a702-079754f717cb",
   "metadata": {},
   "source": [
    "ndarray型は、list型と似て、for文のlistの代わりに使うこともできますが、ベクトル演算が可能という点で異なります。"
   ]
  },
  {
   "cell_type": "markdown",
   "id": "3c567b96-fb7d-4252-9779-acfc5f23922d",
   "metadata": {},
   "source": [
    "2.9.6 ndarray型の注意点"
   ]
  },
  {
   "cell_type": "markdown",
   "id": "fc4a2962-e1ac-4d72-94dd-356c5aff37de",
   "metadata": {},
   "source": [
    "ndarray型を使うに当たってとても重要なことがあります。ndarray型の中身をコピーするに\n",
    "は、通常の変数のようにb=aではなく、b=a.copy()とないといけま\n",
    "せん。単にb=aとすると、aの内容の保存先の参照が渡されます。ややこし、\n",
    "いのです=が、baとした後でbの内容を変更すると、その変にも反映されてしまうのです。例えば、以下のように、aの内容は修正していないのに、aが\n",
    "bと同じ値になっていますなります。"
   ]
  },
  {
   "cell_type": "code",
   "execution_count": 62,
   "id": "6cd8d886-ee64-4fe8-9775-d93ba9357cd2",
   "metadata": {},
   "outputs": [
    {
     "name": "stdout",
     "output_type": "stream",
     "text": [
      "a =[1 1]\n",
      "b =[1 1]\n",
      "b =[100   1]\n",
      "a =[100   1]\n"
     ]
    }
   ],
   "source": [
    "a = np.array([1, 1])\n",
    "b = a\n",
    "print('a =' + str(a))\n",
    "print('b =' + str(b))\n",
    "b[0] = 100\n",
    "print('b =' + str(b))\n",
    "print('a =' + str(a))"
   ]
  },
  {
   "cell_type": "code",
   "execution_count": 63,
   "id": "e8e3071d",
   "metadata": {},
   "outputs": [
    {
     "name": "stdout",
     "output_type": "stream",
     "text": [
      "a =[1 2]\n",
      "b =[1 2]\n",
      "a =[10 20]\n",
      "b =[10 20]\n"
     ]
    }
   ],
   "source": [
    "a = np.array([1, 2])\n",
    "b = a\n",
    "print('a =' + str(a))\n",
    "print('b =' + str(b))\n",
    "b[0] = 10\n",
    "b[1] = 20\n",
    "print('a =' + str(a))\n",
    "print('b =' + str(b))"
   ]
  },
  {
   "cell_type": "markdown",
   "id": "f5e7d7db-e5c4-45bd-96fe-3d8307650932",
   "metadata": {},
   "source": [
    "これを、b- a.copy()とすれば、bはaから独立した変数として扱われます。"
   ]
  },
  {
   "cell_type": "code",
   "execution_count": 64,
   "id": "6b32eb85-2fe4-42aa-a212-3d83166d2da1",
   "metadata": {},
   "outputs": [
    {
     "name": "stdout",
     "output_type": "stream",
     "text": [
      "a =[1 1]\n",
      "b =[1 1]\n",
      "b =[100   1]\n",
      "a =[1 1]\n"
     ]
    }
   ],
   "source": [
    "a = np.array([1, 1])\n",
    "b = a.copy()\n",
    "print('a =' + str(a))\n",
    "print('b =' + str(b))\n",
    "b[0] = 100\n",
    "print('b =' + str(b))\n",
    "print('a =' + str(a))"
   ]
  },
  {
   "cell_type": "code",
   "execution_count": 65,
   "id": "b469d462",
   "metadata": {},
   "outputs": [
    {
     "name": "stdout",
     "output_type": "stream",
     "text": [
      "a =[1 2]\n",
      "b =[1 2]\n",
      "a =[1 2]\n",
      "b =[10 20]\n"
     ]
    }
   ],
   "source": [
    "a = np.array([1, 2])\n",
    "b = a\n",
    "b = a.copy()\n",
    "print('a =' + str(a))\n",
    "print('b =' + str(b))\n",
    "b[0] = 10\n",
    "b[1] = 20\n",
    "print('a =' + str(a))\n",
    "print('b =' + str(b))"
   ]
  },
  {
   "cell_type": "markdown",
   "id": "b53c3bc1-0a26-4b88-8025-b2216e70521b",
   "metadata": {},
   "source": [
    "# 2.10 行列"
   ]
  },
  {
   "cell_type": "markdown",
   "id": "b3bd7b80-aa7a-42c4-b618-31248a5b6a0e",
   "metadata": {},
   "source": [
    "2.10.1 行列の定義"
   ]
  },
  {
   "cell_type": "markdown",
   "id": "cd3f7561-6c98-4dcd-85a2-af3f701c5412",
   "metadata": {},
   "source": [
    "行列は、ndarrayの2次元配列として以下のようにして定義できます。"
   ]
  },
  {
   "cell_type": "code",
   "execution_count": 66,
   "id": "aa239cf7-ebe0-45a7-b993-827964232e26",
   "metadata": {},
   "outputs": [
    {
     "name": "stdout",
     "output_type": "stream",
     "text": [
      "[[1 2 3]\n",
      " [4 5 6]]\n"
     ]
    }
   ],
   "source": [
    "x = np.array([[1, 2, 3], [4, 5, 6]])\n",
    "print(x)"
   ]
  },
  {
   "cell_type": "code",
   "execution_count": 67,
   "id": "38d834dc",
   "metadata": {},
   "outputs": [
    {
     "name": "stdout",
     "output_type": "stream",
     "text": [
      "[[1 3 5]\n",
      " [2 4 6]]\n"
     ]
    }
   ],
   "source": [
    "x = np.array([[1, 3, 5], [2, 4, 6]])\n",
    "print(x)"
   ]
  },
  {
   "cell_type": "markdown",
   "id": "0aa45653-5b9f-41a0-baa9-c46721c05953",
   "metadata": {},
   "source": [
    "2.10.2 行列のサイズ"
   ]
  },
  {
   "cell_type": "markdown",
   "id": "7f2ba174-7f76-4105-a0e7-345a71d3f8b8",
   "metadata": {},
   "source": [
    "行列(配列)のサイズは、ndarray型の変数名,shapeで知ることができます。"
   ]
  },
  {
   "cell_type": "code",
   "execution_count": 68,
   "id": "22ff0c36-ffbe-434a-9f95-48c93c658134",
   "metadata": {},
   "outputs": [
    {
     "data": {
      "text/plain": [
       "(2, 3)"
      ]
     },
     "execution_count": 68,
     "metadata": {},
     "output_type": "execute_result"
    }
   ],
   "source": [
    "x = np.array([[1, 2, 3], [4, 5, 6]])\n",
    "x.shape"
   ]
  },
  {
   "cell_type": "markdown",
   "id": "27d8e4cd-2881-4f09-962b-ace39e0825c4",
   "metadata": {},
   "source": [
    "この出力は()で囲まれているのでtupple型とわかります。この場合、以下のようにすれば、wとhに、それぞれ2と3を格納することができます。"
   ]
  },
  {
   "cell_type": "code",
   "execution_count": 69,
   "id": "258d05db-7225-47ee-b734-6d0f97c41a5f",
   "metadata": {},
   "outputs": [
    {
     "name": "stdout",
     "output_type": "stream",
     "text": [
      "2\n",
      "3\n"
     ]
    }
   ],
   "source": [
    "w, h = x.shape\n",
    "print(w)\n",
    "print(h)"
   ]
  },
  {
   "cell_type": "markdown",
   "id": "6c530a6d-2174-48f8-8e64-997c23326309",
   "metadata": {},
   "source": [
    "2.10.3 要素の参照"
   ]
  },
  {
   "cell_type": "markdown",
   "id": "c58fa162-8d88-460b-bf76-e2ee2d664ff3",
   "metadata": {},
   "source": [
    "要素の参照は、以下のように次元ごとに\",\"で区切って表します。"
   ]
  },
  {
   "cell_type": "code",
   "execution_count": 70,
   "id": "464ea959-c0ff-4e95-8f8d-2921bdcb6d98",
   "metadata": {},
   "outputs": [
    {
     "data": {
      "text/plain": [
       "6"
      ]
     },
     "execution_count": 70,
     "metadata": {},
     "output_type": "execute_result"
    }
   ],
   "source": [
    "x = np.array([[1,2,3],[4,5,6]])\n",
    "x[1,2]"
   ]
  },
  {
   "cell_type": "code",
   "execution_count": 71,
   "id": "4bd1a33f",
   "metadata": {},
   "outputs": [
    {
     "data": {
      "text/plain": [
       "2"
      ]
     },
     "execution_count": 71,
     "metadata": {},
     "output_type": "execute_result"
    }
   ],
   "source": [
    "x = np.array([[1,2,3],[4,5,6]])\n",
    "x[0,1]"
   ]
  },
  {
   "cell_type": "markdown",
   "id": "608cfdcb-723f-4545-bb84-154fddc8608b",
   "metadata": {},
   "source": [
    "2.10.4 要素の書き換え"
   ]
  },
  {
   "cell_type": "markdown",
   "id": "fb613b28-69ca-49f1-9033-06db2242dc92",
   "metadata": {},
   "source": [
    "行も列もインデックスは0から始まることに注意してください。要素の書き換えは、\n",
    "ベクトルのときと同様、以下のように記述します。"
   ]
  },
  {
   "cell_type": "code",
   "execution_count": 72,
   "id": "15a97c38-8082-4ca5-b6f6-abad32729432",
   "metadata": {},
   "outputs": [
    {
     "name": "stdout",
     "output_type": "stream",
     "text": [
      "[[  1   2   3]\n",
      " [  4   5 100]]\n"
     ]
    }
   ],
   "source": [
    "x = np.array([[1,2,3],[4,5,6]])\n",
    "x[1,2] = 100\n",
    "print(x)"
   ]
  },
  {
   "cell_type": "code",
   "execution_count": 73,
   "id": "2c72043f",
   "metadata": {},
   "outputs": [
    {
     "name": "stdout",
     "output_type": "stream",
     "text": [
      "[[  1 100   3]\n",
      " [  4   5   6]]\n"
     ]
    }
   ],
   "source": [
    "x = np.array([[1,2,3],[4,5,6]])\n",
    "x[0,1]=100\n",
    "print(x)"
   ]
  },
  {
   "cell_type": "markdown",
   "id": "bbb36add-b416-40f6-b7cf-db19027400e3",
   "metadata": {},
   "source": [
    "2.10.5 要素が0や1のndarrayの作成"
   ]
  },
  {
   "cell_type": "markdown",
   "id": "bbb58fc7-589f-443e-96ce-7f62b82f5f83",
   "metadata": {},
   "source": [
    "すべての要素が0のndarrayは、np.zeros(size)で作ることができます。以下のようにすれば、長さ10のベクトルが生成されます。"
   ]
  },
  {
   "cell_type": "code",
   "execution_count": 74,
   "id": "b81321e5-e2c0-42b1-910e-91520ba02f02",
   "metadata": {},
   "outputs": [
    {
     "name": "stdout",
     "output_type": "stream",
     "text": [
      "[0. 0. 0. 0. 0. 0. 0. 0. 0. 0.]\n"
     ]
    }
   ],
   "source": [
    "print(np.zeros(10))"
   ]
  },
  {
   "cell_type": "markdown",
   "id": "972e9298-5dad-4d58-a36e-64ea5e5343bc",
   "metadata": {},
   "source": [
    "また、size=(2,10)とすれば、要素がの2×10の行列が生成されます。成"
   ]
  },
  {
   "cell_type": "code",
   "execution_count": 75,
   "id": "253be48e-aa6f-4fe1-958d-cd5cde529d56",
   "metadata": {},
   "outputs": [
    {
     "name": "stdout",
     "output_type": "stream",
     "text": [
      "[[0. 0. 0. 0. 0. 0. 0. 0. 0. 0.]\n",
      " [0. 0. 0. 0. 0. 0. 0. 0. 0. 0.]]\n"
     ]
    }
   ],
   "source": [
    "print(np.zeros((2,10)))"
   ]
  },
  {
   "cell_type": "markdown",
   "id": "68af43e8-97f3-4fcd-9eea-b6d1ceb84965",
   "metadata": {},
   "source": [
    "sizeはtuple型です。sizeを(2,3,4)などとすれば、2×3×4の3次元配列が生成されます。何次元でも生成可能です。すべての要素を0ではなく1にしたい場合には、np.ones(size)を使います。"
   ]
  },
  {
   "cell_type": "code",
   "execution_count": 76,
   "id": "fab93987-b0f1-439d-9d82-99133756107a",
   "metadata": {},
   "outputs": [
    {
     "name": "stdout",
     "output_type": "stream",
     "text": [
      "[[1. 1. 1. 1. 1. 1. 1. 1. 1. 1.]\n",
      " [1. 1. 1. 1. 1. 1. 1. 1. 1. 1.]]\n"
     ]
    }
   ],
   "source": [
    "print(np.ones((2,10)))"
   ]
  },
  {
   "cell_type": "code",
   "execution_count": 77,
   "id": "5796b4f9",
   "metadata": {},
   "outputs": [
    {
     "name": "stdout",
     "output_type": "stream",
     "text": [
      "[[1. 1. 1.]\n",
      " [1. 1. 1.]\n",
      " [1. 1. 1.]\n",
      " [1. 1. 1.]]\n"
     ]
    }
   ],
   "source": [
    "print(np.ones((4,3)))"
   ]
  },
  {
   "cell_type": "markdown",
   "id": "3ca921f2-3557-44df-afba-29ac1b4b3001",
   "metadata": {},
   "source": [
    "2.10.6 要素がランダムな行列の生成"
   ]
  },
  {
   "cell_type": "markdown",
   "id": "087d029b-bae1-4e2c-9d88-72713337cd90",
   "metadata": {},
   "source": [
    "要素がランダムな行列を生成する場合には、np.random.rand(size)が使えます。\n",
    "各要素を0〜1の一様分布から生成した行列が生成されます。この場合のsize\n",
    "tupleではないということに注意してください。例えば、2×3の乱数行列を生す\n",
    "るには、以下のように記述します(ランダムな行列が作成されますので実行すに数値は変わります）。るたび"
   ]
  },
  {
   "cell_type": "code",
   "execution_count": 78,
   "id": "69a87f10-7c3a-4278-9116-b034aa0e82c8",
   "metadata": {},
   "outputs": [
    {
     "data": {
      "text/plain": [
       "array([[0.40212183, 0.95977891, 0.31602191],\n",
       "       [0.81524216, 0.66091057, 0.13920311]])"
      ]
     },
     "execution_count": 78,
     "metadata": {},
     "output_type": "execute_result"
    }
   ],
   "source": [
    "np.random.rand(2,3)"
   ]
  },
  {
   "cell_type": "code",
   "execution_count": 79,
   "id": "12732d48",
   "metadata": {},
   "outputs": [
    {
     "data": {
      "text/plain": [
       "array([[0.67430719, 0.94885005],\n",
       "       [0.18435409, 0.31154669],\n",
       "       [0.70596817, 0.34792601],\n",
       "       [0.85194   , 0.00883893]])"
      ]
     },
     "execution_count": 79,
     "metadata": {},
     "output_type": "execute_result"
    }
   ],
   "source": [
    "np.random.rand(4,2)"
   ]
  },
  {
   "cell_type": "markdown",
   "id": "a1a13e90-831c-4fb2-bcf4-103427fe6033",
   "metadata": {},
   "source": [
    "np.random.rand((2,3))のようにするとエラーが出てしまいます。\n",
    "np\n",
    ".random.randn(size)を使うと、平均0分散1のガウス分布から乱数が生成\n",
    "できますた、た、np.random.randint(low, high, size)を使うlowからhi、\n",
    "ghまでのランダムな整数値からなるsizeの大きさの行列できます。を生成"
   ]
  },
  {
   "cell_type": "markdown",
   "id": "7380fb4a-3776-4b0b-b0ce-a88acdb091c9",
   "metadata": {},
   "source": [
    "2.10.7 行列のサイズの変更"
   ]
  },
  {
   "cell_type": "markdown",
   "id": "c60b14d5-e38a-4ad0-9314-4ade5b10dce3",
   "metadata": {},
   "source": [
    "行列のサイズを変更したい場合には、変数名.reshape(n,m)を使います。以下のベクトルのサイズを変えてみましょう。"
   ]
  },
  {
   "cell_type": "code",
   "execution_count": 80,
   "id": "060ea440-c7b7-4eff-8212-7f88c540291b",
   "metadata": {},
   "outputs": [
    {
     "name": "stdout",
     "output_type": "stream",
     "text": [
      "[0 1 2 3 4 5 6 7 8 9]\n"
     ]
    }
   ],
   "source": [
    "a = np.arange(10)\n",
    "print(a)"
   ]
  },
  {
   "cell_type": "markdown",
   "id": "95f9b62b-15bf-4cfb-8e95-52858840b655",
   "metadata": {},
   "source": [
    "例えば、2×5の行列に変更するには、以下のように記述します。"
   ]
  },
  {
   "cell_type": "code",
   "execution_count": 81,
   "id": "bd6dfef6-1e7e-45e7-8fb2-86a4b6f4ae49",
   "metadata": {},
   "outputs": [
    {
     "data": {
      "text/plain": [
       "array([[0, 1, 2, 3, 4],\n",
       "       [5, 6, 7, 8, 9]])"
      ]
     },
     "execution_count": 81,
     "metadata": {},
     "output_type": "execute_result"
    }
   ],
   "source": [
    "a.reshape(2,5)"
   ]
  },
  {
   "cell_type": "code",
   "execution_count": 82,
   "id": "970fb4de",
   "metadata": {},
   "outputs": [
    {
     "name": "stdout",
     "output_type": "stream",
     "text": [
      "Once deleted, variables cannot be recovered. Proceed (y/[n])? \n",
      "Nothing done.\n"
     ]
    }
   ],
   "source": [
    "%reset"
   ]
  },
  {
   "cell_type": "code",
   "execution_count": 83,
   "id": "a9a46888",
   "metadata": {},
   "outputs": [
    {
     "name": "stdout",
     "output_type": "stream",
     "text": [
      "[3 4 5 6 7 8]\n"
     ]
    }
   ],
   "source": [
    "a = np.arange(3,9)\n",
    "print(a)"
   ]
  },
  {
   "cell_type": "code",
   "execution_count": 84,
   "id": "b3759fcc",
   "metadata": {},
   "outputs": [
    {
     "data": {
      "text/plain": [
       "array([[3, 4],\n",
       "       [5, 6],\n",
       "       [7, 8]])"
      ]
     },
     "execution_count": 84,
     "metadata": {},
     "output_type": "execute_result"
    }
   ],
   "source": [
    "a.reshape(3,2)"
   ]
  },
  {
   "cell_type": "markdown",
   "id": "86d1ed88-0d34-4c4d-9f07-9c680c02c3a7",
   "metadata": {},
   "source": [
    "# 2.11 行列（ndarray）の四則演算"
   ]
  },
  {
   "cell_type": "markdown",
   "id": "01dfb3fa-c597-4790-a688-75a1ddd6a82f",
   "metadata": {},
   "source": [
    "2.11.1 行列における四則演算"
   ]
  },
  {
   "cell_type": "markdown",
   "id": "bed4f5bc-1581-4cbe-ba59-56af2c3143b3",
   "metadata": {},
   "source": [
    "四則演算+、-、*、/は、対応する要素ごとに行われます。例えば、以下のように\n",
    "入力して確認してください。"
   ]
  },
  {
   "cell_type": "code",
   "execution_count": 85,
   "id": "a28256f7-578d-4387-929f-bae7209a9cd6",
   "metadata": {},
   "outputs": [
    {
     "name": "stdout",
     "output_type": "stream",
     "text": [
      "[[ 5  5  5]\n",
      " [10 10 10]]\n"
     ]
    }
   ],
   "source": [
    "x = np.array([[4,4,4],[8,8,8]])\n",
    "y = np.array([[1,1,1],[2,2,2]])\n",
    "print(x + y)"
   ]
  },
  {
   "cell_type": "code",
   "execution_count": 86,
   "id": "ac301188",
   "metadata": {},
   "outputs": [
    {
     "name": "stdout",
     "output_type": "stream",
     "text": [
      "[[0 1 2]\n",
      " [3 3 3]]\n"
     ]
    }
   ],
   "source": [
    "x = np.array([[1,2,3],[4,5,6]])\n",
    "y = np.array([[1,1,1],[1,2,3]])\n",
    "print(x - y)"
   ]
  },
  {
   "cell_type": "markdown",
   "id": "f04b94c4-de8b-4a37-8edb-1e467ce44cc1",
   "metadata": {},
   "source": [
    "2.11.2 スカラー ✕ 行列"
   ]
  },
  {
   "cell_type": "markdown",
   "id": "209446b4-87dd-49a9-9aa1-0208f20d5a0f",
   "metadata": {},
   "source": [
    "スカラーを行列に掛けると、以下のようにすべての要素に作用します。"
   ]
  },
  {
   "cell_type": "code",
   "execution_count": 87,
   "id": "9ef774fb-e611-41c6-ba50-d8a28ce31e53",
   "metadata": {},
   "outputs": [
    {
     "name": "stdout",
     "output_type": "stream",
     "text": [
      "[[40 40 40]\n",
      " [80 80 80]]\n"
     ]
    }
   ],
   "source": [
    "x = np.array([[4,4,4], [8,8,8]])\n",
    "print(10 * x)"
   ]
  },
  {
   "cell_type": "code",
   "execution_count": 88,
   "id": "f4cebfca",
   "metadata": {},
   "outputs": [
    {
     "name": "stdout",
     "output_type": "stream",
     "text": [
      "[[ 20  40  60]\n",
      " [ 80 100 120]]\n"
     ]
    }
   ],
   "source": [
    "x = np.array([[1,2,3],[4,5,6]])\n",
    "print(20 * x)"
   ]
  },
  {
   "cell_type": "markdown",
   "id": "5366e662-96f9-4419-b7db-2b3b015a4825",
   "metadata": {},
   "source": [
    "2.11.3 算術関数"
   ]
  },
  {
   "cell_type": "markdown",
   "id": "e9b0ac50-33ed-401e-8432-7d1238ce1455",
   "metadata": {},
   "source": [
    "numpyには、様々な算術関数が用意されています。例えば、第4章で解説する\n",
    "exp(x)は、以下のように計算できます。"
   ]
  },
  {
   "cell_type": "code",
   "execution_count": 89,
   "id": "0b8745c7-a97b-4c00-a8f6-f1337e7c5d1f",
   "metadata": {},
   "outputs": [
    {
     "name": "stdout",
     "output_type": "stream",
     "text": [
      "[[  54.59815003   54.59815003   54.59815003]\n",
      " [2980.95798704 2980.95798704 2980.95798704]]\n"
     ]
    }
   ],
   "source": [
    "x = np.array([[4,4,4], [8,8,8]])\n",
    "print(np.exp(x))"
   ]
  },
  {
   "cell_type": "code",
   "execution_count": 90,
   "id": "d1f182aa",
   "metadata": {},
   "outputs": [
    {
     "name": "stdout",
     "output_type": "stream",
     "text": [
      "[[7.38905610e+00 5.45981500e+01 4.03428793e+02]\n",
      " [2.98095799e+03 2.20264658e+04 1.62754791e+05]]\n",
      "[[1.41421356 2.         2.44948974]\n",
      " [2.82842712 3.16227766 3.46410162]]\n",
      "[[0.69314718 1.38629436 1.79175947]\n",
      " [2.07944154 2.30258509 2.48490665]]\n",
      "[[ 2  4  6]\n",
      " [ 8 10 12]]\n",
      "7.0\n",
      "3.415650255319866\n",
      "12\n",
      "2\n"
     ]
    }
   ],
   "source": [
    "x = np.array([[2,4,6],[8,10,12]])\n",
    "print(np.exp(x))\n",
    "print(np.sqrt(x))\n",
    "print(np.log(x))\n",
    "print(np.round(x,3))\n",
    "print(np.mean(x))\n",
    "print(np.std(x))\n",
    "print(np.max(x))\n",
    "print(np.min(x))"
   ]
  },
  {
   "cell_type": "markdown",
   "id": "76cc7c5b-bcc0-45c9-9099-62786da99dd5",
   "metadata": {},
   "source": [
    "これもすべての要素に作用します。それ以外にも、平方根np.sqrt(×)、対数np.log(x)、四捨五入np.round(x,有効桁数)などがあります。\n",
    "また、すべての要素に対して1つの数値を返す、平均np.mean(x)、標準偏差np.std(x)、最大値np.max(x)、最小值np.min(x)などもあります。"
   ]
  },
  {
   "cell_type": "markdown",
   "id": "6a0f81e5-d291-4eeb-b743-b1cbe99bc68c",
   "metadata": {},
   "source": [
    "2.11.4 行列積の計算"
   ]
  },
  {
   "cell_type": "markdown",
   "id": "31d45cbe-bd0e-4aa2-8e92-48d58ed46d8e",
   "metadata": {},
   "source": [
    "要素ごとでは計算できない行列積はどうやって計算するのでしょうか?　これについては、第4章でも解説しますので、ここでは結論だけを述べると変数名1.dot(変数名2)で計算できます。"
   ]
  },
  {
   "cell_type": "code",
   "execution_count": 91,
   "id": "27577969-2d65-480f-8ff4-48ac90fc9cd8",
   "metadata": {},
   "outputs": [
    {
     "name": "stdout",
     "output_type": "stream",
     "text": [
      "[[14 14]\n",
      " [32 32]]\n"
     ]
    }
   ],
   "source": [
    "v = np.array([[1,2,3],[4,5,6]])\n",
    "w = np.array([[1,1], [2,2], [3,3]])\n",
    "print(v.dot(w))"
   ]
  },
  {
   "cell_type": "code",
   "execution_count": 92,
   "id": "97d4e44e",
   "metadata": {},
   "outputs": [
    {
     "name": "stdout",
     "output_type": "stream",
     "text": [
      "[[ 77 104]\n",
      " [ 50  68]]\n"
     ]
    }
   ],
   "source": [
    "v = np.array([[10,9,8],[7,6,5]])\n",
    "w = np.array([[1,2],[3,4],[5,6]])\n",
    "print(v.dot(w))"
   ]
  },
  {
   "cell_type": "markdown",
   "id": "f7c4219b-c98b-4bc6-a18d-52466582136e",
   "metadata": {},
   "source": [
    "# 2.12 スライシング"
   ]
  },
  {
   "cell_type": "markdown",
   "id": "f085e54c-dcfa-4ab7-847d-22bb747d8ca0",
   "metadata": {},
   "source": [
    "2.12.1 スライシングの利用"
   ]
  },
  {
   "cell_type": "markdown",
   "id": "397ca27e-ccf2-47ba-8fc4-9e33bcb8a3f6",
   "metadata": {},
   "source": [
    "listとdarrayでは、要素をいっぺんに表すスライシングという便利な方法があり、これを使いこなすとプログラムが楽になります。スライシングは\":\"を使って表します。列えば、以下のように、変数名[:n]で、0から-1まで要素を一度に参照することができます。"
   ]
  },
  {
   "cell_type": "code",
   "execution_count": 93,
   "id": "61f4f362-74b8-45d7-898c-a8c9b059bf4b",
   "metadata": {},
   "outputs": [
    {
     "name": "stdout",
     "output_type": "stream",
     "text": [
      "[0 1 2 3 4 5 6 7 8 9]\n",
      "[0 1 2 3 4]\n"
     ]
    }
   ],
   "source": [
    "x = np.arange(10)\n",
    "print(x)\n",
    "print(x[:5])"
   ]
  },
  {
   "cell_type": "code",
   "execution_count": 94,
   "id": "ae1eadd1",
   "metadata": {},
   "outputs": [
    {
     "name": "stdout",
     "output_type": "stream",
     "text": [
      "[0 1 2 3 4 5 6 7 8]\n"
     ]
    }
   ],
   "source": [
    "x = np.arange(20)\n",
    "print(x[:9])"
   ]
  },
  {
   "cell_type": "markdown",
   "id": "052c8c29-d3e0-4383-8a3e-fcc9d6861cc7",
   "metadata": {},
   "source": [
    "変数名[n:]とすると、nから最後の要素までが参照されます。"
   ]
  },
  {
   "cell_type": "code",
   "execution_count": 95,
   "id": "53988188-a932-43ab-a5f0-42e39242f8f1",
   "metadata": {},
   "outputs": [
    {
     "name": "stdout",
     "output_type": "stream",
     "text": [
      "[ 5  6  7  8  9 10 11 12 13 14 15 16 17 18 19]\n"
     ]
    }
   ],
   "source": [
    "print(x[5:])"
   ]
  },
  {
   "cell_type": "code",
   "execution_count": 96,
   "id": "4ad71407",
   "metadata": {},
   "outputs": [
    {
     "name": "stdout",
     "output_type": "stream",
     "text": [
      "[ 9 10 11 12 13 14 15 16 17 18 19]\n"
     ]
    }
   ],
   "source": [
    "print(x[9:])"
   ]
  },
  {
   "cell_type": "markdown",
   "id": "900be43d-9000-4258-b2c1-0286915bb5f5",
   "metadata": {},
   "source": [
    "変数名[n1:n2]とすると、n1からn2-1の要素までが参照されます。"
   ]
  },
  {
   "cell_type": "code",
   "execution_count": 97,
   "id": "c2b5ca3d-42cc-4a68-80f1-8270659e54b8",
   "metadata": {},
   "outputs": [
    {
     "name": "stdout",
     "output_type": "stream",
     "text": [
      "[3 4 5 6 7]\n"
     ]
    }
   ],
   "source": [
    "print(x[3:8])"
   ]
  },
  {
   "cell_type": "code",
   "execution_count": 98,
   "id": "a0862450",
   "metadata": {},
   "outputs": [
    {
     "name": "stdout",
     "output_type": "stream",
     "text": [
      "[ 5  6  7  8  9 10 11 12 13 14 15 16 17]\n"
     ]
    }
   ],
   "source": [
    "print(x[5:18])"
   ]
  },
  {
   "cell_type": "markdown",
   "id": "ff6d0999-49e7-4a9b-9bb5-cc4f889e4be9",
   "metadata": {},
   "source": [
    "変数名[n1:n2:dn]とすると、n1からn2-1の要素まで、dnおきで参照されます。"
   ]
  },
  {
   "cell_type": "code",
   "execution_count": 99,
   "id": "9114f04e-2e2f-4b23-9ad7-8d049fd33c3e",
   "metadata": {},
   "outputs": [
    {
     "name": "stdout",
     "output_type": "stream",
     "text": [
      "[3 5 7]\n"
     ]
    }
   ],
   "source": [
    "print(x[3:8:2])"
   ]
  },
  {
   "cell_type": "code",
   "execution_count": 100,
   "id": "77f2cb0f",
   "metadata": {},
   "outputs": [
    {
     "name": "stdout",
     "output_type": "stream",
     "text": [
      "[ 4  7 10 13 16]\n"
     ]
    }
   ],
   "source": [
    "print(x[4:18:3])"
   ]
  },
  {
   "cell_type": "markdown",
   "id": "9cd64b1c-2722-4478-aa24-c5df46840719",
   "metadata": {},
   "source": [
    "以下のようにすると、配列の順番が逆向きになります。"
   ]
  },
  {
   "cell_type": "code",
   "execution_count": 101,
   "id": "065d50f2-c48f-4bf3-98f8-4750a43b3605",
   "metadata": {},
   "outputs": [
    {
     "name": "stdout",
     "output_type": "stream",
     "text": [
      "[19 18 17 16 15 14 13 12 11 10  9  8  7  6  5  4  3  2  1  0]\n"
     ]
    }
   ],
   "source": [
    "print(x[::-1])"
   ]
  },
  {
   "cell_type": "code",
   "execution_count": 102,
   "id": "a602ac49",
   "metadata": {},
   "outputs": [
    {
     "name": "stdout",
     "output_type": "stream",
     "text": [
      "[19 18 17 16 15 14 13 12 11 10  9  8  7  6  5  4  3  2  1  0]\n"
     ]
    }
   ],
   "source": [
    "print(x[::-1])"
   ]
  },
  {
   "cell_type": "markdown",
   "id": "f80b2cd9-0f18-478e-9180-783e58241140",
   "metadata": {},
   "source": [
    "スライシングは、1次元以上のlistやndarrayでも使えます。"
   ]
  },
  {
   "cell_type": "code",
   "execution_count": 103,
   "id": "60eb6827-546f-4c52-ad60-34009ee21294",
   "metadata": {},
   "outputs": [
    {
     "name": "stdout",
     "output_type": "stream",
     "text": [
      "[[1 2 3]\n",
      " [4 5 6]\n",
      " [7 8 9]]\n",
      "[[2]\n",
      " [5]]\n"
     ]
    }
   ],
   "source": [
    "y = np.array([[1,2,3],[4,5,6],[7,8,9]])\n",
    "print(y)\n",
    "print(y[:2, 1:2])"
   ]
  },
  {
   "cell_type": "code",
   "execution_count": 104,
   "id": "9292fec4",
   "metadata": {},
   "outputs": [
    {
     "name": "stdout",
     "output_type": "stream",
     "text": [
      "[[1 3]\n",
      " [2 4]]\n"
     ]
    }
   ],
   "source": [
    "x = np.array([[1,3,5],[2,4,6],[3,5,7]])\n",
    "print(x[:2, 0:2])"
   ]
  },
  {
   "cell_type": "markdown",
   "id": "3534f624-879b-4888-a6f6-eeb304bb6f4d",
   "metadata": {},
   "source": [
    "# 2.13 条件を満たすデータの書き換え"
   ]
  },
  {
   "cell_type": "markdown",
   "id": "6f1aea9d-af7f-4b07-adf9-0c56263927a9",
   "metadata": {},
   "source": [
    "2.13.1 bool配列の利用"
   ]
  },
  {
   "cell_type": "markdown",
   "id": "2b874937-5695-4369-9927-85d11ca12728",
   "metadata": {},
   "source": [
    "numpyでは、行列に収められたデータから、ある条件に合うものだけを簡単に抽出し、書き換えることができます。\n",
    "以下のように×を定義し、×>3とすると、その結果のTrueかFalseのbool型の配列が返されます。"
   ]
  },
  {
   "cell_type": "code",
   "execution_count": 105,
   "id": "6cffb247-3180-4ea4-a5b6-52915ba1c085",
   "metadata": {},
   "outputs": [
    {
     "data": {
      "text/plain": [
       "array([False, False, False, False,  True,  True,  True])"
      ]
     },
     "execution_count": 105,
     "metadata": {},
     "output_type": "execute_result"
    }
   ],
   "source": [
    "x = np.array([1, 1, 2, 3, 5, 8, 13])\n",
    "x > 3"
   ]
  },
  {
   "cell_type": "code",
   "execution_count": 106,
   "id": "c9e2340c",
   "metadata": {},
   "outputs": [
    {
     "data": {
      "text/plain": [
       "array([False, False, False,  True,  True,  True])"
      ]
     },
     "execution_count": 106,
     "metadata": {},
     "output_type": "execute_result"
    }
   ],
   "source": [
    "x = np.array([0, 1, 2, 4, 6, 8])\n",
    "x > 2"
   ]
  },
  {
   "cell_type": "markdown",
   "id": "e0a84b10-e00e-4d7f-9358-0cde03f08094",
   "metadata": {},
   "source": [
    "このbool配列で、配列の要素を参照すると、以下のようにTrueの要素のみが出力\n",
    "されます。"
   ]
  },
  {
   "cell_type": "code",
   "execution_count": 107,
   "id": "7ffc16fd-81eb-4aca-ae20-152c3932e230",
   "metadata": {},
   "outputs": [
    {
     "data": {
      "text/plain": [
       "array([4, 6, 8])"
      ]
     },
     "execution_count": 107,
     "metadata": {},
     "output_type": "execute_result"
    }
   ],
   "source": [
    "x[x > 3]"
   ]
  },
  {
   "cell_type": "code",
   "execution_count": 108,
   "id": "4b52cb13",
   "metadata": {},
   "outputs": [
    {
     "data": {
      "text/plain": [
       "array([6, 8])"
      ]
     },
     "execution_count": 108,
     "metadata": {},
     "output_type": "execute_result"
    }
   ],
   "source": [
    "x[x > 4]"
   ]
  },
  {
   "cell_type": "markdown",
   "id": "2b2ef088-de24-4da2-be78-48eb30e80f01",
   "metadata": {},
   "source": [
    "x>3を満たす要素だけを、999に変えるには以下のようにします。"
   ]
  },
  {
   "cell_type": "code",
   "execution_count": 109,
   "id": "22d482d0-3c22-4bb8-83f0-57c26d136136",
   "metadata": {},
   "outputs": [
    {
     "name": "stdout",
     "output_type": "stream",
     "text": [
      "[  0   1   2 999 999 999]\n"
     ]
    }
   ],
   "source": [
    "x[x > 3] = 999\n",
    "print(x)"
   ]
  },
  {
   "cell_type": "markdown",
   "id": "fb1440be-8762-4a03-b452-80793e87832f",
   "metadata": {},
   "source": [
    "# 2.14 Help"
   ]
  },
  {
   "cell_type": "markdown",
   "id": "7bbdee79-3668-49b9-baeb-e5ffa51dbb66",
   "metadata": {},
   "source": [
    "2.14.1 Helpの利用"
   ]
  },
  {
   "cell_type": "markdown",
   "id": "94d3d10e-ed5b-49f9-88a9-6e2c519ac4bd",
   "metadata": {},
   "source": [
    "関数には非常に多くの種類があり機能も多様ですので、help(関数名)で関数の説明文\n",
    "が表示されることを知っていると便利です。同じ関数でも、引数省略できたりと使\n",
    "い方のバリエーションが様々で、なかなかすべての機能を覚ことはできなと\n",
    "いからです。例えば、以下のように入力して、確認できます。"
   ]
  },
  {
   "cell_type": "code",
   "execution_count": 110,
   "id": "6a686b22-ad19-4b95-ac1a-d821c59c84b6",
   "metadata": {},
   "outputs": [
    {
     "name": "stdout",
     "output_type": "stream",
     "text": [
      "Help on built-in function randint:\n",
      "\n",
      "randint(...) method of numpy.random.mtrand.RandomState instance\n",
      "    randint(low, high=None, size=None, dtype=int)\n",
      "    \n",
      "    Return random integers from `low` (inclusive) to `high` (exclusive).\n",
      "    \n",
      "    Return random integers from the \"discrete uniform\" distribution of\n",
      "    the specified dtype in the \"half-open\" interval [`low`, `high`). If\n",
      "    `high` is None (the default), then results are from [0, `low`).\n",
      "    \n",
      "    .. note::\n",
      "        New code should use the `~numpy.random.Generator.integers`\n",
      "        method of a `~numpy.random.Generator` instance instead;\n",
      "        please see the :ref:`random-quick-start`.\n",
      "    \n",
      "    Parameters\n",
      "    ----------\n",
      "    low : int or array-like of ints\n",
      "        Lowest (signed) integers to be drawn from the distribution (unless\n",
      "        ``high=None``, in which case this parameter is one above the\n",
      "        *highest* such integer).\n",
      "    high : int or array-like of ints, optional\n",
      "        If provided, one above the largest (signed) integer to be drawn\n",
      "        from the distribution (see above for behavior if ``high=None``).\n",
      "        If array-like, must contain integer values\n",
      "    size : int or tuple of ints, optional\n",
      "        Output shape.  If the given shape is, e.g., ``(m, n, k)``, then\n",
      "        ``m * n * k`` samples are drawn.  Default is None, in which case a\n",
      "        single value is returned.\n",
      "    dtype : dtype, optional\n",
      "        Desired dtype of the result. Byteorder must be native.\n",
      "        The default value is int.\n",
      "    \n",
      "        .. versionadded:: 1.11.0\n",
      "    \n",
      "    Returns\n",
      "    -------\n",
      "    out : int or ndarray of ints\n",
      "        `size`-shaped array of random integers from the appropriate\n",
      "        distribution, or a single such random int if `size` not provided.\n",
      "    \n",
      "    See Also\n",
      "    --------\n",
      "    random_integers : similar to `randint`, only for the closed\n",
      "        interval [`low`, `high`], and 1 is the lowest value if `high` is\n",
      "        omitted.\n",
      "    random.Generator.integers: which should be used for new code.\n",
      "    \n",
      "    Examples\n",
      "    --------\n",
      "    >>> np.random.randint(2, size=10)\n",
      "    array([1, 0, 0, 0, 1, 1, 0, 0, 1, 0]) # random\n",
      "    >>> np.random.randint(1, size=10)\n",
      "    array([0, 0, 0, 0, 0, 0, 0, 0, 0, 0])\n",
      "    \n",
      "    Generate a 2 x 4 array of ints between 0 and 4, inclusive:\n",
      "    \n",
      "    >>> np.random.randint(5, size=(2, 4))\n",
      "    array([[4, 0, 2, 1], # random\n",
      "           [3, 2, 2, 0]])\n",
      "    \n",
      "    Generate a 1 x 3 array with 3 different upper bounds\n",
      "    \n",
      "    >>> np.random.randint(1, [3, 5, 10])\n",
      "    array([2, 2, 9]) # random\n",
      "    \n",
      "    Generate a 1 by 3 array with 3 different lower bounds\n",
      "    \n",
      "    >>> np.random.randint([1, 5, 7], 10)\n",
      "    array([9, 8, 7]) # random\n",
      "    \n",
      "    Generate a 2 by 4 array using broadcasting with dtype of uint8\n",
      "    \n",
      "    >>> np.random.randint([1, 3, 5, 7], [[10], [20]], dtype=np.uint8)\n",
      "    array([[ 8,  6,  9,  7], # random\n",
      "           [ 1, 16,  9, 12]], dtype=uint8)\n",
      "\n"
     ]
    }
   ],
   "source": [
    "help(np.random.randint)"
   ]
  },
  {
   "cell_type": "code",
   "execution_count": 111,
   "id": "90d55c5a",
   "metadata": {},
   "outputs": [
    {
     "name": "stdout",
     "output_type": "stream",
     "text": [
      "Help on int object:\n",
      "\n",
      "class int(object)\n",
      " |  int([x]) -> integer\n",
      " |  int(x, base=10) -> integer\n",
      " |  \n",
      " |  Convert a number or string to an integer, or return 0 if no arguments\n",
      " |  are given.  If x is a number, return x.__int__().  For floating point\n",
      " |  numbers, this truncates towards zero.\n",
      " |  \n",
      " |  If x is not a number or if base is given, then x must be a string,\n",
      " |  bytes, or bytearray instance representing an integer literal in the\n",
      " |  given base.  The literal can be preceded by '+' or '-' and be surrounded\n",
      " |  by whitespace.  The base defaults to 10.  Valid bases are 0 and 2-36.\n",
      " |  Base 0 means to interpret the base from the string as an integer literal.\n",
      " |  >>> int('0b100', base=0)\n",
      " |  4\n",
      " |  \n",
      " |  Built-in subclasses:\n",
      " |      bool\n",
      " |  \n",
      " |  Methods defined here:\n",
      " |  \n",
      " |  __abs__(self, /)\n",
      " |      abs(self)\n",
      " |  \n",
      " |  __add__(self, value, /)\n",
      " |      Return self+value.\n",
      " |  \n",
      " |  __and__(self, value, /)\n",
      " |      Return self&value.\n",
      " |  \n",
      " |  __bool__(self, /)\n",
      " |      True if self else False\n",
      " |  \n",
      " |  __ceil__(...)\n",
      " |      Ceiling of an Integral returns itself.\n",
      " |  \n",
      " |  __divmod__(self, value, /)\n",
      " |      Return divmod(self, value).\n",
      " |  \n",
      " |  __eq__(self, value, /)\n",
      " |      Return self==value.\n",
      " |  \n",
      " |  __float__(self, /)\n",
      " |      float(self)\n",
      " |  \n",
      " |  __floor__(...)\n",
      " |      Flooring an Integral returns itself.\n",
      " |  \n",
      " |  __floordiv__(self, value, /)\n",
      " |      Return self//value.\n",
      " |  \n",
      " |  __format__(self, format_spec, /)\n",
      " |      Default object formatter.\n",
      " |  \n",
      " |  __ge__(self, value, /)\n",
      " |      Return self>=value.\n",
      " |  \n",
      " |  __getattribute__(self, name, /)\n",
      " |      Return getattr(self, name).\n",
      " |  \n",
      " |  __getnewargs__(self, /)\n",
      " |  \n",
      " |  __gt__(self, value, /)\n",
      " |      Return self>value.\n",
      " |  \n",
      " |  __hash__(self, /)\n",
      " |      Return hash(self).\n",
      " |  \n",
      " |  __index__(self, /)\n",
      " |      Return self converted to an integer, if self is suitable for use as an index into a list.\n",
      " |  \n",
      " |  __int__(self, /)\n",
      " |      int(self)\n",
      " |  \n",
      " |  __invert__(self, /)\n",
      " |      ~self\n",
      " |  \n",
      " |  __le__(self, value, /)\n",
      " |      Return self<=value.\n",
      " |  \n",
      " |  __lshift__(self, value, /)\n",
      " |      Return self<<value.\n",
      " |  \n",
      " |  __lt__(self, value, /)\n",
      " |      Return self<value.\n",
      " |  \n",
      " |  __mod__(self, value, /)\n",
      " |      Return self%value.\n",
      " |  \n",
      " |  __mul__(self, value, /)\n",
      " |      Return self*value.\n",
      " |  \n",
      " |  __ne__(self, value, /)\n",
      " |      Return self!=value.\n",
      " |  \n",
      " |  __neg__(self, /)\n",
      " |      -self\n",
      " |  \n",
      " |  __or__(self, value, /)\n",
      " |      Return self|value.\n",
      " |  \n",
      " |  __pos__(self, /)\n",
      " |      +self\n",
      " |  \n",
      " |  __pow__(self, value, mod=None, /)\n",
      " |      Return pow(self, value, mod).\n",
      " |  \n",
      " |  __radd__(self, value, /)\n",
      " |      Return value+self.\n",
      " |  \n",
      " |  __rand__(self, value, /)\n",
      " |      Return value&self.\n",
      " |  \n",
      " |  __rdivmod__(self, value, /)\n",
      " |      Return divmod(value, self).\n",
      " |  \n",
      " |  __repr__(self, /)\n",
      " |      Return repr(self).\n",
      " |  \n",
      " |  __rfloordiv__(self, value, /)\n",
      " |      Return value//self.\n",
      " |  \n",
      " |  __rlshift__(self, value, /)\n",
      " |      Return value<<self.\n",
      " |  \n",
      " |  __rmod__(self, value, /)\n",
      " |      Return value%self.\n",
      " |  \n",
      " |  __rmul__(self, value, /)\n",
      " |      Return value*self.\n",
      " |  \n",
      " |  __ror__(self, value, /)\n",
      " |      Return value|self.\n",
      " |  \n",
      " |  __round__(...)\n",
      " |      Rounding an Integral returns itself.\n",
      " |      \n",
      " |      Rounding with an ndigits argument also returns an integer.\n",
      " |  \n",
      " |  __rpow__(self, value, mod=None, /)\n",
      " |      Return pow(value, self, mod).\n",
      " |  \n",
      " |  __rrshift__(self, value, /)\n",
      " |      Return value>>self.\n",
      " |  \n",
      " |  __rshift__(self, value, /)\n",
      " |      Return self>>value.\n",
      " |  \n",
      " |  __rsub__(self, value, /)\n",
      " |      Return value-self.\n",
      " |  \n",
      " |  __rtruediv__(self, value, /)\n",
      " |      Return value/self.\n",
      " |  \n",
      " |  __rxor__(self, value, /)\n",
      " |      Return value^self.\n",
      " |  \n",
      " |  __sizeof__(self, /)\n",
      " |      Returns size in memory, in bytes.\n",
      " |  \n",
      " |  __sub__(self, value, /)\n",
      " |      Return self-value.\n",
      " |  \n",
      " |  __truediv__(self, value, /)\n",
      " |      Return self/value.\n",
      " |  \n",
      " |  __trunc__(...)\n",
      " |      Truncating an Integral returns itself.\n",
      " |  \n",
      " |  __xor__(self, value, /)\n",
      " |      Return self^value.\n",
      " |  \n",
      " |  as_integer_ratio(self, /)\n",
      " |      Return integer ratio.\n",
      " |      \n",
      " |      Return a pair of integers, whose ratio is exactly equal to the original int\n",
      " |      and with a positive denominator.\n",
      " |      \n",
      " |      >>> (10).as_integer_ratio()\n",
      " |      (10, 1)\n",
      " |      >>> (-10).as_integer_ratio()\n",
      " |      (-10, 1)\n",
      " |      >>> (0).as_integer_ratio()\n",
      " |      (0, 1)\n",
      " |  \n",
      " |  bit_count(self, /)\n",
      " |      Number of ones in the binary representation of the absolute value of self.\n",
      " |      \n",
      " |      Also known as the population count.\n",
      " |      \n",
      " |      >>> bin(13)\n",
      " |      '0b1101'\n",
      " |      >>> (13).bit_count()\n",
      " |      3\n",
      " |  \n",
      " |  bit_length(self, /)\n",
      " |      Number of bits necessary to represent self in binary.\n",
      " |      \n",
      " |      >>> bin(37)\n",
      " |      '0b100101'\n",
      " |      >>> (37).bit_length()\n",
      " |      6\n",
      " |  \n",
      " |  conjugate(...)\n",
      " |      Returns self, the complex conjugate of any int.\n",
      " |  \n",
      " |  to_bytes(self, /, length=1, byteorder='big', *, signed=False)\n",
      " |      Return an array of bytes representing an integer.\n",
      " |      \n",
      " |      length\n",
      " |        Length of bytes object to use.  An OverflowError is raised if the\n",
      " |        integer is not representable with the given number of bytes.  Default\n",
      " |        is length 1.\n",
      " |      byteorder\n",
      " |        The byte order used to represent the integer.  If byteorder is 'big',\n",
      " |        the most significant byte is at the beginning of the byte array.  If\n",
      " |        byteorder is 'little', the most significant byte is at the end of the\n",
      " |        byte array.  To request the native byte order of the host system, use\n",
      " |        `sys.byteorder' as the byte order value.  Default is to use 'big'.\n",
      " |      signed\n",
      " |        Determines whether two's complement is used to represent the integer.\n",
      " |        If signed is False and a negative integer is given, an OverflowError\n",
      " |        is raised.\n",
      " |  \n",
      " |  ----------------------------------------------------------------------\n",
      " |  Class methods defined here:\n",
      " |  \n",
      " |  from_bytes(bytes, byteorder='big', *, signed=False) from builtins.type\n",
      " |      Return the integer represented by the given array of bytes.\n",
      " |      \n",
      " |      bytes\n",
      " |        Holds the array of bytes to convert.  The argument must either\n",
      " |        support the buffer protocol or be an iterable object producing bytes.\n",
      " |        Bytes and bytearray are examples of built-in objects that support the\n",
      " |        buffer protocol.\n",
      " |      byteorder\n",
      " |        The byte order used to represent the integer.  If byteorder is 'big',\n",
      " |        the most significant byte is at the beginning of the byte array.  If\n",
      " |        byteorder is 'little', the most significant byte is at the end of the\n",
      " |        byte array.  To request the native byte order of the host system, use\n",
      " |        `sys.byteorder' as the byte order value.  Default is to use 'big'.\n",
      " |      signed\n",
      " |        Indicates whether two's complement is used to represent the integer.\n",
      " |  \n",
      " |  ----------------------------------------------------------------------\n",
      " |  Static methods defined here:\n",
      " |  \n",
      " |  __new__(*args, **kwargs) from builtins.type\n",
      " |      Create and return a new object.  See help(type) for accurate signature.\n",
      " |  \n",
      " |  ----------------------------------------------------------------------\n",
      " |  Data descriptors defined here:\n",
      " |  \n",
      " |  denominator\n",
      " |      the denominator of a rational number in lowest terms\n",
      " |  \n",
      " |  imag\n",
      " |      the imaginary part of a complex number\n",
      " |  \n",
      " |  numerator\n",
      " |      the numerator of a rational number in lowest terms\n",
      " |  \n",
      " |  real\n",
      " |      the real part of a complex number\n",
      "\n"
     ]
    }
   ],
   "source": [
    "help(np.random.randint(5))"
   ]
  },
  {
   "cell_type": "code",
   "execution_count": 112,
   "id": "452f9036",
   "metadata": {},
   "outputs": [
    {
     "name": "stdout",
     "output_type": "stream",
     "text": [
      "Help on ndarray object:\n",
      "\n",
      "class ndarray(builtins.object)\n",
      " |  ndarray(shape, dtype=float, buffer=None, offset=0,\n",
      " |          strides=None, order=None)\n",
      " |  \n",
      " |  An array object represents a multidimensional, homogeneous array\n",
      " |  of fixed-size items.  An associated data-type object describes the\n",
      " |  format of each element in the array (its byte-order, how many bytes it\n",
      " |  occupies in memory, whether it is an integer, a floating point number,\n",
      " |  or something else, etc.)\n",
      " |  \n",
      " |  Arrays should be constructed using `array`, `zeros` or `empty` (refer\n",
      " |  to the See Also section below).  The parameters given here refer to\n",
      " |  a low-level method (`ndarray(...)`) for instantiating an array.\n",
      " |  \n",
      " |  For more information, refer to the `numpy` module and examine the\n",
      " |  methods and attributes of an array.\n",
      " |  \n",
      " |  Parameters\n",
      " |  ----------\n",
      " |  (for the __new__ method; see Notes below)\n",
      " |  \n",
      " |  shape : tuple of ints\n",
      " |      Shape of created array.\n",
      " |  dtype : data-type, optional\n",
      " |      Any object that can be interpreted as a numpy data type.\n",
      " |  buffer : object exposing buffer interface, optional\n",
      " |      Used to fill the array with data.\n",
      " |  offset : int, optional\n",
      " |      Offset of array data in buffer.\n",
      " |  strides : tuple of ints, optional\n",
      " |      Strides of data in memory.\n",
      " |  order : {'C', 'F'}, optional\n",
      " |      Row-major (C-style) or column-major (Fortran-style) order.\n",
      " |  \n",
      " |  Attributes\n",
      " |  ----------\n",
      " |  T : ndarray\n",
      " |      Transpose of the array.\n",
      " |  data : buffer\n",
      " |      The array's elements, in memory.\n",
      " |  dtype : dtype object\n",
      " |      Describes the format of the elements in the array.\n",
      " |  flags : dict\n",
      " |      Dictionary containing information related to memory use, e.g.,\n",
      " |      'C_CONTIGUOUS', 'OWNDATA', 'WRITEABLE', etc.\n",
      " |  flat : numpy.flatiter object\n",
      " |      Flattened version of the array as an iterator.  The iterator\n",
      " |      allows assignments, e.g., ``x.flat = 3`` (See `ndarray.flat` for\n",
      " |      assignment examples; TODO).\n",
      " |  imag : ndarray\n",
      " |      Imaginary part of the array.\n",
      " |  real : ndarray\n",
      " |      Real part of the array.\n",
      " |  size : int\n",
      " |      Number of elements in the array.\n",
      " |  itemsize : int\n",
      " |      The memory use of each array element in bytes.\n",
      " |  nbytes : int\n",
      " |      The total number of bytes required to store the array data,\n",
      " |      i.e., ``itemsize * size``.\n",
      " |  ndim : int\n",
      " |      The array's number of dimensions.\n",
      " |  shape : tuple of ints\n",
      " |      Shape of the array.\n",
      " |  strides : tuple of ints\n",
      " |      The step-size required to move from one element to the next in\n",
      " |      memory. For example, a contiguous ``(3, 4)`` array of type\n",
      " |      ``int16`` in C-order has strides ``(8, 2)``.  This implies that\n",
      " |      to move from element to element in memory requires jumps of 2 bytes.\n",
      " |      To move from row-to-row, one needs to jump 8 bytes at a time\n",
      " |      (``2 * 4``).\n",
      " |  ctypes : ctypes object\n",
      " |      Class containing properties of the array needed for interaction\n",
      " |      with ctypes.\n",
      " |  base : ndarray\n",
      " |      If the array is a view into another array, that array is its `base`\n",
      " |      (unless that array is also a view).  The `base` array is where the\n",
      " |      array data is actually stored.\n",
      " |  \n",
      " |  See Also\n",
      " |  --------\n",
      " |  array : Construct an array.\n",
      " |  zeros : Create an array, each element of which is zero.\n",
      " |  empty : Create an array, but leave its allocated memory unchanged (i.e.,\n",
      " |          it contains \"garbage\").\n",
      " |  dtype : Create a data-type.\n",
      " |  numpy.typing.NDArray : An ndarray alias :term:`generic <generic type>`\n",
      " |                         w.r.t. its `dtype.type <numpy.dtype.type>`.\n",
      " |  \n",
      " |  Notes\n",
      " |  -----\n",
      " |  There are two modes of creating an array using ``__new__``:\n",
      " |  \n",
      " |  1. If `buffer` is None, then only `shape`, `dtype`, and `order`\n",
      " |     are used.\n",
      " |  2. If `buffer` is an object exposing the buffer interface, then\n",
      " |     all keywords are interpreted.\n",
      " |  \n",
      " |  No ``__init__`` method is needed because the array is fully initialized\n",
      " |  after the ``__new__`` method.\n",
      " |  \n",
      " |  Examples\n",
      " |  --------\n",
      " |  These examples illustrate the low-level `ndarray` constructor.  Refer\n",
      " |  to the `See Also` section above for easier ways of constructing an\n",
      " |  ndarray.\n",
      " |  \n",
      " |  First mode, `buffer` is None:\n",
      " |  \n",
      " |  >>> np.ndarray(shape=(2,2), dtype=float, order='F')\n",
      " |  array([[0.0e+000, 0.0e+000], # random\n",
      " |         [     nan, 2.5e-323]])\n",
      " |  \n",
      " |  Second mode:\n",
      " |  \n",
      " |  >>> np.ndarray((2,), buffer=np.array([1,2,3]),\n",
      " |  ...            offset=np.int_().itemsize,\n",
      " |  ...            dtype=int) # offset = 1*itemsize, i.e. skip first element\n",
      " |  array([2, 3])\n",
      " |  \n",
      " |  Methods defined here:\n",
      " |  \n",
      " |  __abs__(self, /)\n",
      " |      abs(self)\n",
      " |  \n",
      " |  __add__(self, value, /)\n",
      " |      Return self+value.\n",
      " |  \n",
      " |  __and__(self, value, /)\n",
      " |      Return self&value.\n",
      " |  \n",
      " |  __array__(...)\n",
      " |      a.__array__([dtype], /)\n",
      " |      \n",
      " |      Returns either a new reference to self if dtype is not given or a new array\n",
      " |      of provided data type if dtype is different from the current dtype of the\n",
      " |      array.\n",
      " |  \n",
      " |  __array_finalize__(...)\n",
      " |      a.__array_finalize__(obj, /)\n",
      " |      \n",
      " |      Present so subclasses can call super. Does nothing.\n",
      " |  \n",
      " |  __array_function__(...)\n",
      " |  \n",
      " |  __array_prepare__(...)\n",
      " |      a.__array_prepare__(array[, context], /)\n",
      " |      \n",
      " |      Returns a view of `array` with the same type as self.\n",
      " |  \n",
      " |  __array_ufunc__(...)\n",
      " |  \n",
      " |  __array_wrap__(...)\n",
      " |      a.__array_wrap__(array[, context], /)\n",
      " |      \n",
      " |      Returns a view of `array` with the same type as self.\n",
      " |  \n",
      " |  __bool__(self, /)\n",
      " |      True if self else False\n",
      " |  \n",
      " |  __complex__(...)\n",
      " |  \n",
      " |  __contains__(self, key, /)\n",
      " |      Return key in self.\n",
      " |  \n",
      " |  __copy__(...)\n",
      " |      a.__copy__()\n",
      " |      \n",
      " |      Used if :func:`copy.copy` is called on an array. Returns a copy of the array.\n",
      " |      \n",
      " |      Equivalent to ``a.copy(order='K')``.\n",
      " |  \n",
      " |  __deepcopy__(...)\n",
      " |      a.__deepcopy__(memo, /)\n",
      " |      \n",
      " |      Used if :func:`copy.deepcopy` is called on an array.\n",
      " |  \n",
      " |  __delitem__(self, key, /)\n",
      " |      Delete self[key].\n",
      " |  \n",
      " |  __divmod__(self, value, /)\n",
      " |      Return divmod(self, value).\n",
      " |  \n",
      " |  __dlpack__(...)\n",
      " |      a.__dlpack__(*, stream=None)\n",
      " |      \n",
      " |      DLPack Protocol: Part of the Array API.\n",
      " |  \n",
      " |  __dlpack_device__(...)\n",
      " |      a.__dlpack_device__()\n",
      " |      \n",
      " |      DLPack Protocol: Part of the Array API.\n",
      " |  \n",
      " |  __eq__(self, value, /)\n",
      " |      Return self==value.\n",
      " |  \n",
      " |  __float__(self, /)\n",
      " |      float(self)\n",
      " |  \n",
      " |  __floordiv__(self, value, /)\n",
      " |      Return self//value.\n",
      " |  \n",
      " |  __format__(...)\n",
      " |      Default object formatter.\n",
      " |  \n",
      " |  __ge__(self, value, /)\n",
      " |      Return self>=value.\n",
      " |  \n",
      " |  __getitem__(self, key, /)\n",
      " |      Return self[key].\n",
      " |  \n",
      " |  __gt__(self, value, /)\n",
      " |      Return self>value.\n",
      " |  \n",
      " |  __iadd__(self, value, /)\n",
      " |      Return self+=value.\n",
      " |  \n",
      " |  __iand__(self, value, /)\n",
      " |      Return self&=value.\n",
      " |  \n",
      " |  __ifloordiv__(self, value, /)\n",
      " |      Return self//=value.\n",
      " |  \n",
      " |  __ilshift__(self, value, /)\n",
      " |      Return self<<=value.\n",
      " |  \n",
      " |  __imatmul__(self, value, /)\n",
      " |      Return self@=value.\n",
      " |  \n",
      " |  __imod__(self, value, /)\n",
      " |      Return self%=value.\n",
      " |  \n",
      " |  __imul__(self, value, /)\n",
      " |      Return self*=value.\n",
      " |  \n",
      " |  __index__(self, /)\n",
      " |      Return self converted to an integer, if self is suitable for use as an index into a list.\n",
      " |  \n",
      " |  __int__(self, /)\n",
      " |      int(self)\n",
      " |  \n",
      " |  __invert__(self, /)\n",
      " |      ~self\n",
      " |  \n",
      " |  __ior__(self, value, /)\n",
      " |      Return self|=value.\n",
      " |  \n",
      " |  __ipow__(self, value, /)\n",
      " |      Return self**=value.\n",
      " |  \n",
      " |  __irshift__(self, value, /)\n",
      " |      Return self>>=value.\n",
      " |  \n",
      " |  __isub__(self, value, /)\n",
      " |      Return self-=value.\n",
      " |  \n",
      " |  __iter__(self, /)\n",
      " |      Implement iter(self).\n",
      " |  \n",
      " |  __itruediv__(self, value, /)\n",
      " |      Return self/=value.\n",
      " |  \n",
      " |  __ixor__(self, value, /)\n",
      " |      Return self^=value.\n",
      " |  \n",
      " |  __le__(self, value, /)\n",
      " |      Return self<=value.\n",
      " |  \n",
      " |  __len__(self, /)\n",
      " |      Return len(self).\n",
      " |  \n",
      " |  __lshift__(self, value, /)\n",
      " |      Return self<<value.\n",
      " |  \n",
      " |  __lt__(self, value, /)\n",
      " |      Return self<value.\n",
      " |  \n",
      " |  __matmul__(self, value, /)\n",
      " |      Return self@value.\n",
      " |  \n",
      " |  __mod__(self, value, /)\n",
      " |      Return self%value.\n",
      " |  \n",
      " |  __mul__(self, value, /)\n",
      " |      Return self*value.\n",
      " |  \n",
      " |  __ne__(self, value, /)\n",
      " |      Return self!=value.\n",
      " |  \n",
      " |  __neg__(self, /)\n",
      " |      -self\n",
      " |  \n",
      " |  __or__(self, value, /)\n",
      " |      Return self|value.\n",
      " |  \n",
      " |  __pos__(self, /)\n",
      " |      +self\n",
      " |  \n",
      " |  __pow__(self, value, mod=None, /)\n",
      " |      Return pow(self, value, mod).\n",
      " |  \n",
      " |  __radd__(self, value, /)\n",
      " |      Return value+self.\n",
      " |  \n",
      " |  __rand__(self, value, /)\n",
      " |      Return value&self.\n",
      " |  \n",
      " |  __rdivmod__(self, value, /)\n",
      " |      Return divmod(value, self).\n",
      " |  \n",
      " |  __reduce__(...)\n",
      " |      a.__reduce__()\n",
      " |      \n",
      " |      For pickling.\n",
      " |  \n",
      " |  __reduce_ex__(...)\n",
      " |      Helper for pickle.\n",
      " |  \n",
      " |  __repr__(self, /)\n",
      " |      Return repr(self).\n",
      " |  \n",
      " |  __rfloordiv__(self, value, /)\n",
      " |      Return value//self.\n",
      " |  \n",
      " |  __rlshift__(self, value, /)\n",
      " |      Return value<<self.\n",
      " |  \n",
      " |  __rmatmul__(self, value, /)\n",
      " |      Return value@self.\n",
      " |  \n",
      " |  __rmod__(self, value, /)\n",
      " |      Return value%self.\n",
      " |  \n",
      " |  __rmul__(self, value, /)\n",
      " |      Return value*self.\n",
      " |  \n",
      " |  __ror__(self, value, /)\n",
      " |      Return value|self.\n",
      " |  \n",
      " |  __rpow__(self, value, mod=None, /)\n",
      " |      Return pow(value, self, mod).\n",
      " |  \n",
      " |  __rrshift__(self, value, /)\n",
      " |      Return value>>self.\n",
      " |  \n",
      " |  __rshift__(self, value, /)\n",
      " |      Return self>>value.\n",
      " |  \n",
      " |  __rsub__(self, value, /)\n",
      " |      Return value-self.\n",
      " |  \n",
      " |  __rtruediv__(self, value, /)\n",
      " |      Return value/self.\n",
      " |  \n",
      " |  __rxor__(self, value, /)\n",
      " |      Return value^self.\n",
      " |  \n",
      " |  __setitem__(self, key, value, /)\n",
      " |      Set self[key] to value.\n",
      " |  \n",
      " |  __setstate__(...)\n",
      " |      a.__setstate__(state, /)\n",
      " |      \n",
      " |      For unpickling.\n",
      " |      \n",
      " |      The `state` argument must be a sequence that contains the following\n",
      " |      elements:\n",
      " |      \n",
      " |      Parameters\n",
      " |      ----------\n",
      " |      version : int\n",
      " |          optional pickle version. If omitted defaults to 0.\n",
      " |      shape : tuple\n",
      " |      dtype : data-type\n",
      " |      isFortran : bool\n",
      " |      rawdata : string or list\n",
      " |          a binary string with the data (or a list if 'a' is an object array)\n",
      " |  \n",
      " |  __sizeof__(...)\n",
      " |      Size of object in memory, in bytes.\n",
      " |  \n",
      " |  __str__(self, /)\n",
      " |      Return str(self).\n",
      " |  \n",
      " |  __sub__(self, value, /)\n",
      " |      Return self-value.\n",
      " |  \n",
      " |  __truediv__(self, value, /)\n",
      " |      Return self/value.\n",
      " |  \n",
      " |  __xor__(self, value, /)\n",
      " |      Return self^value.\n",
      " |  \n",
      " |  all(...)\n",
      " |      a.all(axis=None, out=None, keepdims=False, *, where=True)\n",
      " |      \n",
      " |      Returns True if all elements evaluate to True.\n",
      " |      \n",
      " |      Refer to `numpy.all` for full documentation.\n",
      " |      \n",
      " |      See Also\n",
      " |      --------\n",
      " |      numpy.all : equivalent function\n",
      " |  \n",
      " |  any(...)\n",
      " |      a.any(axis=None, out=None, keepdims=False, *, where=True)\n",
      " |      \n",
      " |      Returns True if any of the elements of `a` evaluate to True.\n",
      " |      \n",
      " |      Refer to `numpy.any` for full documentation.\n",
      " |      \n",
      " |      See Also\n",
      " |      --------\n",
      " |      numpy.any : equivalent function\n",
      " |  \n",
      " |  argmax(...)\n",
      " |      a.argmax(axis=None, out=None, *, keepdims=False)\n",
      " |      \n",
      " |      Return indices of the maximum values along the given axis.\n",
      " |      \n",
      " |      Refer to `numpy.argmax` for full documentation.\n",
      " |      \n",
      " |      See Also\n",
      " |      --------\n",
      " |      numpy.argmax : equivalent function\n",
      " |  \n",
      " |  argmin(...)\n",
      " |      a.argmin(axis=None, out=None, *, keepdims=False)\n",
      " |      \n",
      " |      Return indices of the minimum values along the given axis.\n",
      " |      \n",
      " |      Refer to `numpy.argmin` for detailed documentation.\n",
      " |      \n",
      " |      See Also\n",
      " |      --------\n",
      " |      numpy.argmin : equivalent function\n",
      " |  \n",
      " |  argpartition(...)\n",
      " |      a.argpartition(kth, axis=-1, kind='introselect', order=None)\n",
      " |      \n",
      " |      Returns the indices that would partition this array.\n",
      " |      \n",
      " |      Refer to `numpy.argpartition` for full documentation.\n",
      " |      \n",
      " |      .. versionadded:: 1.8.0\n",
      " |      \n",
      " |      See Also\n",
      " |      --------\n",
      " |      numpy.argpartition : equivalent function\n",
      " |  \n",
      " |  argsort(...)\n",
      " |      a.argsort(axis=-1, kind=None, order=None)\n",
      " |      \n",
      " |      Returns the indices that would sort this array.\n",
      " |      \n",
      " |      Refer to `numpy.argsort` for full documentation.\n",
      " |      \n",
      " |      See Also\n",
      " |      --------\n",
      " |      numpy.argsort : equivalent function\n",
      " |  \n",
      " |  astype(...)\n",
      " |      a.astype(dtype, order='K', casting='unsafe', subok=True, copy=True)\n",
      " |      \n",
      " |      Copy of the array, cast to a specified type.\n",
      " |      \n",
      " |      Parameters\n",
      " |      ----------\n",
      " |      dtype : str or dtype\n",
      " |          Typecode or data-type to which the array is cast.\n",
      " |      order : {'C', 'F', 'A', 'K'}, optional\n",
      " |          Controls the memory layout order of the result.\n",
      " |          'C' means C order, 'F' means Fortran order, 'A'\n",
      " |          means 'F' order if all the arrays are Fortran contiguous,\n",
      " |          'C' order otherwise, and 'K' means as close to the\n",
      " |          order the array elements appear in memory as possible.\n",
      " |          Default is 'K'.\n",
      " |      casting : {'no', 'equiv', 'safe', 'same_kind', 'unsafe'}, optional\n",
      " |          Controls what kind of data casting may occur. Defaults to 'unsafe'\n",
      " |          for backwards compatibility.\n",
      " |      \n",
      " |            * 'no' means the data types should not be cast at all.\n",
      " |            * 'equiv' means only byte-order changes are allowed.\n",
      " |            * 'safe' means only casts which can preserve values are allowed.\n",
      " |            * 'same_kind' means only safe casts or casts within a kind,\n",
      " |              like float64 to float32, are allowed.\n",
      " |            * 'unsafe' means any data conversions may be done.\n",
      " |      subok : bool, optional\n",
      " |          If True, then sub-classes will be passed-through (default), otherwise\n",
      " |          the returned array will be forced to be a base-class array.\n",
      " |      copy : bool, optional\n",
      " |          By default, astype always returns a newly allocated array. If this\n",
      " |          is set to false, and the `dtype`, `order`, and `subok`\n",
      " |          requirements are satisfied, the input array is returned instead\n",
      " |          of a copy.\n",
      " |      \n",
      " |      Returns\n",
      " |      -------\n",
      " |      arr_t : ndarray\n",
      " |          Unless `copy` is False and the other conditions for returning the input\n",
      " |          array are satisfied (see description for `copy` input parameter), `arr_t`\n",
      " |          is a new array of the same shape as the input array, with dtype, order\n",
      " |          given by `dtype`, `order`.\n",
      " |      \n",
      " |      Notes\n",
      " |      -----\n",
      " |      .. versionchanged:: 1.17.0\n",
      " |         Casting between a simple data type and a structured one is possible only\n",
      " |         for \"unsafe\" casting.  Casting to multiple fields is allowed, but\n",
      " |         casting from multiple fields is not.\n",
      " |      \n",
      " |      .. versionchanged:: 1.9.0\n",
      " |         Casting from numeric to string types in 'safe' casting mode requires\n",
      " |         that the string dtype length is long enough to store the max\n",
      " |         integer/float value converted.\n",
      " |      \n",
      " |      Raises\n",
      " |      ------\n",
      " |      ComplexWarning\n",
      " |          When casting from complex to float or int. To avoid this,\n",
      " |          one should use ``a.real.astype(t)``.\n",
      " |      \n",
      " |      Examples\n",
      " |      --------\n",
      " |      >>> x = np.array([1, 2, 2.5])\n",
      " |      >>> x\n",
      " |      array([1. ,  2. ,  2.5])\n",
      " |      \n",
      " |      >>> x.astype(int)\n",
      " |      array([1, 2, 2])\n",
      " |  \n",
      " |  byteswap(...)\n",
      " |      a.byteswap(inplace=False)\n",
      " |      \n",
      " |      Swap the bytes of the array elements\n",
      " |      \n",
      " |      Toggle between low-endian and big-endian data representation by\n",
      " |      returning a byteswapped array, optionally swapped in-place.\n",
      " |      Arrays of byte-strings are not swapped. The real and imaginary\n",
      " |      parts of a complex number are swapped individually.\n",
      " |      \n",
      " |      Parameters\n",
      " |      ----------\n",
      " |      inplace : bool, optional\n",
      " |          If ``True``, swap bytes in-place, default is ``False``.\n",
      " |      \n",
      " |      Returns\n",
      " |      -------\n",
      " |      out : ndarray\n",
      " |          The byteswapped array. If `inplace` is ``True``, this is\n",
      " |          a view to self.\n",
      " |      \n",
      " |      Examples\n",
      " |      --------\n",
      " |      >>> A = np.array([1, 256, 8755], dtype=np.int16)\n",
      " |      >>> list(map(hex, A))\n",
      " |      ['0x1', '0x100', '0x2233']\n",
      " |      >>> A.byteswap(inplace=True)\n",
      " |      array([  256,     1, 13090], dtype=int16)\n",
      " |      >>> list(map(hex, A))\n",
      " |      ['0x100', '0x1', '0x3322']\n",
      " |      \n",
      " |      Arrays of byte-strings are not swapped\n",
      " |      \n",
      " |      >>> A = np.array([b'ceg', b'fac'])\n",
      " |      >>> A.byteswap()\n",
      " |      array([b'ceg', b'fac'], dtype='|S3')\n",
      " |      \n",
      " |      ``A.newbyteorder().byteswap()`` produces an array with the same values\n",
      " |        but different representation in memory\n",
      " |      \n",
      " |      >>> A = np.array([1, 2, 3])\n",
      " |      >>> A.view(np.uint8)\n",
      " |      array([1, 0, 0, 0, 0, 0, 0, 0, 2, 0, 0, 0, 0, 0, 0, 0, 3, 0, 0, 0, 0, 0,\n",
      " |             0, 0], dtype=uint8)\n",
      " |      >>> A.newbyteorder().byteswap(inplace=True)\n",
      " |      array([1, 2, 3])\n",
      " |      >>> A.view(np.uint8)\n",
      " |      array([0, 0, 0, 0, 0, 0, 0, 1, 0, 0, 0, 0, 0, 0, 0, 2, 0, 0, 0, 0, 0, 0,\n",
      " |             0, 3], dtype=uint8)\n",
      " |  \n",
      " |  choose(...)\n",
      " |      a.choose(choices, out=None, mode='raise')\n",
      " |      \n",
      " |      Use an index array to construct a new array from a set of choices.\n",
      " |      \n",
      " |      Refer to `numpy.choose` for full documentation.\n",
      " |      \n",
      " |      See Also\n",
      " |      --------\n",
      " |      numpy.choose : equivalent function\n",
      " |  \n",
      " |  clip(...)\n",
      " |      a.clip(min=None, max=None, out=None, **kwargs)\n",
      " |      \n",
      " |      Return an array whose values are limited to ``[min, max]``.\n",
      " |      One of max or min must be given.\n",
      " |      \n",
      " |      Refer to `numpy.clip` for full documentation.\n",
      " |      \n",
      " |      See Also\n",
      " |      --------\n",
      " |      numpy.clip : equivalent function\n",
      " |  \n",
      " |  compress(...)\n",
      " |      a.compress(condition, axis=None, out=None)\n",
      " |      \n",
      " |      Return selected slices of this array along given axis.\n",
      " |      \n",
      " |      Refer to `numpy.compress` for full documentation.\n",
      " |      \n",
      " |      See Also\n",
      " |      --------\n",
      " |      numpy.compress : equivalent function\n",
      " |  \n",
      " |  conj(...)\n",
      " |      a.conj()\n",
      " |      \n",
      " |      Complex-conjugate all elements.\n",
      " |      \n",
      " |      Refer to `numpy.conjugate` for full documentation.\n",
      " |      \n",
      " |      See Also\n",
      " |      --------\n",
      " |      numpy.conjugate : equivalent function\n",
      " |  \n",
      " |  conjugate(...)\n",
      " |      a.conjugate()\n",
      " |      \n",
      " |      Return the complex conjugate, element-wise.\n",
      " |      \n",
      " |      Refer to `numpy.conjugate` for full documentation.\n",
      " |      \n",
      " |      See Also\n",
      " |      --------\n",
      " |      numpy.conjugate : equivalent function\n",
      " |  \n",
      " |  copy(...)\n",
      " |      a.copy(order='C')\n",
      " |      \n",
      " |      Return a copy of the array.\n",
      " |      \n",
      " |      Parameters\n",
      " |      ----------\n",
      " |      order : {'C', 'F', 'A', 'K'}, optional\n",
      " |          Controls the memory layout of the copy. 'C' means C-order,\n",
      " |          'F' means F-order, 'A' means 'F' if `a` is Fortran contiguous,\n",
      " |          'C' otherwise. 'K' means match the layout of `a` as closely\n",
      " |          as possible. (Note that this function and :func:`numpy.copy` are very\n",
      " |          similar but have different default values for their order=\n",
      " |          arguments, and this function always passes sub-classes through.)\n",
      " |      \n",
      " |      See also\n",
      " |      --------\n",
      " |      numpy.copy : Similar function with different default behavior\n",
      " |      numpy.copyto\n",
      " |      \n",
      " |      Notes\n",
      " |      -----\n",
      " |      This function is the preferred method for creating an array copy.  The\n",
      " |      function :func:`numpy.copy` is similar, but it defaults to using order 'K',\n",
      " |      and will not pass sub-classes through by default.\n",
      " |      \n",
      " |      Examples\n",
      " |      --------\n",
      " |      >>> x = np.array([[1,2,3],[4,5,6]], order='F')\n",
      " |      \n",
      " |      >>> y = x.copy()\n",
      " |      \n",
      " |      >>> x.fill(0)\n",
      " |      \n",
      " |      >>> x\n",
      " |      array([[0, 0, 0],\n",
      " |             [0, 0, 0]])\n",
      " |      \n",
      " |      >>> y\n",
      " |      array([[1, 2, 3],\n",
      " |             [4, 5, 6]])\n",
      " |      \n",
      " |      >>> y.flags['C_CONTIGUOUS']\n",
      " |      True\n",
      " |  \n",
      " |  cumprod(...)\n",
      " |      a.cumprod(axis=None, dtype=None, out=None)\n",
      " |      \n",
      " |      Return the cumulative product of the elements along the given axis.\n",
      " |      \n",
      " |      Refer to `numpy.cumprod` for full documentation.\n",
      " |      \n",
      " |      See Also\n",
      " |      --------\n",
      " |      numpy.cumprod : equivalent function\n",
      " |  \n",
      " |  cumsum(...)\n",
      " |      a.cumsum(axis=None, dtype=None, out=None)\n",
      " |      \n",
      " |      Return the cumulative sum of the elements along the given axis.\n",
      " |      \n",
      " |      Refer to `numpy.cumsum` for full documentation.\n",
      " |      \n",
      " |      See Also\n",
      " |      --------\n",
      " |      numpy.cumsum : equivalent function\n",
      " |  \n",
      " |  diagonal(...)\n",
      " |      a.diagonal(offset=0, axis1=0, axis2=1)\n",
      " |      \n",
      " |      Return specified diagonals. In NumPy 1.9 the returned array is a\n",
      " |      read-only view instead of a copy as in previous NumPy versions.  In\n",
      " |      a future version the read-only restriction will be removed.\n",
      " |      \n",
      " |      Refer to :func:`numpy.diagonal` for full documentation.\n",
      " |      \n",
      " |      See Also\n",
      " |      --------\n",
      " |      numpy.diagonal : equivalent function\n",
      " |  \n",
      " |  dot(...)\n",
      " |  \n",
      " |  dump(...)\n",
      " |      a.dump(file)\n",
      " |      \n",
      " |      Dump a pickle of the array to the specified file.\n",
      " |      The array can be read back with pickle.load or numpy.load.\n",
      " |      \n",
      " |      Parameters\n",
      " |      ----------\n",
      " |      file : str or Path\n",
      " |          A string naming the dump file.\n",
      " |      \n",
      " |          .. versionchanged:: 1.17.0\n",
      " |              `pathlib.Path` objects are now accepted.\n",
      " |  \n",
      " |  dumps(...)\n",
      " |      a.dumps()\n",
      " |      \n",
      " |      Returns the pickle of the array as a string.\n",
      " |      pickle.loads will convert the string back to an array.\n",
      " |      \n",
      " |      Parameters\n",
      " |      ----------\n",
      " |      None\n",
      " |  \n",
      " |  fill(...)\n",
      " |      a.fill(value)\n",
      " |      \n",
      " |      Fill the array with a scalar value.\n",
      " |      \n",
      " |      Parameters\n",
      " |      ----------\n",
      " |      value : scalar\n",
      " |          All elements of `a` will be assigned this value.\n",
      " |      \n",
      " |      Examples\n",
      " |      --------\n",
      " |      >>> a = np.array([1, 2])\n",
      " |      >>> a.fill(0)\n",
      " |      >>> a\n",
      " |      array([0, 0])\n",
      " |      >>> a = np.empty(2)\n",
      " |      >>> a.fill(1)\n",
      " |      >>> a\n",
      " |      array([1.,  1.])\n",
      " |      \n",
      " |      Fill expects a scalar value and always behaves the same as assigning\n",
      " |      to a single array element.  The following is a rare example where this\n",
      " |      distinction is important:\n",
      " |      \n",
      " |      >>> a = np.array([None, None], dtype=object)\n",
      " |      >>> a[0] = np.array(3)\n",
      " |      >>> a\n",
      " |      array([array(3), None], dtype=object)\n",
      " |      >>> a.fill(np.array(3))\n",
      " |      >>> a\n",
      " |      array([array(3), array(3)], dtype=object)\n",
      " |      \n",
      " |      Where other forms of assignments will unpack the array being assigned:\n",
      " |      \n",
      " |      >>> a[...] = np.array(3)\n",
      " |      >>> a\n",
      " |      array([3, 3], dtype=object)\n",
      " |  \n",
      " |  flatten(...)\n",
      " |      a.flatten(order='C')\n",
      " |      \n",
      " |      Return a copy of the array collapsed into one dimension.\n",
      " |      \n",
      " |      Parameters\n",
      " |      ----------\n",
      " |      order : {'C', 'F', 'A', 'K'}, optional\n",
      " |          'C' means to flatten in row-major (C-style) order.\n",
      " |          'F' means to flatten in column-major (Fortran-\n",
      " |          style) order. 'A' means to flatten in column-major\n",
      " |          order if `a` is Fortran *contiguous* in memory,\n",
      " |          row-major order otherwise. 'K' means to flatten\n",
      " |          `a` in the order the elements occur in memory.\n",
      " |          The default is 'C'.\n",
      " |      \n",
      " |      Returns\n",
      " |      -------\n",
      " |      y : ndarray\n",
      " |          A copy of the input array, flattened to one dimension.\n",
      " |      \n",
      " |      See Also\n",
      " |      --------\n",
      " |      ravel : Return a flattened array.\n",
      " |      flat : A 1-D flat iterator over the array.\n",
      " |      \n",
      " |      Examples\n",
      " |      --------\n",
      " |      >>> a = np.array([[1,2], [3,4]])\n",
      " |      >>> a.flatten()\n",
      " |      array([1, 2, 3, 4])\n",
      " |      >>> a.flatten('F')\n",
      " |      array([1, 3, 2, 4])\n",
      " |  \n",
      " |  getfield(...)\n",
      " |      a.getfield(dtype, offset=0)\n",
      " |      \n",
      " |      Returns a field of the given array as a certain type.\n",
      " |      \n",
      " |      A field is a view of the array data with a given data-type. The values in\n",
      " |      the view are determined by the given type and the offset into the current\n",
      " |      array in bytes. The offset needs to be such that the view dtype fits in the\n",
      " |      array dtype; for example an array of dtype complex128 has 16-byte elements.\n",
      " |      If taking a view with a 32-bit integer (4 bytes), the offset needs to be\n",
      " |      between 0 and 12 bytes.\n",
      " |      \n",
      " |      Parameters\n",
      " |      ----------\n",
      " |      dtype : str or dtype\n",
      " |          The data type of the view. The dtype size of the view can not be larger\n",
      " |          than that of the array itself.\n",
      " |      offset : int\n",
      " |          Number of bytes to skip before beginning the element view.\n",
      " |      \n",
      " |      Examples\n",
      " |      --------\n",
      " |      >>> x = np.diag([1.+1.j]*2)\n",
      " |      >>> x[1, 1] = 2 + 4.j\n",
      " |      >>> x\n",
      " |      array([[1.+1.j,  0.+0.j],\n",
      " |             [0.+0.j,  2.+4.j]])\n",
      " |      >>> x.getfield(np.float64)\n",
      " |      array([[1.,  0.],\n",
      " |             [0.,  2.]])\n",
      " |      \n",
      " |      By choosing an offset of 8 bytes we can select the complex part of the\n",
      " |      array for our view:\n",
      " |      \n",
      " |      >>> x.getfield(np.float64, offset=8)\n",
      " |      array([[1.,  0.],\n",
      " |             [0.,  4.]])\n",
      " |  \n",
      " |  item(...)\n",
      " |      a.item(*args)\n",
      " |      \n",
      " |      Copy an element of an array to a standard Python scalar and return it.\n",
      " |      \n",
      " |      Parameters\n",
      " |      ----------\n",
      " |      \\*args : Arguments (variable number and type)\n",
      " |      \n",
      " |          * none: in this case, the method only works for arrays\n",
      " |            with one element (`a.size == 1`), which element is\n",
      " |            copied into a standard Python scalar object and returned.\n",
      " |      \n",
      " |          * int_type: this argument is interpreted as a flat index into\n",
      " |            the array, specifying which element to copy and return.\n",
      " |      \n",
      " |          * tuple of int_types: functions as does a single int_type argument,\n",
      " |            except that the argument is interpreted as an nd-index into the\n",
      " |            array.\n",
      " |      \n",
      " |      Returns\n",
      " |      -------\n",
      " |      z : Standard Python scalar object\n",
      " |          A copy of the specified element of the array as a suitable\n",
      " |          Python scalar\n",
      " |      \n",
      " |      Notes\n",
      " |      -----\n",
      " |      When the data type of `a` is longdouble or clongdouble, item() returns\n",
      " |      a scalar array object because there is no available Python scalar that\n",
      " |      would not lose information. Void arrays return a buffer object for item(),\n",
      " |      unless fields are defined, in which case a tuple is returned.\n",
      " |      \n",
      " |      `item` is very similar to a[args], except, instead of an array scalar,\n",
      " |      a standard Python scalar is returned. This can be useful for speeding up\n",
      " |      access to elements of the array and doing arithmetic on elements of the\n",
      " |      array using Python's optimized math.\n",
      " |      \n",
      " |      Examples\n",
      " |      --------\n",
      " |      >>> np.random.seed(123)\n",
      " |      >>> x = np.random.randint(9, size=(3, 3))\n",
      " |      >>> x\n",
      " |      array([[2, 2, 6],\n",
      " |             [1, 3, 6],\n",
      " |             [1, 0, 1]])\n",
      " |      >>> x.item(3)\n",
      " |      1\n",
      " |      >>> x.item(7)\n",
      " |      0\n",
      " |      >>> x.item((0, 1))\n",
      " |      2\n",
      " |      >>> x.item((2, 2))\n",
      " |      1\n",
      " |  \n",
      " |  itemset(...)\n",
      " |      a.itemset(*args)\n",
      " |      \n",
      " |      Insert scalar into an array (scalar is cast to array's dtype, if possible)\n",
      " |      \n",
      " |      There must be at least 1 argument, and define the last argument\n",
      " |      as *item*.  Then, ``a.itemset(*args)`` is equivalent to but faster\n",
      " |      than ``a[args] = item``.  The item should be a scalar value and `args`\n",
      " |      must select a single item in the array `a`.\n",
      " |      \n",
      " |      Parameters\n",
      " |      ----------\n",
      " |      \\*args : Arguments\n",
      " |          If one argument: a scalar, only used in case `a` is of size 1.\n",
      " |          If two arguments: the last argument is the value to be set\n",
      " |          and must be a scalar, the first argument specifies a single array\n",
      " |          element location. It is either an int or a tuple.\n",
      " |      \n",
      " |      Notes\n",
      " |      -----\n",
      " |      Compared to indexing syntax, `itemset` provides some speed increase\n",
      " |      for placing a scalar into a particular location in an `ndarray`,\n",
      " |      if you must do this.  However, generally this is discouraged:\n",
      " |      among other problems, it complicates the appearance of the code.\n",
      " |      Also, when using `itemset` (and `item`) inside a loop, be sure\n",
      " |      to assign the methods to a local variable to avoid the attribute\n",
      " |      look-up at each loop iteration.\n",
      " |      \n",
      " |      Examples\n",
      " |      --------\n",
      " |      >>> np.random.seed(123)\n",
      " |      >>> x = np.random.randint(9, size=(3, 3))\n",
      " |      >>> x\n",
      " |      array([[2, 2, 6],\n",
      " |             [1, 3, 6],\n",
      " |             [1, 0, 1]])\n",
      " |      >>> x.itemset(4, 0)\n",
      " |      >>> x.itemset((2, 2), 9)\n",
      " |      >>> x\n",
      " |      array([[2, 2, 6],\n",
      " |             [1, 0, 6],\n",
      " |             [1, 0, 9]])\n",
      " |  \n",
      " |  max(...)\n",
      " |      a.max(axis=None, out=None, keepdims=False, initial=<no value>, where=True)\n",
      " |      \n",
      " |      Return the maximum along a given axis.\n",
      " |      \n",
      " |      Refer to `numpy.amax` for full documentation.\n",
      " |      \n",
      " |      See Also\n",
      " |      --------\n",
      " |      numpy.amax : equivalent function\n",
      " |  \n",
      " |  mean(...)\n",
      " |      a.mean(axis=None, dtype=None, out=None, keepdims=False, *, where=True)\n",
      " |      \n",
      " |      Returns the average of the array elements along given axis.\n",
      " |      \n",
      " |      Refer to `numpy.mean` for full documentation.\n",
      " |      \n",
      " |      See Also\n",
      " |      --------\n",
      " |      numpy.mean : equivalent function\n",
      " |  \n",
      " |  min(...)\n",
      " |      a.min(axis=None, out=None, keepdims=False, initial=<no value>, where=True)\n",
      " |      \n",
      " |      Return the minimum along a given axis.\n",
      " |      \n",
      " |      Refer to `numpy.amin` for full documentation.\n",
      " |      \n",
      " |      See Also\n",
      " |      --------\n",
      " |      numpy.amin : equivalent function\n",
      " |  \n",
      " |  newbyteorder(...)\n",
      " |      arr.newbyteorder(new_order='S', /)\n",
      " |      \n",
      " |      Return the array with the same data viewed with a different byte order.\n",
      " |      \n",
      " |      Equivalent to::\n",
      " |      \n",
      " |          arr.view(arr.dtype.newbytorder(new_order))\n",
      " |      \n",
      " |      Changes are also made in all fields and sub-arrays of the array data\n",
      " |      type.\n",
      " |      \n",
      " |      \n",
      " |      \n",
      " |      Parameters\n",
      " |      ----------\n",
      " |      new_order : string, optional\n",
      " |          Byte order to force; a value from the byte order specifications\n",
      " |          below. `new_order` codes can be any of:\n",
      " |      \n",
      " |          * 'S' - swap dtype from current to opposite endian\n",
      " |          * {'<', 'little'} - little endian\n",
      " |          * {'>', 'big'} - big endian\n",
      " |          * {'=', 'native'} - native order, equivalent to `sys.byteorder`\n",
      " |          * {'|', 'I'} - ignore (no change to byte order)\n",
      " |      \n",
      " |          The default value ('S') results in swapping the current\n",
      " |          byte order.\n",
      " |      \n",
      " |      \n",
      " |      Returns\n",
      " |      -------\n",
      " |      new_arr : array\n",
      " |          New array object with the dtype reflecting given change to the\n",
      " |          byte order.\n",
      " |  \n",
      " |  nonzero(...)\n",
      " |      a.nonzero()\n",
      " |      \n",
      " |      Return the indices of the elements that are non-zero.\n",
      " |      \n",
      " |      Refer to `numpy.nonzero` for full documentation.\n",
      " |      \n",
      " |      See Also\n",
      " |      --------\n",
      " |      numpy.nonzero : equivalent function\n",
      " |  \n",
      " |  partition(...)\n",
      " |      a.partition(kth, axis=-1, kind='introselect', order=None)\n",
      " |      \n",
      " |      Rearranges the elements in the array in such a way that the value of the\n",
      " |      element in kth position is in the position it would be in a sorted array.\n",
      " |      All elements smaller than the kth element are moved before this element and\n",
      " |      all equal or greater are moved behind it. The ordering of the elements in\n",
      " |      the two partitions is undefined.\n",
      " |      \n",
      " |      .. versionadded:: 1.8.0\n",
      " |      \n",
      " |      Parameters\n",
      " |      ----------\n",
      " |      kth : int or sequence of ints\n",
      " |          Element index to partition by. The kth element value will be in its\n",
      " |          final sorted position and all smaller elements will be moved before it\n",
      " |          and all equal or greater elements behind it.\n",
      " |          The order of all elements in the partitions is undefined.\n",
      " |          If provided with a sequence of kth it will partition all elements\n",
      " |          indexed by kth of them into their sorted position at once.\n",
      " |      \n",
      " |          .. deprecated:: 1.22.0\n",
      " |              Passing booleans as index is deprecated.\n",
      " |      axis : int, optional\n",
      " |          Axis along which to sort. Default is -1, which means sort along the\n",
      " |          last axis.\n",
      " |      kind : {'introselect'}, optional\n",
      " |          Selection algorithm. Default is 'introselect'.\n",
      " |      order : str or list of str, optional\n",
      " |          When `a` is an array with fields defined, this argument specifies\n",
      " |          which fields to compare first, second, etc. A single field can\n",
      " |          be specified as a string, and not all fields need to be specified,\n",
      " |          but unspecified fields will still be used, in the order in which\n",
      " |          they come up in the dtype, to break ties.\n",
      " |      \n",
      " |      See Also\n",
      " |      --------\n",
      " |      numpy.partition : Return a partitioned copy of an array.\n",
      " |      argpartition : Indirect partition.\n",
      " |      sort : Full sort.\n",
      " |      \n",
      " |      Notes\n",
      " |      -----\n",
      " |      See ``np.partition`` for notes on the different algorithms.\n",
      " |      \n",
      " |      Examples\n",
      " |      --------\n",
      " |      >>> a = np.array([3, 4, 2, 1])\n",
      " |      >>> a.partition(3)\n",
      " |      >>> a\n",
      " |      array([2, 1, 3, 4])\n",
      " |      \n",
      " |      >>> a.partition((1, 3))\n",
      " |      >>> a\n",
      " |      array([1, 2, 3, 4])\n",
      " |  \n",
      " |  prod(...)\n",
      " |      a.prod(axis=None, dtype=None, out=None, keepdims=False, initial=1, where=True)\n",
      " |      \n",
      " |      Return the product of the array elements over the given axis\n",
      " |      \n",
      " |      Refer to `numpy.prod` for full documentation.\n",
      " |      \n",
      " |      See Also\n",
      " |      --------\n",
      " |      numpy.prod : equivalent function\n",
      " |  \n",
      " |  ptp(...)\n",
      " |      a.ptp(axis=None, out=None, keepdims=False)\n",
      " |      \n",
      " |      Peak to peak (maximum - minimum) value along a given axis.\n",
      " |      \n",
      " |      Refer to `numpy.ptp` for full documentation.\n",
      " |      \n",
      " |      See Also\n",
      " |      --------\n",
      " |      numpy.ptp : equivalent function\n",
      " |  \n",
      " |  put(...)\n",
      " |      a.put(indices, values, mode='raise')\n",
      " |      \n",
      " |      Set ``a.flat[n] = values[n]`` for all `n` in indices.\n",
      " |      \n",
      " |      Refer to `numpy.put` for full documentation.\n",
      " |      \n",
      " |      See Also\n",
      " |      --------\n",
      " |      numpy.put : equivalent function\n",
      " |  \n",
      " |  ravel(...)\n",
      " |      a.ravel([order])\n",
      " |      \n",
      " |      Return a flattened array.\n",
      " |      \n",
      " |      Refer to `numpy.ravel` for full documentation.\n",
      " |      \n",
      " |      See Also\n",
      " |      --------\n",
      " |      numpy.ravel : equivalent function\n",
      " |      \n",
      " |      ndarray.flat : a flat iterator on the array.\n",
      " |  \n",
      " |  repeat(...)\n",
      " |      a.repeat(repeats, axis=None)\n",
      " |      \n",
      " |      Repeat elements of an array.\n",
      " |      \n",
      " |      Refer to `numpy.repeat` for full documentation.\n",
      " |      \n",
      " |      See Also\n",
      " |      --------\n",
      " |      numpy.repeat : equivalent function\n",
      " |  \n",
      " |  reshape(...)\n",
      " |      a.reshape(shape, order='C')\n",
      " |      \n",
      " |      Returns an array containing the same data with a new shape.\n",
      " |      \n",
      " |      Refer to `numpy.reshape` for full documentation.\n",
      " |      \n",
      " |      See Also\n",
      " |      --------\n",
      " |      numpy.reshape : equivalent function\n",
      " |      \n",
      " |      Notes\n",
      " |      -----\n",
      " |      Unlike the free function `numpy.reshape`, this method on `ndarray` allows\n",
      " |      the elements of the shape parameter to be passed in as separate arguments.\n",
      " |      For example, ``a.reshape(10, 11)`` is equivalent to\n",
      " |      ``a.reshape((10, 11))``.\n",
      " |  \n",
      " |  resize(...)\n",
      " |      a.resize(new_shape, refcheck=True)\n",
      " |      \n",
      " |      Change shape and size of array in-place.\n",
      " |      \n",
      " |      Parameters\n",
      " |      ----------\n",
      " |      new_shape : tuple of ints, or `n` ints\n",
      " |          Shape of resized array.\n",
      " |      refcheck : bool, optional\n",
      " |          If False, reference count will not be checked. Default is True.\n",
      " |      \n",
      " |      Returns\n",
      " |      -------\n",
      " |      None\n",
      " |      \n",
      " |      Raises\n",
      " |      ------\n",
      " |      ValueError\n",
      " |          If `a` does not own its own data or references or views to it exist,\n",
      " |          and the data memory must be changed.\n",
      " |          PyPy only: will always raise if the data memory must be changed, since\n",
      " |          there is no reliable way to determine if references or views to it\n",
      " |          exist.\n",
      " |      \n",
      " |      SystemError\n",
      " |          If the `order` keyword argument is specified. This behaviour is a\n",
      " |          bug in NumPy.\n",
      " |      \n",
      " |      See Also\n",
      " |      --------\n",
      " |      resize : Return a new array with the specified shape.\n",
      " |      \n",
      " |      Notes\n",
      " |      -----\n",
      " |      This reallocates space for the data area if necessary.\n",
      " |      \n",
      " |      Only contiguous arrays (data elements consecutive in memory) can be\n",
      " |      resized.\n",
      " |      \n",
      " |      The purpose of the reference count check is to make sure you\n",
      " |      do not use this array as a buffer for another Python object and then\n",
      " |      reallocate the memory. However, reference counts can increase in\n",
      " |      other ways so if you are sure that you have not shared the memory\n",
      " |      for this array with another Python object, then you may safely set\n",
      " |      `refcheck` to False.\n",
      " |      \n",
      " |      Examples\n",
      " |      --------\n",
      " |      Shrinking an array: array is flattened (in the order that the data are\n",
      " |      stored in memory), resized, and reshaped:\n",
      " |      \n",
      " |      >>> a = np.array([[0, 1], [2, 3]], order='C')\n",
      " |      >>> a.resize((2, 1))\n",
      " |      >>> a\n",
      " |      array([[0],\n",
      " |             [1]])\n",
      " |      \n",
      " |      >>> a = np.array([[0, 1], [2, 3]], order='F')\n",
      " |      >>> a.resize((2, 1))\n",
      " |      >>> a\n",
      " |      array([[0],\n",
      " |             [2]])\n",
      " |      \n",
      " |      Enlarging an array: as above, but missing entries are filled with zeros:\n",
      " |      \n",
      " |      >>> b = np.array([[0, 1], [2, 3]])\n",
      " |      >>> b.resize(2, 3) # new_shape parameter doesn't have to be a tuple\n",
      " |      >>> b\n",
      " |      array([[0, 1, 2],\n",
      " |             [3, 0, 0]])\n",
      " |      \n",
      " |      Referencing an array prevents resizing...\n",
      " |      \n",
      " |      >>> c = a\n",
      " |      >>> a.resize((1, 1))\n",
      " |      Traceback (most recent call last):\n",
      " |      ...\n",
      " |      ValueError: cannot resize an array that references or is referenced ...\n",
      " |      \n",
      " |      Unless `refcheck` is False:\n",
      " |      \n",
      " |      >>> a.resize((1, 1), refcheck=False)\n",
      " |      >>> a\n",
      " |      array([[0]])\n",
      " |      >>> c\n",
      " |      array([[0]])\n",
      " |  \n",
      " |  round(...)\n",
      " |      a.round(decimals=0, out=None)\n",
      " |      \n",
      " |      Return `a` with each element rounded to the given number of decimals.\n",
      " |      \n",
      " |      Refer to `numpy.around` for full documentation.\n",
      " |      \n",
      " |      See Also\n",
      " |      --------\n",
      " |      numpy.around : equivalent function\n",
      " |  \n",
      " |  searchsorted(...)\n",
      " |      a.searchsorted(v, side='left', sorter=None)\n",
      " |      \n",
      " |      Find indices where elements of v should be inserted in a to maintain order.\n",
      " |      \n",
      " |      For full documentation, see `numpy.searchsorted`\n",
      " |      \n",
      " |      See Also\n",
      " |      --------\n",
      " |      numpy.searchsorted : equivalent function\n",
      " |  \n",
      " |  setfield(...)\n",
      " |      a.setfield(val, dtype, offset=0)\n",
      " |      \n",
      " |      Put a value into a specified place in a field defined by a data-type.\n",
      " |      \n",
      " |      Place `val` into `a`'s field defined by `dtype` and beginning `offset`\n",
      " |      bytes into the field.\n",
      " |      \n",
      " |      Parameters\n",
      " |      ----------\n",
      " |      val : object\n",
      " |          Value to be placed in field.\n",
      " |      dtype : dtype object\n",
      " |          Data-type of the field in which to place `val`.\n",
      " |      offset : int, optional\n",
      " |          The number of bytes into the field at which to place `val`.\n",
      " |      \n",
      " |      Returns\n",
      " |      -------\n",
      " |      None\n",
      " |      \n",
      " |      See Also\n",
      " |      --------\n",
      " |      getfield\n",
      " |      \n",
      " |      Examples\n",
      " |      --------\n",
      " |      >>> x = np.eye(3)\n",
      " |      >>> x.getfield(np.float64)\n",
      " |      array([[1.,  0.,  0.],\n",
      " |             [0.,  1.,  0.],\n",
      " |             [0.,  0.,  1.]])\n",
      " |      >>> x.setfield(3, np.int32)\n",
      " |      >>> x.getfield(np.int32)\n",
      " |      array([[3, 3, 3],\n",
      " |             [3, 3, 3],\n",
      " |             [3, 3, 3]], dtype=int32)\n",
      " |      >>> x\n",
      " |      array([[1.0e+000, 1.5e-323, 1.5e-323],\n",
      " |             [1.5e-323, 1.0e+000, 1.5e-323],\n",
      " |             [1.5e-323, 1.5e-323, 1.0e+000]])\n",
      " |      >>> x.setfield(np.eye(3), np.int32)\n",
      " |      >>> x\n",
      " |      array([[1.,  0.,  0.],\n",
      " |             [0.,  1.,  0.],\n",
      " |             [0.,  0.,  1.]])\n",
      " |  \n",
      " |  setflags(...)\n",
      " |      a.setflags(write=None, align=None, uic=None)\n",
      " |      \n",
      " |      Set array flags WRITEABLE, ALIGNED, WRITEBACKIFCOPY,\n",
      " |      respectively.\n",
      " |      \n",
      " |      These Boolean-valued flags affect how numpy interprets the memory\n",
      " |      area used by `a` (see Notes below). The ALIGNED flag can only\n",
      " |      be set to True if the data is actually aligned according to the type.\n",
      " |      The WRITEBACKIFCOPY and flag can never be set\n",
      " |      to True. The flag WRITEABLE can only be set to True if the array owns its\n",
      " |      own memory, or the ultimate owner of the memory exposes a writeable buffer\n",
      " |      interface, or is a string. (The exception for string is made so that\n",
      " |      unpickling can be done without copying memory.)\n",
      " |      \n",
      " |      Parameters\n",
      " |      ----------\n",
      " |      write : bool, optional\n",
      " |          Describes whether or not `a` can be written to.\n",
      " |      align : bool, optional\n",
      " |          Describes whether or not `a` is aligned properly for its type.\n",
      " |      uic : bool, optional\n",
      " |          Describes whether or not `a` is a copy of another \"base\" array.\n",
      " |      \n",
      " |      Notes\n",
      " |      -----\n",
      " |      Array flags provide information about how the memory area used\n",
      " |      for the array is to be interpreted. There are 7 Boolean flags\n",
      " |      in use, only four of which can be changed by the user:\n",
      " |      WRITEBACKIFCOPY, WRITEABLE, and ALIGNED.\n",
      " |      \n",
      " |      WRITEABLE (W) the data area can be written to;\n",
      " |      \n",
      " |      ALIGNED (A) the data and strides are aligned appropriately for the hardware\n",
      " |      (as determined by the compiler);\n",
      " |      \n",
      " |      WRITEBACKIFCOPY (X) this array is a copy of some other array (referenced\n",
      " |      by .base). When the C-API function PyArray_ResolveWritebackIfCopy is\n",
      " |      called, the base array will be updated with the contents of this array.\n",
      " |      \n",
      " |      All flags can be accessed using the single (upper case) letter as well\n",
      " |      as the full name.\n",
      " |      \n",
      " |      Examples\n",
      " |      --------\n",
      " |      >>> y = np.array([[3, 1, 7],\n",
      " |      ...               [2, 0, 0],\n",
      " |      ...               [8, 5, 9]])\n",
      " |      >>> y\n",
      " |      array([[3, 1, 7],\n",
      " |             [2, 0, 0],\n",
      " |             [8, 5, 9]])\n",
      " |      >>> y.flags\n",
      " |        C_CONTIGUOUS : True\n",
      " |        F_CONTIGUOUS : False\n",
      " |        OWNDATA : True\n",
      " |        WRITEABLE : True\n",
      " |        ALIGNED : True\n",
      " |        WRITEBACKIFCOPY : False\n",
      " |      >>> y.setflags(write=0, align=0)\n",
      " |      >>> y.flags\n",
      " |        C_CONTIGUOUS : True\n",
      " |        F_CONTIGUOUS : False\n",
      " |        OWNDATA : True\n",
      " |        WRITEABLE : False\n",
      " |        ALIGNED : False\n",
      " |        WRITEBACKIFCOPY : False\n",
      " |      >>> y.setflags(uic=1)\n",
      " |      Traceback (most recent call last):\n",
      " |        File \"<stdin>\", line 1, in <module>\n",
      " |      ValueError: cannot set WRITEBACKIFCOPY flag to True\n",
      " |  \n",
      " |  sort(...)\n",
      " |      a.sort(axis=-1, kind=None, order=None)\n",
      " |      \n",
      " |      Sort an array in-place. Refer to `numpy.sort` for full documentation.\n",
      " |      \n",
      " |      Parameters\n",
      " |      ----------\n",
      " |      axis : int, optional\n",
      " |          Axis along which to sort. Default is -1, which means sort along the\n",
      " |          last axis.\n",
      " |      kind : {'quicksort', 'mergesort', 'heapsort', 'stable'}, optional\n",
      " |          Sorting algorithm. The default is 'quicksort'. Note that both 'stable'\n",
      " |          and 'mergesort' use timsort under the covers and, in general, the\n",
      " |          actual implementation will vary with datatype. The 'mergesort' option\n",
      " |          is retained for backwards compatibility.\n",
      " |      \n",
      " |          .. versionchanged:: 1.15.0\n",
      " |             The 'stable' option was added.\n",
      " |      \n",
      " |      order : str or list of str, optional\n",
      " |          When `a` is an array with fields defined, this argument specifies\n",
      " |          which fields to compare first, second, etc.  A single field can\n",
      " |          be specified as a string, and not all fields need be specified,\n",
      " |          but unspecified fields will still be used, in the order in which\n",
      " |          they come up in the dtype, to break ties.\n",
      " |      \n",
      " |      See Also\n",
      " |      --------\n",
      " |      numpy.sort : Return a sorted copy of an array.\n",
      " |      numpy.argsort : Indirect sort.\n",
      " |      numpy.lexsort : Indirect stable sort on multiple keys.\n",
      " |      numpy.searchsorted : Find elements in sorted array.\n",
      " |      numpy.partition: Partial sort.\n",
      " |      \n",
      " |      Notes\n",
      " |      -----\n",
      " |      See `numpy.sort` for notes on the different sorting algorithms.\n",
      " |      \n",
      " |      Examples\n",
      " |      --------\n",
      " |      >>> a = np.array([[1,4], [3,1]])\n",
      " |      >>> a.sort(axis=1)\n",
      " |      >>> a\n",
      " |      array([[1, 4],\n",
      " |             [1, 3]])\n",
      " |      >>> a.sort(axis=0)\n",
      " |      >>> a\n",
      " |      array([[1, 3],\n",
      " |             [1, 4]])\n",
      " |      \n",
      " |      Use the `order` keyword to specify a field to use when sorting a\n",
      " |      structured array:\n",
      " |      \n",
      " |      >>> a = np.array([('a', 2), ('c', 1)], dtype=[('x', 'S1'), ('y', int)])\n",
      " |      >>> a.sort(order='y')\n",
      " |      >>> a\n",
      " |      array([(b'c', 1), (b'a', 2)],\n",
      " |            dtype=[('x', 'S1'), ('y', '<i8')])\n",
      " |  \n",
      " |  squeeze(...)\n",
      " |      a.squeeze(axis=None)\n",
      " |      \n",
      " |      Remove axes of length one from `a`.\n",
      " |      \n",
      " |      Refer to `numpy.squeeze` for full documentation.\n",
      " |      \n",
      " |      See Also\n",
      " |      --------\n",
      " |      numpy.squeeze : equivalent function\n",
      " |  \n",
      " |  std(...)\n",
      " |      a.std(axis=None, dtype=None, out=None, ddof=0, keepdims=False, *, where=True)\n",
      " |      \n",
      " |      Returns the standard deviation of the array elements along given axis.\n",
      " |      \n",
      " |      Refer to `numpy.std` for full documentation.\n",
      " |      \n",
      " |      See Also\n",
      " |      --------\n",
      " |      numpy.std : equivalent function\n",
      " |  \n",
      " |  sum(...)\n",
      " |      a.sum(axis=None, dtype=None, out=None, keepdims=False, initial=0, where=True)\n",
      " |      \n",
      " |      Return the sum of the array elements over the given axis.\n",
      " |      \n",
      " |      Refer to `numpy.sum` for full documentation.\n",
      " |      \n",
      " |      See Also\n",
      " |      --------\n",
      " |      numpy.sum : equivalent function\n",
      " |  \n",
      " |  swapaxes(...)\n",
      " |      a.swapaxes(axis1, axis2)\n",
      " |      \n",
      " |      Return a view of the array with `axis1` and `axis2` interchanged.\n",
      " |      \n",
      " |      Refer to `numpy.swapaxes` for full documentation.\n",
      " |      \n",
      " |      See Also\n",
      " |      --------\n",
      " |      numpy.swapaxes : equivalent function\n",
      " |  \n",
      " |  take(...)\n",
      " |      a.take(indices, axis=None, out=None, mode='raise')\n",
      " |      \n",
      " |      Return an array formed from the elements of `a` at the given indices.\n",
      " |      \n",
      " |      Refer to `numpy.take` for full documentation.\n",
      " |      \n",
      " |      See Also\n",
      " |      --------\n",
      " |      numpy.take : equivalent function\n",
      " |  \n",
      " |  tobytes(...)\n",
      " |      a.tobytes(order='C')\n",
      " |      \n",
      " |      Construct Python bytes containing the raw data bytes in the array.\n",
      " |      \n",
      " |      Constructs Python bytes showing a copy of the raw contents of\n",
      " |      data memory. The bytes object is produced in C-order by default.\n",
      " |      This behavior is controlled by the ``order`` parameter.\n",
      " |      \n",
      " |      .. versionadded:: 1.9.0\n",
      " |      \n",
      " |      Parameters\n",
      " |      ----------\n",
      " |      order : {'C', 'F', 'A'}, optional\n",
      " |          Controls the memory layout of the bytes object. 'C' means C-order,\n",
      " |          'F' means F-order, 'A' (short for *Any*) means 'F' if `a` is\n",
      " |          Fortran contiguous, 'C' otherwise. Default is 'C'.\n",
      " |      \n",
      " |      Returns\n",
      " |      -------\n",
      " |      s : bytes\n",
      " |          Python bytes exhibiting a copy of `a`'s raw data.\n",
      " |      \n",
      " |      See also\n",
      " |      --------\n",
      " |      frombuffer\n",
      " |          Inverse of this operation, construct a 1-dimensional array from Python\n",
      " |          bytes.\n",
      " |      \n",
      " |      Examples\n",
      " |      --------\n",
      " |      >>> x = np.array([[0, 1], [2, 3]], dtype='<u2')\n",
      " |      >>> x.tobytes()\n",
      " |      b'\\x00\\x00\\x01\\x00\\x02\\x00\\x03\\x00'\n",
      " |      >>> x.tobytes('C') == x.tobytes()\n",
      " |      True\n",
      " |      >>> x.tobytes('F')\n",
      " |      b'\\x00\\x00\\x02\\x00\\x01\\x00\\x03\\x00'\n",
      " |  \n",
      " |  tofile(...)\n",
      " |      a.tofile(fid, sep=\"\", format=\"%s\")\n",
      " |      \n",
      " |      Write array to a file as text or binary (default).\n",
      " |      \n",
      " |      Data is always written in 'C' order, independent of the order of `a`.\n",
      " |      The data produced by this method can be recovered using the function\n",
      " |      fromfile().\n",
      " |      \n",
      " |      Parameters\n",
      " |      ----------\n",
      " |      fid : file or str or Path\n",
      " |          An open file object, or a string containing a filename.\n",
      " |      \n",
      " |          .. versionchanged:: 1.17.0\n",
      " |              `pathlib.Path` objects are now accepted.\n",
      " |      \n",
      " |      sep : str\n",
      " |          Separator between array items for text output.\n",
      " |          If \"\" (empty), a binary file is written, equivalent to\n",
      " |          ``file.write(a.tobytes())``.\n",
      " |      format : str\n",
      " |          Format string for text file output.\n",
      " |          Each entry in the array is formatted to text by first converting\n",
      " |          it to the closest Python type, and then using \"format\" % item.\n",
      " |      \n",
      " |      Notes\n",
      " |      -----\n",
      " |      This is a convenience function for quick storage of array data.\n",
      " |      Information on endianness and precision is lost, so this method is not a\n",
      " |      good choice for files intended to archive data or transport data between\n",
      " |      machines with different endianness. Some of these problems can be overcome\n",
      " |      by outputting the data as text files, at the expense of speed and file\n",
      " |      size.\n",
      " |      \n",
      " |      When fid is a file object, array contents are directly written to the\n",
      " |      file, bypassing the file object's ``write`` method. As a result, tofile\n",
      " |      cannot be used with files objects supporting compression (e.g., GzipFile)\n",
      " |      or file-like objects that do not support ``fileno()`` (e.g., BytesIO).\n",
      " |  \n",
      " |  tolist(...)\n",
      " |      a.tolist()\n",
      " |      \n",
      " |      Return the array as an ``a.ndim``-levels deep nested list of Python scalars.\n",
      " |      \n",
      " |      Return a copy of the array data as a (nested) Python list.\n",
      " |      Data items are converted to the nearest compatible builtin Python type, via\n",
      " |      the `~numpy.ndarray.item` function.\n",
      " |      \n",
      " |      If ``a.ndim`` is 0, then since the depth of the nested list is 0, it will\n",
      " |      not be a list at all, but a simple Python scalar.\n",
      " |      \n",
      " |      Parameters\n",
      " |      ----------\n",
      " |      none\n",
      " |      \n",
      " |      Returns\n",
      " |      -------\n",
      " |      y : object, or list of object, or list of list of object, or ...\n",
      " |          The possibly nested list of array elements.\n",
      " |      \n",
      " |      Notes\n",
      " |      -----\n",
      " |      The array may be recreated via ``a = np.array(a.tolist())``, although this\n",
      " |      may sometimes lose precision.\n",
      " |      \n",
      " |      Examples\n",
      " |      --------\n",
      " |      For a 1D array, ``a.tolist()`` is almost the same as ``list(a)``,\n",
      " |      except that ``tolist`` changes numpy scalars to Python scalars:\n",
      " |      \n",
      " |      >>> a = np.uint32([1, 2])\n",
      " |      >>> a_list = list(a)\n",
      " |      >>> a_list\n",
      " |      [1, 2]\n",
      " |      >>> type(a_list[0])\n",
      " |      <class 'numpy.uint32'>\n",
      " |      >>> a_tolist = a.tolist()\n",
      " |      >>> a_tolist\n",
      " |      [1, 2]\n",
      " |      >>> type(a_tolist[0])\n",
      " |      <class 'int'>\n",
      " |      \n",
      " |      Additionally, for a 2D array, ``tolist`` applies recursively:\n",
      " |      \n",
      " |      >>> a = np.array([[1, 2], [3, 4]])\n",
      " |      >>> list(a)\n",
      " |      [array([1, 2]), array([3, 4])]\n",
      " |      >>> a.tolist()\n",
      " |      [[1, 2], [3, 4]]\n",
      " |      \n",
      " |      The base case for this recursion is a 0D array:\n",
      " |      \n",
      " |      >>> a = np.array(1)\n",
      " |      >>> list(a)\n",
      " |      Traceback (most recent call last):\n",
      " |        ...\n",
      " |      TypeError: iteration over a 0-d array\n",
      " |      >>> a.tolist()\n",
      " |      1\n",
      " |  \n",
      " |  tostring(...)\n",
      " |      a.tostring(order='C')\n",
      " |      \n",
      " |      A compatibility alias for `tobytes`, with exactly the same behavior.\n",
      " |      \n",
      " |      Despite its name, it returns `bytes` not `str`\\ s.\n",
      " |      \n",
      " |      .. deprecated:: 1.19.0\n",
      " |  \n",
      " |  trace(...)\n",
      " |      a.trace(offset=0, axis1=0, axis2=1, dtype=None, out=None)\n",
      " |      \n",
      " |      Return the sum along diagonals of the array.\n",
      " |      \n",
      " |      Refer to `numpy.trace` for full documentation.\n",
      " |      \n",
      " |      See Also\n",
      " |      --------\n",
      " |      numpy.trace : equivalent function\n",
      " |  \n",
      " |  transpose(...)\n",
      " |      a.transpose(*axes)\n",
      " |      \n",
      " |      Returns a view of the array with axes transposed.\n",
      " |      \n",
      " |      Refer to `numpy.transpose` for full documentation.\n",
      " |      \n",
      " |      Parameters\n",
      " |      ----------\n",
      " |      axes : None, tuple of ints, or `n` ints\n",
      " |      \n",
      " |       * None or no argument: reverses the order of the axes.\n",
      " |      \n",
      " |       * tuple of ints: `i` in the `j`-th place in the tuple means that the\n",
      " |         array's `i`-th axis becomes the transposed array's `j`-th axis.\n",
      " |      \n",
      " |       * `n` ints: same as an n-tuple of the same ints (this form is\n",
      " |         intended simply as a \"convenience\" alternative to the tuple form).\n",
      " |      \n",
      " |      Returns\n",
      " |      -------\n",
      " |      p : ndarray\n",
      " |          View of the array with its axes suitably permuted.\n",
      " |      \n",
      " |      See Also\n",
      " |      --------\n",
      " |      transpose : Equivalent function.\n",
      " |      ndarray.T : Array property returning the array transposed.\n",
      " |      ndarray.reshape : Give a new shape to an array without changing its data.\n",
      " |      \n",
      " |      Examples\n",
      " |      --------\n",
      " |      >>> a = np.array([[1, 2], [3, 4]])\n",
      " |      >>> a\n",
      " |      array([[1, 2],\n",
      " |             [3, 4]])\n",
      " |      >>> a.transpose()\n",
      " |      array([[1, 3],\n",
      " |             [2, 4]])\n",
      " |      >>> a.transpose((1, 0))\n",
      " |      array([[1, 3],\n",
      " |             [2, 4]])\n",
      " |      >>> a.transpose(1, 0)\n",
      " |      array([[1, 3],\n",
      " |             [2, 4]])\n",
      " |      \n",
      " |      >>> a = np.array([1, 2, 3, 4])\n",
      " |      >>> a\n",
      " |      array([1, 2, 3, 4])\n",
      " |      >>> a.transpose()\n",
      " |      array([1, 2, 3, 4])\n",
      " |  \n",
      " |  var(...)\n",
      " |      a.var(axis=None, dtype=None, out=None, ddof=0, keepdims=False, *, where=True)\n",
      " |      \n",
      " |      Returns the variance of the array elements, along given axis.\n",
      " |      \n",
      " |      Refer to `numpy.var` for full documentation.\n",
      " |      \n",
      " |      See Also\n",
      " |      --------\n",
      " |      numpy.var : equivalent function\n",
      " |  \n",
      " |  view(...)\n",
      " |      a.view([dtype][, type])\n",
      " |      \n",
      " |      New view of array with the same data.\n",
      " |      \n",
      " |      .. note::\n",
      " |          Passing None for ``dtype`` is different from omitting the parameter,\n",
      " |          since the former invokes ``dtype(None)`` which is an alias for\n",
      " |          ``dtype('float_')``.\n",
      " |      \n",
      " |      Parameters\n",
      " |      ----------\n",
      " |      dtype : data-type or ndarray sub-class, optional\n",
      " |          Data-type descriptor of the returned view, e.g., float32 or int16.\n",
      " |          Omitting it results in the view having the same data-type as `a`.\n",
      " |          This argument can also be specified as an ndarray sub-class, which\n",
      " |          then specifies the type of the returned object (this is equivalent to\n",
      " |          setting the ``type`` parameter).\n",
      " |      type : Python type, optional\n",
      " |          Type of the returned view, e.g., ndarray or matrix.  Again, omission\n",
      " |          of the parameter results in type preservation.\n",
      " |      \n",
      " |      Notes\n",
      " |      -----\n",
      " |      ``a.view()`` is used two different ways:\n",
      " |      \n",
      " |      ``a.view(some_dtype)`` or ``a.view(dtype=some_dtype)`` constructs a view\n",
      " |      of the array's memory with a different data-type.  This can cause a\n",
      " |      reinterpretation of the bytes of memory.\n",
      " |      \n",
      " |      ``a.view(ndarray_subclass)`` or ``a.view(type=ndarray_subclass)`` just\n",
      " |      returns an instance of `ndarray_subclass` that looks at the same array\n",
      " |      (same shape, dtype, etc.)  This does not cause a reinterpretation of the\n",
      " |      memory.\n",
      " |      \n",
      " |      For ``a.view(some_dtype)``, if ``some_dtype`` has a different number of\n",
      " |      bytes per entry than the previous dtype (for example, converting a regular\n",
      " |      array to a structured array), then the last axis of ``a`` must be\n",
      " |      contiguous. This axis will be resized in the result.\n",
      " |      \n",
      " |      .. versionchanged:: 1.23.0\n",
      " |         Only the last axis needs to be contiguous. Previously, the entire array\n",
      " |         had to be C-contiguous.\n",
      " |      \n",
      " |      Examples\n",
      " |      --------\n",
      " |      >>> x = np.array([(1, 2)], dtype=[('a', np.int8), ('b', np.int8)])\n",
      " |      \n",
      " |      Viewing array data using a different type and dtype:\n",
      " |      \n",
      " |      >>> y = x.view(dtype=np.int16, type=np.matrix)\n",
      " |      >>> y\n",
      " |      matrix([[513]], dtype=int16)\n",
      " |      >>> print(type(y))\n",
      " |      <class 'numpy.matrix'>\n",
      " |      \n",
      " |      Creating a view on a structured array so it can be used in calculations\n",
      " |      \n",
      " |      >>> x = np.array([(1, 2),(3,4)], dtype=[('a', np.int8), ('b', np.int8)])\n",
      " |      >>> xv = x.view(dtype=np.int8).reshape(-1,2)\n",
      " |      >>> xv\n",
      " |      array([[1, 2],\n",
      " |             [3, 4]], dtype=int8)\n",
      " |      >>> xv.mean(0)\n",
      " |      array([2.,  3.])\n",
      " |      \n",
      " |      Making changes to the view changes the underlying array\n",
      " |      \n",
      " |      >>> xv[0,1] = 20\n",
      " |      >>> x\n",
      " |      array([(1, 20), (3,  4)], dtype=[('a', 'i1'), ('b', 'i1')])\n",
      " |      \n",
      " |      Using a view to convert an array to a recarray:\n",
      " |      \n",
      " |      >>> z = x.view(np.recarray)\n",
      " |      >>> z.a\n",
      " |      array([1, 3], dtype=int8)\n",
      " |      \n",
      " |      Views share data:\n",
      " |      \n",
      " |      >>> x[0] = (9, 10)\n",
      " |      >>> z[0]\n",
      " |      (9, 10)\n",
      " |      \n",
      " |      Views that change the dtype size (bytes per entry) should normally be\n",
      " |      avoided on arrays defined by slices, transposes, fortran-ordering, etc.:\n",
      " |      \n",
      " |      >>> x = np.array([[1, 2, 3], [4, 5, 6]], dtype=np.int16)\n",
      " |      >>> y = x[:, ::2]\n",
      " |      >>> y\n",
      " |      array([[1, 3],\n",
      " |             [4, 6]], dtype=int16)\n",
      " |      >>> y.view(dtype=[('width', np.int16), ('length', np.int16)])\n",
      " |      Traceback (most recent call last):\n",
      " |          ...\n",
      " |      ValueError: To change to a dtype of a different size, the last axis must be contiguous\n",
      " |      >>> z = y.copy()\n",
      " |      >>> z.view(dtype=[('width', np.int16), ('length', np.int16)])\n",
      " |      array([[(1, 3)],\n",
      " |             [(4, 6)]], dtype=[('width', '<i2'), ('length', '<i2')])\n",
      " |      \n",
      " |      However, views that change dtype are totally fine for arrays with a\n",
      " |      contiguous last axis, even if the rest of the axes are not C-contiguous:\n",
      " |      \n",
      " |      >>> x = np.arange(2 * 3 * 4, dtype=np.int8).reshape(2, 3, 4)\n",
      " |      >>> x.transpose(1, 0, 2).view(np.int16)\n",
      " |      array([[[ 256,  770],\n",
      " |              [3340, 3854]],\n",
      " |      <BLANKLINE>\n",
      " |             [[1284, 1798],\n",
      " |              [4368, 4882]],\n",
      " |      <BLANKLINE>\n",
      " |             [[2312, 2826],\n",
      " |              [5396, 5910]]], dtype=int16)\n",
      " |  \n",
      " |  ----------------------------------------------------------------------\n",
      " |  Class methods defined here:\n",
      " |  \n",
      " |  __class_getitem__(...) from builtins.type\n",
      " |      a.__class_getitem__(item, /)\n",
      " |      \n",
      " |      Return a parametrized wrapper around the `~numpy.ndarray` type.\n",
      " |      \n",
      " |      .. versionadded:: 1.22\n",
      " |      \n",
      " |      Returns\n",
      " |      -------\n",
      " |      alias : types.GenericAlias\n",
      " |          A parametrized `~numpy.ndarray` type.\n",
      " |      \n",
      " |      Examples\n",
      " |      --------\n",
      " |      >>> from typing import Any\n",
      " |      >>> import numpy as np\n",
      " |      \n",
      " |      >>> np.ndarray[Any, np.dtype[Any]]\n",
      " |      numpy.ndarray[typing.Any, numpy.dtype[typing.Any]]\n",
      " |      \n",
      " |      See Also\n",
      " |      --------\n",
      " |      :pep:`585` : Type hinting generics in standard collections.\n",
      " |      numpy.typing.NDArray : An ndarray alias :term:`generic <generic type>`\n",
      " |                          w.r.t. its `dtype.type <numpy.dtype.type>`.\n",
      " |  \n",
      " |  ----------------------------------------------------------------------\n",
      " |  Static methods defined here:\n",
      " |  \n",
      " |  __new__(*args, **kwargs) from builtins.type\n",
      " |      Create and return a new object.  See help(type) for accurate signature.\n",
      " |  \n",
      " |  ----------------------------------------------------------------------\n",
      " |  Data descriptors defined here:\n",
      " |  \n",
      " |  T\n",
      " |      View of the transposed array.\n",
      " |      \n",
      " |      Same as ``self.transpose()``.\n",
      " |      \n",
      " |      Examples\n",
      " |      --------\n",
      " |      >>> a = np.array([[1, 2], [3, 4]])\n",
      " |      >>> a\n",
      " |      array([[1, 2],\n",
      " |             [3, 4]])\n",
      " |      >>> a.T\n",
      " |      array([[1, 3],\n",
      " |             [2, 4]])\n",
      " |      \n",
      " |      >>> a = np.array([1, 2, 3, 4])\n",
      " |      >>> a\n",
      " |      array([1, 2, 3, 4])\n",
      " |      >>> a.T\n",
      " |      array([1, 2, 3, 4])\n",
      " |      \n",
      " |      See Also\n",
      " |      --------\n",
      " |      transpose\n",
      " |  \n",
      " |  __array_interface__\n",
      " |      Array protocol: Python side.\n",
      " |  \n",
      " |  __array_priority__\n",
      " |      Array priority.\n",
      " |  \n",
      " |  __array_struct__\n",
      " |      Array protocol: C-struct side.\n",
      " |  \n",
      " |  base\n",
      " |      Base object if memory is from some other object.\n",
      " |      \n",
      " |      Examples\n",
      " |      --------\n",
      " |      The base of an array that owns its memory is None:\n",
      " |      \n",
      " |      >>> x = np.array([1,2,3,4])\n",
      " |      >>> x.base is None\n",
      " |      True\n",
      " |      \n",
      " |      Slicing creates a view, whose memory is shared with x:\n",
      " |      \n",
      " |      >>> y = x[2:]\n",
      " |      >>> y.base is x\n",
      " |      True\n",
      " |  \n",
      " |  ctypes\n",
      " |      An object to simplify the interaction of the array with the ctypes\n",
      " |      module.\n",
      " |      \n",
      " |      This attribute creates an object that makes it easier to use arrays\n",
      " |      when calling shared libraries with the ctypes module. The returned\n",
      " |      object has, among others, data, shape, and strides attributes (see\n",
      " |      Notes below) which themselves return ctypes objects that can be used\n",
      " |      as arguments to a shared library.\n",
      " |      \n",
      " |      Parameters\n",
      " |      ----------\n",
      " |      None\n",
      " |      \n",
      " |      Returns\n",
      " |      -------\n",
      " |      c : Python object\n",
      " |          Possessing attributes data, shape, strides, etc.\n",
      " |      \n",
      " |      See Also\n",
      " |      --------\n",
      " |      numpy.ctypeslib\n",
      " |      \n",
      " |      Notes\n",
      " |      -----\n",
      " |      Below are the public attributes of this object which were documented\n",
      " |      in \"Guide to NumPy\" (we have omitted undocumented public attributes,\n",
      " |      as well as documented private attributes):\n",
      " |      \n",
      " |      .. autoattribute:: numpy.core._internal._ctypes.data\n",
      " |          :noindex:\n",
      " |      \n",
      " |      .. autoattribute:: numpy.core._internal._ctypes.shape\n",
      " |          :noindex:\n",
      " |      \n",
      " |      .. autoattribute:: numpy.core._internal._ctypes.strides\n",
      " |          :noindex:\n",
      " |      \n",
      " |      .. automethod:: numpy.core._internal._ctypes.data_as\n",
      " |          :noindex:\n",
      " |      \n",
      " |      .. automethod:: numpy.core._internal._ctypes.shape_as\n",
      " |          :noindex:\n",
      " |      \n",
      " |      .. automethod:: numpy.core._internal._ctypes.strides_as\n",
      " |          :noindex:\n",
      " |      \n",
      " |      If the ctypes module is not available, then the ctypes attribute\n",
      " |      of array objects still returns something useful, but ctypes objects\n",
      " |      are not returned and errors may be raised instead. In particular,\n",
      " |      the object will still have the ``as_parameter`` attribute which will\n",
      " |      return an integer equal to the data attribute.\n",
      " |      \n",
      " |      Examples\n",
      " |      --------\n",
      " |      >>> import ctypes\n",
      " |      >>> x = np.array([[0, 1], [2, 3]], dtype=np.int32)\n",
      " |      >>> x\n",
      " |      array([[0, 1],\n",
      " |             [2, 3]], dtype=int32)\n",
      " |      >>> x.ctypes.data\n",
      " |      31962608 # may vary\n",
      " |      >>> x.ctypes.data_as(ctypes.POINTER(ctypes.c_uint32))\n",
      " |      <__main__.LP_c_uint object at 0x7ff2fc1fc200> # may vary\n",
      " |      >>> x.ctypes.data_as(ctypes.POINTER(ctypes.c_uint32)).contents\n",
      " |      c_uint(0)\n",
      " |      >>> x.ctypes.data_as(ctypes.POINTER(ctypes.c_uint64)).contents\n",
      " |      c_ulong(4294967296)\n",
      " |      >>> x.ctypes.shape\n",
      " |      <numpy.core._internal.c_long_Array_2 object at 0x7ff2fc1fce60> # may vary\n",
      " |      >>> x.ctypes.strides\n",
      " |      <numpy.core._internal.c_long_Array_2 object at 0x7ff2fc1ff320> # may vary\n",
      " |  \n",
      " |  data\n",
      " |      Python buffer object pointing to the start of the array's data.\n",
      " |  \n",
      " |  dtype\n",
      " |      Data-type of the array's elements.\n",
      " |      \n",
      " |      .. warning::\n",
      " |      \n",
      " |          Setting ``arr.dtype`` is discouraged and may be deprecated in the\n",
      " |          future.  Setting will replace the ``dtype`` without modifying the\n",
      " |          memory (see also `ndarray.view` and `ndarray.astype`).\n",
      " |      \n",
      " |      Parameters\n",
      " |      ----------\n",
      " |      None\n",
      " |      \n",
      " |      Returns\n",
      " |      -------\n",
      " |      d : numpy dtype object\n",
      " |      \n",
      " |      See Also\n",
      " |      --------\n",
      " |      ndarray.astype : Cast the values contained in the array to a new data-type.\n",
      " |      ndarray.view : Create a view of the same data but a different data-type.\n",
      " |      numpy.dtype\n",
      " |      \n",
      " |      Examples\n",
      " |      --------\n",
      " |      >>> x\n",
      " |      array([[0, 1],\n",
      " |             [2, 3]])\n",
      " |      >>> x.dtype\n",
      " |      dtype('int32')\n",
      " |      >>> type(x.dtype)\n",
      " |      <type 'numpy.dtype'>\n",
      " |  \n",
      " |  flags\n",
      " |      Information about the memory layout of the array.\n",
      " |      \n",
      " |      Attributes\n",
      " |      ----------\n",
      " |      C_CONTIGUOUS (C)\n",
      " |          The data is in a single, C-style contiguous segment.\n",
      " |      F_CONTIGUOUS (F)\n",
      " |          The data is in a single, Fortran-style contiguous segment.\n",
      " |      OWNDATA (O)\n",
      " |          The array owns the memory it uses or borrows it from another object.\n",
      " |      WRITEABLE (W)\n",
      " |          The data area can be written to.  Setting this to False locks\n",
      " |          the data, making it read-only.  A view (slice, etc.) inherits WRITEABLE\n",
      " |          from its base array at creation time, but a view of a writeable\n",
      " |          array may be subsequently locked while the base array remains writeable.\n",
      " |          (The opposite is not true, in that a view of a locked array may not\n",
      " |          be made writeable.  However, currently, locking a base object does not\n",
      " |          lock any views that already reference it, so under that circumstance it\n",
      " |          is possible to alter the contents of a locked array via a previously\n",
      " |          created writeable view onto it.)  Attempting to change a non-writeable\n",
      " |          array raises a RuntimeError exception.\n",
      " |      ALIGNED (A)\n",
      " |          The data and all elements are aligned appropriately for the hardware.\n",
      " |      WRITEBACKIFCOPY (X)\n",
      " |          This array is a copy of some other array. The C-API function\n",
      " |          PyArray_ResolveWritebackIfCopy must be called before deallocating\n",
      " |          to the base array will be updated with the contents of this array.\n",
      " |      FNC\n",
      " |          F_CONTIGUOUS and not C_CONTIGUOUS.\n",
      " |      FORC\n",
      " |          F_CONTIGUOUS or C_CONTIGUOUS (one-segment test).\n",
      " |      BEHAVED (B)\n",
      " |          ALIGNED and WRITEABLE.\n",
      " |      CARRAY (CA)\n",
      " |          BEHAVED and C_CONTIGUOUS.\n",
      " |      FARRAY (FA)\n",
      " |          BEHAVED and F_CONTIGUOUS and not C_CONTIGUOUS.\n",
      " |      \n",
      " |      Notes\n",
      " |      -----\n",
      " |      The `flags` object can be accessed dictionary-like (as in ``a.flags['WRITEABLE']``),\n",
      " |      or by using lowercased attribute names (as in ``a.flags.writeable``). Short flag\n",
      " |      names are only supported in dictionary access.\n",
      " |      \n",
      " |      Only the WRITEBACKIFCOPY, WRITEABLE, and ALIGNED flags can be\n",
      " |      changed by the user, via direct assignment to the attribute or dictionary\n",
      " |      entry, or by calling `ndarray.setflags`.\n",
      " |      \n",
      " |      The array flags cannot be set arbitrarily:\n",
      " |      \n",
      " |      - WRITEBACKIFCOPY can only be set ``False``.\n",
      " |      - ALIGNED can only be set ``True`` if the data is truly aligned.\n",
      " |      - WRITEABLE can only be set ``True`` if the array owns its own memory\n",
      " |        or the ultimate owner of the memory exposes a writeable buffer\n",
      " |        interface or is a string.\n",
      " |      \n",
      " |      Arrays can be both C-style and Fortran-style contiguous simultaneously.\n",
      " |      This is clear for 1-dimensional arrays, but can also be true for higher\n",
      " |      dimensional arrays.\n",
      " |      \n",
      " |      Even for contiguous arrays a stride for a given dimension\n",
      " |      ``arr.strides[dim]`` may be *arbitrary* if ``arr.shape[dim] == 1``\n",
      " |      or the array has no elements.\n",
      " |      It does *not* generally hold that ``self.strides[-1] == self.itemsize``\n",
      " |      for C-style contiguous arrays or ``self.strides[0] == self.itemsize`` for\n",
      " |      Fortran-style contiguous arrays is true.\n",
      " |  \n",
      " |  flat\n",
      " |      A 1-D iterator over the array.\n",
      " |      \n",
      " |      This is a `numpy.flatiter` instance, which acts similarly to, but is not\n",
      " |      a subclass of, Python's built-in iterator object.\n",
      " |      \n",
      " |      See Also\n",
      " |      --------\n",
      " |      flatten : Return a copy of the array collapsed into one dimension.\n",
      " |      \n",
      " |      flatiter\n",
      " |      \n",
      " |      Examples\n",
      " |      --------\n",
      " |      >>> x = np.arange(1, 7).reshape(2, 3)\n",
      " |      >>> x\n",
      " |      array([[1, 2, 3],\n",
      " |             [4, 5, 6]])\n",
      " |      >>> x.flat[3]\n",
      " |      4\n",
      " |      >>> x.T\n",
      " |      array([[1, 4],\n",
      " |             [2, 5],\n",
      " |             [3, 6]])\n",
      " |      >>> x.T.flat[3]\n",
      " |      5\n",
      " |      >>> type(x.flat)\n",
      " |      <class 'numpy.flatiter'>\n",
      " |      \n",
      " |      An assignment example:\n",
      " |      \n",
      " |      >>> x.flat = 3; x\n",
      " |      array([[3, 3, 3],\n",
      " |             [3, 3, 3]])\n",
      " |      >>> x.flat[[1,4]] = 1; x\n",
      " |      array([[3, 1, 3],\n",
      " |             [3, 1, 3]])\n",
      " |  \n",
      " |  imag\n",
      " |      The imaginary part of the array.\n",
      " |      \n",
      " |      Examples\n",
      " |      --------\n",
      " |      >>> x = np.sqrt([1+0j, 0+1j])\n",
      " |      >>> x.imag\n",
      " |      array([ 0.        ,  0.70710678])\n",
      " |      >>> x.imag.dtype\n",
      " |      dtype('float64')\n",
      " |  \n",
      " |  itemsize\n",
      " |      Length of one array element in bytes.\n",
      " |      \n",
      " |      Examples\n",
      " |      --------\n",
      " |      >>> x = np.array([1,2,3], dtype=np.float64)\n",
      " |      >>> x.itemsize\n",
      " |      8\n",
      " |      >>> x = np.array([1,2,3], dtype=np.complex128)\n",
      " |      >>> x.itemsize\n",
      " |      16\n",
      " |  \n",
      " |  nbytes\n",
      " |      Total bytes consumed by the elements of the array.\n",
      " |      \n",
      " |      Notes\n",
      " |      -----\n",
      " |      Does not include memory consumed by non-element attributes of the\n",
      " |      array object.\n",
      " |      \n",
      " |      See Also\n",
      " |      --------\n",
      " |      sys.getsizeof\n",
      " |          Memory consumed by the object itself without parents in case view.\n",
      " |          This does include memory consumed by non-element attributes.\n",
      " |      \n",
      " |      Examples\n",
      " |      --------\n",
      " |      >>> x = np.zeros((3,5,2), dtype=np.complex128)\n",
      " |      >>> x.nbytes\n",
      " |      480\n",
      " |      >>> np.prod(x.shape) * x.itemsize\n",
      " |      480\n",
      " |  \n",
      " |  ndim\n",
      " |      Number of array dimensions.\n",
      " |      \n",
      " |      Examples\n",
      " |      --------\n",
      " |      >>> x = np.array([1, 2, 3])\n",
      " |      >>> x.ndim\n",
      " |      1\n",
      " |      >>> y = np.zeros((2, 3, 4))\n",
      " |      >>> y.ndim\n",
      " |      3\n",
      " |  \n",
      " |  real\n",
      " |      The real part of the array.\n",
      " |      \n",
      " |      Examples\n",
      " |      --------\n",
      " |      >>> x = np.sqrt([1+0j, 0+1j])\n",
      " |      >>> x.real\n",
      " |      array([ 1.        ,  0.70710678])\n",
      " |      >>> x.real.dtype\n",
      " |      dtype('float64')\n",
      " |      \n",
      " |      See Also\n",
      " |      --------\n",
      " |      numpy.real : equivalent function\n",
      " |  \n",
      " |  shape\n",
      " |      Tuple of array dimensions.\n",
      " |      \n",
      " |      The shape property is usually used to get the current shape of an array,\n",
      " |      but may also be used to reshape the array in-place by assigning a tuple of\n",
      " |      array dimensions to it.  As with `numpy.reshape`, one of the new shape\n",
      " |      dimensions can be -1, in which case its value is inferred from the size of\n",
      " |      the array and the remaining dimensions. Reshaping an array in-place will\n",
      " |      fail if a copy is required.\n",
      " |      \n",
      " |      .. warning::\n",
      " |      \n",
      " |          Setting ``arr.shape`` is discouraged and may be deprecated in the\n",
      " |          future.  Using `ndarray.reshape` is the preferred approach.\n",
      " |      \n",
      " |      Examples\n",
      " |      --------\n",
      " |      >>> x = np.array([1, 2, 3, 4])\n",
      " |      >>> x.shape\n",
      " |      (4,)\n",
      " |      >>> y = np.zeros((2, 3, 4))\n",
      " |      >>> y.shape\n",
      " |      (2, 3, 4)\n",
      " |      >>> y.shape = (3, 8)\n",
      " |      >>> y\n",
      " |      array([[ 0.,  0.,  0.,  0.,  0.,  0.,  0.,  0.],\n",
      " |             [ 0.,  0.,  0.,  0.,  0.,  0.,  0.,  0.],\n",
      " |             [ 0.,  0.,  0.,  0.,  0.,  0.,  0.,  0.]])\n",
      " |      >>> y.shape = (3, 6)\n",
      " |      Traceback (most recent call last):\n",
      " |        File \"<stdin>\", line 1, in <module>\n",
      " |      ValueError: total size of new array must be unchanged\n",
      " |      >>> np.zeros((4,2))[::2].shape = (-1,)\n",
      " |      Traceback (most recent call last):\n",
      " |        File \"<stdin>\", line 1, in <module>\n",
      " |      AttributeError: Incompatible shape for in-place modification. Use\n",
      " |      `.reshape()` to make a copy with the desired shape.\n",
      " |      \n",
      " |      See Also\n",
      " |      --------\n",
      " |      numpy.shape : Equivalent getter function.\n",
      " |      numpy.reshape : Function similar to setting ``shape``.\n",
      " |      ndarray.reshape : Method similar to setting ``shape``.\n",
      " |  \n",
      " |  size\n",
      " |      Number of elements in the array.\n",
      " |      \n",
      " |      Equal to ``np.prod(a.shape)``, i.e., the product of the array's\n",
      " |      dimensions.\n",
      " |      \n",
      " |      Notes\n",
      " |      -----\n",
      " |      `a.size` returns a standard arbitrary precision Python integer. This\n",
      " |      may not be the case with other methods of obtaining the same value\n",
      " |      (like the suggested ``np.prod(a.shape)``, which returns an instance\n",
      " |      of ``np.int_``), and may be relevant if the value is used further in\n",
      " |      calculations that may overflow a fixed size integer type.\n",
      " |      \n",
      " |      Examples\n",
      " |      --------\n",
      " |      >>> x = np.zeros((3, 5, 2), dtype=np.complex128)\n",
      " |      >>> x.size\n",
      " |      30\n",
      " |      >>> np.prod(x.shape)\n",
      " |      30\n",
      " |  \n",
      " |  strides\n",
      " |      Tuple of bytes to step in each dimension when traversing an array.\n",
      " |      \n",
      " |      The byte offset of element ``(i[0], i[1], ..., i[n])`` in an array `a`\n",
      " |      is::\n",
      " |      \n",
      " |          offset = sum(np.array(i) * a.strides)\n",
      " |      \n",
      " |      A more detailed explanation of strides can be found in the\n",
      " |      \"ndarray.rst\" file in the NumPy reference guide.\n",
      " |      \n",
      " |      .. warning::\n",
      " |      \n",
      " |          Setting ``arr.strides`` is discouraged and may be deprecated in the\n",
      " |          future.  `numpy.lib.stride_tricks.as_strided` should be preferred\n",
      " |          to create a new view of the same data in a safer way.\n",
      " |      \n",
      " |      Notes\n",
      " |      -----\n",
      " |      Imagine an array of 32-bit integers (each 4 bytes)::\n",
      " |      \n",
      " |        x = np.array([[0, 1, 2, 3, 4],\n",
      " |                      [5, 6, 7, 8, 9]], dtype=np.int32)\n",
      " |      \n",
      " |      This array is stored in memory as 40 bytes, one after the other\n",
      " |      (known as a contiguous block of memory).  The strides of an array tell\n",
      " |      us how many bytes we have to skip in memory to move to the next position\n",
      " |      along a certain axis.  For example, we have to skip 4 bytes (1 value) to\n",
      " |      move to the next column, but 20 bytes (5 values) to get to the same\n",
      " |      position in the next row.  As such, the strides for the array `x` will be\n",
      " |      ``(20, 4)``.\n",
      " |      \n",
      " |      See Also\n",
      " |      --------\n",
      " |      numpy.lib.stride_tricks.as_strided\n",
      " |      \n",
      " |      Examples\n",
      " |      --------\n",
      " |      >>> y = np.reshape(np.arange(2*3*4), (2,3,4))\n",
      " |      >>> y\n",
      " |      array([[[ 0,  1,  2,  3],\n",
      " |              [ 4,  5,  6,  7],\n",
      " |              [ 8,  9, 10, 11]],\n",
      " |             [[12, 13, 14, 15],\n",
      " |              [16, 17, 18, 19],\n",
      " |              [20, 21, 22, 23]]])\n",
      " |      >>> y.strides\n",
      " |      (48, 16, 4)\n",
      " |      >>> y[1,1,1]\n",
      " |      17\n",
      " |      >>> offset=sum(y.strides * np.array((1,1,1)))\n",
      " |      >>> offset/y.itemsize\n",
      " |      17\n",
      " |      \n",
      " |      >>> x = np.reshape(np.arange(5*6*7*8), (5,6,7,8)).transpose(2,3,1,0)\n",
      " |      >>> x.strides\n",
      " |      (32, 4, 224, 1344)\n",
      " |      >>> i = np.array([3,5,2,2])\n",
      " |      >>> offset = sum(i * x.strides)\n",
      " |      >>> x[3,5,2,2]\n",
      " |      813\n",
      " |      >>> offset / x.itemsize\n",
      " |      813\n",
      " |  \n",
      " |  ----------------------------------------------------------------------\n",
      " |  Data and other attributes defined here:\n",
      " |  \n",
      " |  __hash__ = None\n",
      "\n"
     ]
    }
   ],
   "source": [
    "help(np.random.randint(5,10,(3,2)))"
   ]
  },
  {
   "cell_type": "markdown",
   "id": "b5270c62-fb0b-4087-a756-ac75dbe2ecd5",
   "metadata": {},
   "source": [
    "ここから、例えば、np.random.radient(5)とすると、0〜4までの整数の乱数が1\n",
    "つ生成されるこ、、np.random.randint(5,10,(3,2))とすば、\n",
    "整数の乱数を成分に持つ3×2の行列が生成されること、などの使方がわかり ります。"
   ]
  },
  {
   "cell_type": "markdown",
   "id": "3f4627a5-43e4-42c0-9cbe-f4394a65779d",
   "metadata": {},
   "source": [
    "# 2.15 関数"
   ]
  },
  {
   "cell_type": "markdown",
   "id": "c21c73c1-56e8-48c6-b9d4-038d873ebe85",
   "metadata": {},
   "source": [
    "2.15.1 関数の利用"
   ]
  },
  {
   "cell_type": "markdown",
   "id": "9813eb75-df0d-40bf-8c95-7c52a55095d5",
   "metadata": {},
   "source": [
    "プログラムの一部を関数としてまとめることができます。何度も使う繰り返しのコードは関数数にしてしまうと便利です。本書でも関数を多用します。関数、def 関数名():O:から始まり、その内容をインデントして記述し定義しま実行は、関数名()た\n",
    "名()です。"
   ]
  },
  {
   "cell_type": "code",
   "execution_count": 113,
   "id": "a565696f-6751-4f80-9cf7-8d866b1b1fa5",
   "metadata": {},
   "outputs": [
    {
     "name": "stdout",
     "output_type": "stream",
     "text": [
      "Hi!\n"
     ]
    }
   ],
   "source": [
    "def my_func1():\n",
    "    print('Hi!')\n",
    "# 関数 my_func1()の定義はここまで\n",
    "my_func1() #関数を実行"
   ]
  },
  {
   "cell_type": "code",
   "execution_count": 114,
   "id": "ab8b4011",
   "metadata": {},
   "outputs": [
    {
     "name": "stdout",
     "output_type": "stream",
     "text": [
      "Hello!\n"
     ]
    }
   ],
   "source": [
    "def my_func2():\n",
    "    print('Hello!')\n",
    "my_func2()"
   ]
  },
  {
   "cell_type": "code",
   "execution_count": 115,
   "id": "1cf74dbd",
   "metadata": {},
   "outputs": [
    {
     "name": "stdout",
     "output_type": "stream",
     "text": [
      "Good bye\n"
     ]
    }
   ],
   "source": [
    "def func_3():\n",
    "    print('Good bye')\n",
    "func_3()"
   ]
  },
  {
   "cell_type": "markdown",
   "id": "eef28c34-8285-4a77-809d-dd6247be762a",
   "metadata": {},
   "source": [
    "関数に値a、bを渡したい場合には、def 関数名(a,b):のようにします。出力したい場合合には、returnの後にその変数名を書きます。例えば、以下のよになります。ぃ"
   ]
  },
  {
   "cell_type": "code",
   "execution_count": 116,
   "id": "4bf3a848-af7f-4e0e-b299-7bb26b1f4a45",
   "metadata": {},
   "outputs": [
    {
     "data": {
      "text/plain": [
       "3"
      ]
     },
     "execution_count": 116,
     "metadata": {},
     "output_type": "execute_result"
    }
   ],
   "source": [
    "def my_func2(a, b):\n",
    "    c = a + b\n",
    "    return c\n",
    "\n",
    "\n",
    "my_func2(1, 2)"
   ]
  },
  {
   "cell_type": "code",
   "execution_count": 117,
   "id": "899323b7",
   "metadata": {},
   "outputs": [
    {
     "data": {
      "text/plain": [
       "-3"
      ]
     },
     "execution_count": 117,
     "metadata": {},
     "output_type": "execute_result"
    }
   ],
   "source": [
    "def my_func4(a,b,c):\n",
    "    d = (a - b) * c\n",
    "    return d\n",
    "my_func4(1,2,3)"
   ]
  },
  {
   "cell_type": "code",
   "execution_count": 118,
   "id": "1287cf32",
   "metadata": {},
   "outputs": [
    {
     "data": {
      "text/plain": [
       "2.5"
      ]
     },
     "execution_count": 118,
     "metadata": {},
     "output_type": "execute_result"
    }
   ],
   "source": [
    "def my_func5(a,b,c,d):\n",
    "    e = a + b * c / d\n",
    "    return e\n",
    "my_func5(1,2,3,4)"
   ]
  },
  {
   "cell_type": "markdown",
   "id": "2007a9de-5148-4077-9dce-ad6dcfd736f7",
   "metadata": {},
   "source": [
    "2.15.2 引数と戻り値"
   ]
  },
  {
   "cell_type": "markdown",
   "id": "91627bfa-71dd-450c-9102-9737f87efe9e",
   "metadata": {},
   "source": [
    "関数に渡す変数を引数(ひきすう)と言います。関数の出力を戻り値と言います。\n",
    "ど\n",
    "んな型でも引数や戻り値にできます。また戻り値も複数定義できす。例えば、何\n",
    "らかのデータを1次元のndarray型で関数に渡して、その平均標準偏差を出標 力する関数を作ります。"
   ]
  },
  {
   "cell_type": "code",
   "execution_count": 119,
   "id": "3d0ba842-5e29-4042-b913-3bd6ebafc289",
   "metadata": {},
   "outputs": [],
   "source": [
    "def my_func3(D):\n",
    "    m = np.mean(D)\n",
    "    s = np.std(D)\n",
    "    return m, s"
   ]
  },
  {
   "cell_type": "code",
   "execution_count": 120,
   "id": "8efa68f2",
   "metadata": {},
   "outputs": [],
   "source": [
    "def my_func3(D):\n",
    "    m = np.mean(D)\n",
    "    s = np.std(D)\n",
    "    return m, s"
   ]
  },
  {
   "cell_type": "markdown",
   "id": "b172d9d4-8026-45d5-bd55-1c604ffe510e",
   "metadata": {},
   "source": [
    "np.mean(D)、np.std(D)はnumpyで定義される関数で、Dの平均と標準偏差を\n",
    "出力します。複数の出力は、return m,sと変数間を\",\"で区切って記述します。\n",
    "乱数のデータを準備して、この関数を使い、結果を表示してみましょう。乱数のす\n",
    "で実行のたびに結果は変わります。"
   ]
  },
  {
   "cell_type": "code",
   "execution_count": 121,
   "id": "2f0f52bd-6521-4392-ac70-bf9d2bf2c223",
   "metadata": {},
   "outputs": [
    {
     "name": "stdout",
     "output_type": "stream",
     "text": [
      "mean:-0.06, std:0.98\n"
     ]
    }
   ],
   "source": [
    "data=np.random.randn(100)\n",
    "data_mean, data_std = my_func3(data)\n",
    "print('mean:{0:3.2f}, std:{1:3.2f}'.format(data_mean, data_std))"
   ]
  },
  {
   "cell_type": "code",
   "execution_count": 122,
   "id": "9021f846",
   "metadata": {},
   "outputs": [
    {
     "name": "stdout",
     "output_type": "stream",
     "text": [
      "mean:0.02, std:1.10\n"
     ]
    }
   ],
   "source": [
    "data=np.random.randn(100)\n",
    "data_mean, data_std = my_func3(data)\n",
    "print('mean:{0:3.2f}, std:{1:3.2f}'.format(data_mean, data_std))"
   ]
  },
  {
   "cell_type": "markdown",
   "id": "03abe27c-ddc5-4a86-baf9-19711b49d03f",
   "metadata": {},
   "source": [
    "複数の戻り値の受け取り方は、data_mean,data_std = my_func3(data)と、\",\"で区切って記述します。\n",
    "戻り値直が複数でも、1つの変数で受けることができます。この場合戻り値はtup\n",
    "le型となり、それぞれの要素に関数の戻り値が格納されます。乱数ので実行のたびに結果は変わります。です"
   ]
  },
  {
   "cell_type": "code",
   "execution_count": 123,
   "id": "9af39623-2eb7-4114-b0c3-74016c30fc17",
   "metadata": {},
   "outputs": [
    {
     "name": "stdout",
     "output_type": "stream",
     "text": [
      "(0.015102434804341919, 1.0977531811342722)\n",
      "<class 'tuple'>\n",
      "mean:0.02, std:1.10\n"
     ]
    }
   ],
   "source": [
    "output = my_func3(data)\n",
    "print(output)\n",
    "print(type(output))\n",
    "print('mean:{0:3.2f}, std:{1:3.2f}'.format(output[0], output[1]))"
   ]
  },
  {
   "cell_type": "code",
   "execution_count": 126,
   "id": "40184d7e",
   "metadata": {},
   "outputs": [
    {
     "name": "stdout",
     "output_type": "stream",
     "text": [
      "(-0.402491673407156, 0.9655870610920702)\n",
      "<class 'tuple'>\n",
      "mean:-0.40, std:0.97\n"
     ]
    }
   ],
   "source": [
    "output = my_func3(data)\n",
    "print(output)\n",
    "print(type(output))\n",
    "print('mean:{0:3.2f}, std:{1:3.2f}'.format(output[0], output[1]))"
   ]
  },
  {
   "cell_type": "markdown",
   "id": "7643f3c3-e4e7-4a4d-8678-b09a52b65a03",
   "metadata": {},
   "source": [
    "# 2.16 ファイル保存"
   ]
  },
  {
   "cell_type": "markdown",
   "id": "7c7a4129-4301-4ff9-bf96-fd9a61bb32ad",
   "metadata": {},
   "source": [
    "2.16.1 1つのndarry型の保存"
   ]
  },
  {
   "cell_type": "markdown",
   "id": "09a14a53-7c4f-4535-9590-df9f33679f91",
   "metadata": {},
   "source": [
    "1つのndarray型をファイルに保存するには、p.save('ファイル名.npy', 変数名)を使います。ファイルの拡張子は、.npyです(乱数ですので実行のたびに結果は変わります)。"
   ]
  },
  {
   "cell_type": "code",
   "execution_count": 124,
   "id": "2890f26e-ddfd-4266-adaa-eb06ac2a1859",
   "metadata": {},
   "outputs": [
    {
     "name": "stdout",
     "output_type": "stream",
     "text": [
      "[ 1.41593648 -0.78320973 -0.39875053 -0.83059139 -1.4158432 ]\n",
      "[]\n",
      "[ 1.41593648 -0.78320973 -0.39875053 -0.83059139 -1.4158432 ]\n"
     ]
    }
   ],
   "source": [
    "data = np.random.randn(5)\n",
    "print(data)\n",
    "np.save('datafile.npy', data)  # セーブ\n",
    "data = []                      # データの消去\n",
    "print(data)\n",
    "data = np.load('datafile.npy') # ロード\n",
    "print(data)"
   ]
  },
  {
   "cell_type": "code",
   "execution_count": 127,
   "id": "13acbe1e",
   "metadata": {},
   "outputs": [
    {
     "name": "stdout",
     "output_type": "stream",
     "text": [
      "[ 0.76954066  0.31671557 -0.1098119   0.45021091  0.74646588]\n",
      "[]\n",
      "[ 0.76954066  0.31671557 -0.1098119   0.45021091  0.74646588]\n"
     ]
    }
   ],
   "source": [
    "data = np.random.randn(5)\n",
    "print(data)\n",
    "np.save('datafile.npy', data)  # セーブ\n",
    "data = []                      # データの消去\n",
    "print(data)\n",
    "data = np.load('datafile.npy') # ロード\n",
    "print(data)"
   ]
  },
  {
   "cell_type": "markdown",
   "id": "d4fd4c79-f157-4ca4-8a94-4f47fd8f76e5",
   "metadata": {},
   "source": [
    "読み出しは、np.load('ファイル名.npy')です。"
   ]
  },
  {
   "cell_type": "markdown",
   "id": "b8f0241c-803e-4b33-a93f-f908d08c0189",
   "metadata": {},
   "source": [
    "2.16.2 複数のndarray型の保存"
   ]
  },
  {
   "cell_type": "markdown",
   "id": "c0dc26a6-6051-40a3-991a-6dbd00610067",
   "metadata": {},
   "source": [
    "複数のndarray型を保存するには、np.savez('ファイル名.npz', 変数名1=変数名1, 変数名2=変数名2,⋯)を使います。"
   ]
  },
  {
   "cell_type": "code",
   "execution_count": 125,
   "id": "955807be-245b-4f91-95df-0d6339368b61",
   "metadata": {},
   "outputs": [
    {
     "name": "stdout",
     "output_type": "stream",
     "text": [
      "['data1', 'data2']\n",
      "[1 2 3]\n",
      "[10 20 30]\n"
     ]
    }
   ],
   "source": [
    "data1 = np.array([1,2,3])\n",
    "data2 = np.array([10,20,30])\n",
    "np.savez('datafile2.npz', data1=data1, data2=data2) # セーブ\n",
    "data1 = [] # データの消去\n",
    "data2 = []\n",
    "outfile = np.load('datafile2.npz') # ロード\n",
    "print(outfile.files) # 格納しているデータの表示\n",
    "data1 = outfile['data1'] # data1の取り出し\n",
    "data2 = outfile['data2'] # data2の取り出し\n",
    "print(data1)\n",
    "print(data2)"
   ]
  },
  {
   "cell_type": "markdown",
   "id": "8f3d2e7a-ca8f-4817-b40d-05f4512c76e3",
   "metadata": {},
   "source": [
    "データをnp.loadでロードすると、保存したすべての変数がoutfile に格納され、outf\n",
    "ile'\"変数'名]によって、それぞれの変数を参照するこができます。\n",
    "outfi\n",
    "le.filesで格納してある変数のリストを見ることきます。pz\""
   ]
  },
  {
   "cell_type": "code",
   "execution_count": 128,
   "id": "dfb73f6d-fe01-44b4-bc6e-84525d3b94ef",
   "metadata": {},
   "outputs": [
    {
     "name": "stdout",
     "output_type": "stream",
     "text": [
      "['data1', 'data2']\n",
      "[1 2 3]\n",
      "[10 20 30]\n"
     ]
    }
   ],
   "source": [
    "data1 = np.array([1,2,3])\n",
    "data2 = np.array([10,20,30])\n",
    "np.savez('datafile2.npz', data1=data1, data2=data2) # セーブ\n",
    "data1 = [] # データの消去\n",
    "data2 = []\n",
    "outfile = np.load('datafile2.npz') # ロード\n",
    "print(outfile.files) # 格納しているデータの表示\n",
    "data1 = outfile['data1'] # data1の取り出し\n",
    "data2 = outfile['data2'] # data2の取り出し\n",
    "print(data1)\n",
    "print(data2)"
   ]
  },
  {
   "cell_type": "markdown",
   "id": "ab9665e8",
   "metadata": {},
   "source": [
    "# うるう年判定プログラム"
   ]
  },
  {
   "cell_type": "code",
   "execution_count": 135,
   "id": "5b538bb4",
   "metadata": {},
   "outputs": [
    {
     "name": "stdout",
     "output_type": "stream",
     "text": [
      "Once deleted, variables cannot be recovered. Proceed (y/[n])? \n",
      "Nothing done.\n"
     ]
    }
   ],
   "source": [
    "%reset"
   ]
  },
  {
   "cell_type": "code",
   "execution_count": 140,
   "id": "6abd0536",
   "metadata": {},
   "outputs": [
    {
     "name": "stdout",
     "output_type": "stream",
     "text": [
      "西暦年を入力して下さい：2000\n",
      "2000年は閏年です。\n"
     ]
    }
   ],
   "source": [
    "if __name__ == \"__main__\":\n",
    "\n",
    "    # 値を入力させる\n",
    "    input_num = input(\"西暦年を入力して下さい：\")\n",
    "    year = int(input_num)\n",
    "\n",
    "    # 条件式に従い、閏年の判定を行う\n",
    "    if year%4==0:\n",
    "        if year%100==0:\n",
    "            if year%400==0:\n",
    "                print(\"{}年は閏年です。\".format(year))\n",
    "            else:\n",
    "                print(\"{}年は閏年ではありません。\".format(year))\n",
    "        else:\n",
    "            print(\"{}年は閏年です。\".format(year))\n",
    "    else:\n",
    "        print(\"{}年は閏年ではありません。\".format(year))"
   ]
  },
  {
   "cell_type": "code",
   "execution_count": 139,
   "id": "f513fbf7",
   "metadata": {},
   "outputs": [
    {
     "name": "stdout",
     "output_type": "stream",
     "text": [
      "西暦年を入力して下さい：2020\n",
      "2020年は閏年です。\n"
     ]
    }
   ],
   "source": [
    "if __name__ == \"__main__\":\n",
    "\n",
    "    # 値を入力させる\n",
    "    input_num = input(\"西暦年を入力して下さい：\")\n",
    "    year = int(input_num)\n",
    "\n",
    "    # 条件式に従い、閏年の判定を行う\n",
    "    if year%400==0 or ( year%4==0 and year%100!=0 ):\n",
    "        print(\"{}年は閏年です。\".format(year))\n",
    "    else:\n",
    "        print(\"{}年は閏年ではありません。\".format(year))"
   ]
  },
  {
   "cell_type": "markdown",
   "id": "a036ac2e",
   "metadata": {},
   "source": [
    "・完成版"
   ]
  },
  {
   "cell_type": "code",
   "execution_count": 144,
   "id": "bd0a6749",
   "metadata": {},
   "outputs": [
    {
     "name": "stdout",
     "output_type": "stream",
     "text": [
      "False\n"
     ]
    }
   ],
   "source": [
    "def is_leap_year(year):\n",
    "    if year % 400 == 0:\n",
    "        return True\n",
    "    elif year % 100 == 0:\n",
    "        return False\n",
    "    elif year % 4 == 0:\n",
    "        return True\n",
    "    else:\n",
    "        return False\n",
    "\n",
    "print(is_leap_year(2021))"
   ]
  },
  {
   "cell_type": "markdown",
   "id": "6a8299f7",
   "metadata": {},
   "source": [
    "# 線形連立方程式を解くプログラム"
   ]
  },
  {
   "cell_type": "code",
   "execution_count": 146,
   "id": "be55010d",
   "metadata": {},
   "outputs": [],
   "source": [
    "def dainyu_kai(a, b, c, d, A1, A2):\n",
    "  determinant = a * d - b * c\n",
    "  if determinant != 0:\n",
    "    x = (A1 * d - A2 * b) / (a * d - c *b)\n",
    "    y = (A1 * c - A2 * a) / (b * c - d * a)\n",
    "    print(x, y)\n",
    "  else:\n",
    "    if c/a == A1 / A2:\n",
    "      print('解が複数存在します')\n",
    "    else:\n",
    "      print('解が存在しません')"
   ]
  },
  {
   "cell_type": "code",
   "execution_count": 147,
   "id": "f09f4c11",
   "metadata": {},
   "outputs": [
    {
     "name": "stdout",
     "output_type": "stream",
     "text": [
      "x = [ 3. -6.  5.]\n"
     ]
    }
   ],
   "source": [
    "import numpy as np\n",
    " \n",
    "# 係数行列とベクトルの用意\n",
    "A = np.array([[4,  3,  2],\n",
    "              [2, -1, -2],\n",
    "              [1,  5,  6]])\n",
    " \n",
    "b = np.array([4, 2, 3])\n",
    " \n",
    "# 求解\n",
    "x = np.linalg.solve(A, b)\n",
    "print(f\"x = {x}\")\n",
    "# x = [ 3. -6.  5.]"
   ]
  },
  {
   "cell_type": "code",
   "execution_count": null,
   "id": "c58ba64d",
   "metadata": {},
   "outputs": [],
   "source": []
  }
 ],
 "metadata": {
  "kernelspec": {
   "display_name": "Python 3 (ipykernel)",
   "language": "python",
   "name": "python3"
  },
  "language_info": {
   "codemirror_mode": {
    "name": "ipython",
    "version": 3
   },
   "file_extension": ".py",
   "mimetype": "text/x-python",
   "name": "python",
   "nbconvert_exporter": "python",
   "pygments_lexer": "ipython3",
   "version": "3.11.7"
  }
 },
 "nbformat": 4,
 "nbformat_minor": 5
}
